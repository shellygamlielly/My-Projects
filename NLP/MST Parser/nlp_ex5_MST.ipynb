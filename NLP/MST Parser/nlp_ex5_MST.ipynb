{
  "nbformat": 4,
  "nbformat_minor": 0,
  "metadata": {
    "colab": {
      "name": "nlp ex5 MST.ipynb",
      "provenance": [],
      "collapsed_sections": [],
      "toc_visible": true
    },
    "kernelspec": {
      "name": "python3",
      "display_name": "Python 3"
    }
  },
  "cells": [
    {
      "cell_type": "markdown",
      "metadata": {
        "id": "rLe5v3w319KK"
      },
      "source": [
        "# MST Parser"
      ]
    },
    {
      "cell_type": "code",
      "metadata": {
        "id": "IiXA-hNMB5N5"
      },
      "source": [
        "import random\r\n",
        "import nltk\r\n",
        "from nltk.corpus import dependency_treebank\r\n",
        "import numpy as np\r\n",
        "import random"
      ],
      "execution_count": null,
      "outputs": []
    },
    {
      "cell_type": "markdown",
      "metadata": {
        "id": "XYTyS8uS2FeR"
      },
      "source": [
        "Use the NLTK toolkit for importing the dependency_treebank (using the commands: nltk.download()"
      ]
    },
    {
      "cell_type": "code",
      "metadata": {
        "colab": {
          "base_uri": "https://localhost:8080/"
        },
        "id": "Fk7zE5BA26X9",
        "outputId": "954a3f16-fced-42ba-cdd0-77d72ea886d8"
      },
      "source": [
        "nltk.download('dependency_treebank')"
      ],
      "execution_count": null,
      "outputs": [
        {
          "output_type": "stream",
          "text": [
            "[nltk_data] Downloading package dependency_treebank to\n",
            "[nltk_data]     /root/nltk_data...\n",
            "[nltk_data]   Unzipping corpora/dependency_treebank.zip.\n"
          ],
          "name": "stdout"
        },
        {
          "output_type": "execute_result",
          "data": {
            "text/plain": [
              "True"
            ]
          },
          "metadata": {
            "tags": []
          },
          "execution_count": 5
        }
      ]
    },
    {
      "cell_type": "markdown",
      "metadata": {
        "id": "sYoXE0nQ3OSw"
      },
      "source": [
        "Load the parsed sentences of the corpus (given by dependency_treebank.parsed_sents()). "
      ]
    },
    {
      "cell_type": "code",
      "metadata": {
        "id": "Gm0KhLln2KWF"
      },
      "source": [
        "sen = dependency_treebank.parsed_sents()"
      ],
      "execution_count": null,
      "outputs": []
    },
    {
      "cell_type": "markdown",
      "metadata": {
        "id": "ErNOiAaupt60"
      },
      "source": [
        "Get words from the first sentence, and their (head,tail)"
      ]
    },
    {
      "cell_type": "code",
      "metadata": {
        "colab": {
          "base_uri": "https://localhost:8080/"
        },
        "id": "8MrRY8vGnj8x",
        "outputId": "130c8a57-7194-442b-9391-917e3750903a"
      },
      "source": [
        "for i, tree in enumerate(sen[:1]):\r\n",
        "  values = tree.nodes.values()\r\n",
        "  for val in values :\r\n",
        "    head , tail, word, tag = val['head'],val['address'],val['word'],val['tag']\r\n",
        "    print('head : ', head ,', tail : ' ,tail, ', word : ' , word,', tag : ' , tag )"
      ],
      "execution_count": null,
      "outputs": [
        {
          "output_type": "stream",
          "text": [
            "head :  None , tail :  0 , word :  None , tag :  TOP\n",
            "head :  2 , tail :  1 , word :  Pierre , tag :  NNP\n",
            "head :  8 , tail :  2 , word :  Vinken , tag :  NNP\n",
            "head :  0 , tail :  8 , word :  will , tag :  MD\n",
            "head :  2 , tail :  3 , word :  , , tag :  ,\n",
            "head :  5 , tail :  4 , word :  61 , tag :  CD\n",
            "head :  6 , tail :  5 , word :  years , tag :  NNS\n",
            "head :  2 , tail :  6 , word :  old , tag :  JJ\n",
            "head :  2 , tail :  7 , word :  , , tag :  ,\n",
            "head :  8 , tail :  9 , word :  join , tag :  VB\n",
            "head :  11 , tail :  10 , word :  the , tag :  DT\n",
            "head :  9 , tail :  11 , word :  board , tag :  NN\n",
            "head :  9 , tail :  12 , word :  as , tag :  IN\n",
            "head :  15 , tail :  13 , word :  a , tag :  DT\n",
            "head :  12 , tail :  15 , word :  director , tag :  NN\n",
            "head :  15 , tail :  14 , word :  nonexecutive , tag :  JJ\n",
            "head :  9 , tail :  16 , word :  Nov. , tag :  NNP\n",
            "head :  16 , tail :  17 , word :  29 , tag :  CD\n",
            "head :  8 , tail :  18 , word :  . , tag :  .\n",
            "head :  None , tail :  None , word :  None , tag :  None\n"
          ],
          "name": "stdout"
        }
      ]
    },
    {
      "cell_type": "markdown",
      "metadata": {
        "id": "o1riLqMe2V82"
      },
      "source": [
        "Then, divide the obtained corpus into training set and test set\r\n",
        "such that the test set is formed by the last 10% of the sentences."
      ]
    },
    {
      "cell_type": "code",
      "metadata": {
        "id": "lqiW7etm3hLp"
      },
      "source": [
        "num_of_sen = len(sen)\r\n",
        "cut_by = int(num_of_sen*0.9)\r\n",
        "training_set = sen[:cut_by]\r\n",
        "test_set = sen[cut_by:]"
      ],
      "execution_count": null,
      "outputs": []
    },
    {
      "cell_type": "code",
      "metadata": {
        "colab": {
          "base_uri": "https://localhost:8080/"
        },
        "id": "AHkfuWt8s12q",
        "outputId": "3d9dd627-859d-4835-b559-e833d00c0244"
      },
      "source": [
        "print('Number of sentences in training set is ',len(training_set))\r\n",
        "print('Number of sentences in test set is ',len(test_set))"
      ],
      "execution_count": null,
      "outputs": [
        {
          "output_type": "stream",
          "text": [
            "Number of sentences in training set is  3522\n",
            "Number of sentences in test set is  392\n"
          ],
          "name": "stdout"
        }
      ]
    },
    {
      "cell_type": "code",
      "metadata": {
        "colab": {
          "base_uri": "https://localhost:8080/"
        },
        "id": "QrJ0pwTqtPB5",
        "outputId": "44aa8eea-8180-4de2-f441-3058269bb9af"
      },
      "source": [
        "print(test_set[0])"
      ],
      "execution_count": null,
      "outputs": [
        {
          "output_type": "stream",
          "text": [
            "defaultdict(<function DependencyGraph.__init__.<locals>.<lambda> at 0x7f362fa1c510>,\n",
            "            {0: {'address': 0,\n",
            "                 'ctag': 'TOP',\n",
            "                 'deps': defaultdict(<class 'list'>, {'ROOT': [7]}),\n",
            "                 'feats': None,\n",
            "                 'head': None,\n",
            "                 'lemma': None,\n",
            "                 'rel': None,\n",
            "                 'tag': 'TOP',\n",
            "                 'word': None},\n",
            "             1: {'address': 1,\n",
            "                 'ctag': 'NNP',\n",
            "                 'deps': defaultdict(<class 'list'>, {}),\n",
            "                 'feats': '',\n",
            "                 'head': 3,\n",
            "                 'lemma': 'Kalamazoo',\n",
            "                 'rel': '',\n",
            "                 'tag': 'NNP',\n",
            "                 'word': 'Kalamazoo'},\n",
            "             2: {'address': 2,\n",
            "                 'ctag': ',',\n",
            "                 'deps': defaultdict(<class 'list'>, {}),\n",
            "                 'feats': '',\n",
            "                 'head': 3,\n",
            "                 'lemma': ',',\n",
            "                 'rel': '',\n",
            "                 'tag': ',',\n",
            "                 'word': ','},\n",
            "             3: {'address': 3,\n",
            "                 'ctag': 'JJ',\n",
            "                 'deps': defaultdict(<class 'list'>, {'': [1, 2]}),\n",
            "                 'feats': '',\n",
            "                 'head': 4,\n",
            "                 'lemma': 'Mich.-based',\n",
            "                 'rel': '',\n",
            "                 'tag': 'JJ',\n",
            "                 'word': 'Mich.-based'},\n",
            "             4: {'address': 4,\n",
            "                 'ctag': 'NNP',\n",
            "                 'deps': defaultdict(<class 'list'>, {'': [3, 5]}),\n",
            "                 'feats': '',\n",
            "                 'head': 7,\n",
            "                 'lemma': 'First',\n",
            "                 'rel': '',\n",
            "                 'tag': 'NNP',\n",
            "                 'word': 'First'},\n",
            "             5: {'address': 5,\n",
            "                 'ctag': 'IN',\n",
            "                 'deps': defaultdict(<class 'list'>, {'': [6]}),\n",
            "                 'feats': '',\n",
            "                 'head': 4,\n",
            "                 'lemma': 'of',\n",
            "                 'rel': '',\n",
            "                 'tag': 'IN',\n",
            "                 'word': 'of'},\n",
            "             6: {'address': 6,\n",
            "                 'ctag': 'NNP',\n",
            "                 'deps': defaultdict(<class 'list'>, {}),\n",
            "                 'feats': '',\n",
            "                 'head': 5,\n",
            "                 'lemma': 'America',\n",
            "                 'rel': '',\n",
            "                 'tag': 'NNP',\n",
            "                 'word': 'America'},\n",
            "             7: {'address': 7,\n",
            "                 'ctag': 'VBD',\n",
            "                 'deps': defaultdict(<class 'list'>, {'': [4, 9, 22]}),\n",
            "                 'feats': '',\n",
            "                 'head': 0,\n",
            "                 'lemma': 'said',\n",
            "                 'rel': '',\n",
            "                 'tag': 'VBD',\n",
            "                 'word': 'said'},\n",
            "             8: {'address': 8,\n",
            "                 'ctag': 'PRP',\n",
            "                 'deps': defaultdict(<class 'list'>, {}),\n",
            "                 'feats': '',\n",
            "                 'head': 9,\n",
            "                 'lemma': 'it',\n",
            "                 'rel': '',\n",
            "                 'tag': 'PRP',\n",
            "                 'word': 'it'},\n",
            "             9: {'address': 9,\n",
            "                 'ctag': 'MD',\n",
            "                 'deps': defaultdict(<class 'list'>, {'': [8, 10]}),\n",
            "                 'feats': '',\n",
            "                 'head': 7,\n",
            "                 'lemma': 'will',\n",
            "                 'rel': '',\n",
            "                 'tag': 'MD',\n",
            "                 'word': 'will'},\n",
            "             10: {'address': 10,\n",
            "                  'ctag': 'VB',\n",
            "                  'deps': defaultdict(<class 'list'>, {'': [14]}),\n",
            "                  'feats': '',\n",
            "                  'head': 9,\n",
            "                  'lemma': 'eliminate',\n",
            "                  'rel': '',\n",
            "                  'tag': 'VB',\n",
            "                  'word': 'eliminate'},\n",
            "             11: {'address': 11,\n",
            "                  'ctag': 'DT',\n",
            "                  'deps': defaultdict(<class 'list'>, {}),\n",
            "                  'feats': '',\n",
            "                  'head': 14,\n",
            "                  'lemma': 'the',\n",
            "                  'rel': '',\n",
            "                  'tag': 'DT',\n",
            "                  'word': 'the'},\n",
            "             12: {'address': 12,\n",
            "                  'ctag': 'CD',\n",
            "                  'deps': defaultdict(<class 'list'>, {}),\n",
            "                  'feats': '',\n",
            "                  'head': 14,\n",
            "                  'lemma': '13',\n",
            "                  'rel': '',\n",
            "                  'tag': 'CD',\n",
            "                  'word': '13'},\n",
            "             13: {'address': 13,\n",
            "                  'ctag': 'NN',\n",
            "                  'deps': defaultdict(<class 'list'>, {}),\n",
            "                  'feats': '',\n",
            "                  'head': 14,\n",
            "                  'lemma': 'management',\n",
            "                  'rel': '',\n",
            "                  'tag': 'NN',\n",
            "                  'word': 'management'},\n",
            "             14: {'address': 14,\n",
            "                  'ctag': 'NNS',\n",
            "                  'deps': defaultdict(<class 'list'>, {'': [11, 12, 13, 15]}),\n",
            "                  'feats': '',\n",
            "                  'head': 10,\n",
            "                  'lemma': 'positions',\n",
            "                  'rel': '',\n",
            "                  'tag': 'NNS',\n",
            "                  'word': 'positions'},\n",
            "             15: {'address': 15,\n",
            "                  'ctag': 'IN',\n",
            "                  'deps': defaultdict(<class 'list'>, {'': [21]}),\n",
            "                  'feats': '',\n",
            "                  'head': 14,\n",
            "                  'lemma': 'of',\n",
            "                  'rel': '',\n",
            "                  'tag': 'IN',\n",
            "                  'word': 'of'},\n",
            "             16: {'address': 16,\n",
            "                  'ctag': 'DT',\n",
            "                  'deps': defaultdict(<class 'list'>, {}),\n",
            "                  'feats': '',\n",
            "                  'head': 21,\n",
            "                  'lemma': 'the',\n",
            "                  'rel': '',\n",
            "                  'tag': 'DT',\n",
            "                  'word': 'the'},\n",
            "             17: {'address': 17,\n",
            "                  'ctag': 'JJ',\n",
            "                  'deps': defaultdict(<class 'list'>, {}),\n",
            "                  'feats': '',\n",
            "                  'head': 21,\n",
            "                  'lemma': 'former',\n",
            "                  'rel': '',\n",
            "                  'tag': 'JJ',\n",
            "                  'word': 'former'},\n",
            "             18: {'address': 18,\n",
            "                  'ctag': 'NNP',\n",
            "                  'deps': defaultdict(<class 'list'>, {}),\n",
            "                  'feats': '',\n",
            "                  'head': 21,\n",
            "                  'lemma': 'Midwest',\n",
            "                  'rel': '',\n",
            "                  'tag': 'NNP',\n",
            "                  'word': 'Midwest'},\n",
            "             19: {'address': 19,\n",
            "                  'ctag': 'NNP',\n",
            "                  'deps': defaultdict(<class 'list'>, {}),\n",
            "                  'feats': '',\n",
            "                  'head': 21,\n",
            "                  'lemma': 'Financial',\n",
            "                  'rel': '',\n",
            "                  'tag': 'NNP',\n",
            "                  'word': 'Financial'},\n",
            "             20: {'address': 20,\n",
            "                  'ctag': 'NN',\n",
            "                  'deps': defaultdict(<class 'list'>, {}),\n",
            "                  'feats': '',\n",
            "                  'head': 21,\n",
            "                  'lemma': 'parent',\n",
            "                  'rel': '',\n",
            "                  'tag': 'NN',\n",
            "                  'word': 'parent'},\n",
            "             21: {'address': 21,\n",
            "                  'ctag': 'NN',\n",
            "                  'deps': defaultdict(<class 'list'>,\n",
            "                                      {'': [16, 17, 18, 19, 20]}),\n",
            "                  'feats': '',\n",
            "                  'head': 15,\n",
            "                  'lemma': 'company',\n",
            "                  'rel': '',\n",
            "                  'tag': 'NN',\n",
            "                  'word': 'company'},\n",
            "             22: {'address': 22,\n",
            "                  'ctag': '.',\n",
            "                  'deps': defaultdict(<class 'list'>, {}),\n",
            "                  'feats': '',\n",
            "                  'head': 7,\n",
            "                  'lemma': '.',\n",
            "                  'rel': '',\n",
            "                  'tag': '.',\n",
            "                  'word': '.'}})\n"
          ],
          "name": "stdout"
        }
      ]
    },
    {
      "cell_type": "code",
      "metadata": {
        "colab": {
          "base_uri": "https://localhost:8080/",
          "height": 800
        },
        "id": "nmoXS12O34ry",
        "outputId": "a7a196dd-736d-4f77-bafc-2c75ae82eb9b"
      },
      "source": [
        "test_set[0]"
      ],
      "execution_count": null,
      "outputs": [
        {
          "output_type": "execute_result",
          "data": {
            "text/plain": [
              "<DependencyGraph with 23 nodes>"
            ],
            "image/svg+xml": "<?xml version=\"1.0\" encoding=\"UTF-8\" standalone=\"no\"?>\n<!DOCTYPE svg PUBLIC \"-//W3C//DTD SVG 1.1//EN\"\n \"http://www.w3.org/Graphics/SVG/1.1/DTD/svg11.dtd\">\n<!-- Generated by graphviz version 2.40.1 (20161225.0304)\n -->\n<!-- Title: G Pages: 1 -->\n<svg width=\"833pt\" height=\"569pt\"\n viewBox=\"0.00 0.00 832.50 569.00\" xmlns=\"http://www.w3.org/2000/svg\" xmlns:xlink=\"http://www.w3.org/1999/xlink\">\n<g id=\"graph0\" class=\"graph\" transform=\"scale(1 1) rotate(0) translate(4 565)\">\n<title>G</title>\n<polygon fill=\"#ffffff\" stroke=\"transparent\" points=\"-4,4 -4,-565 828.5,-565 828.5,4 -4,4\"/>\n<!-- 0 -->\n<g id=\"node1\" class=\"node\">\n<title>0</title>\n<text text-anchor=\"middle\" x=\"313.5\" y=\"-539.3\" font-family=\"Times,serif\" font-size=\"14.00\" fill=\"#000000\">0 (None)</text>\n</g>\n<!-- 7 -->\n<g id=\"node2\" class=\"node\">\n<title>7</title>\n<text text-anchor=\"middle\" x=\"313.5\" y=\"-452.3\" font-family=\"Times,serif\" font-size=\"14.00\" fill=\"#000000\">7 (said)</text>\n</g>\n<!-- 0&#45;&gt;7 -->\n<g id=\"edge1\" class=\"edge\">\n<title>0&#45;&gt;7</title>\n<path fill=\"none\" stroke=\"#000000\" d=\"M313.5,-524.9735C313.5,-513.1918 313.5,-497.5607 313.5,-484.1581\"/>\n<polygon fill=\"#000000\" stroke=\"#000000\" points=\"317.0001,-484.0033 313.5,-474.0034 310.0001,-484.0034 317.0001,-484.0033\"/>\n<text text-anchor=\"middle\" x=\"333.5\" y=\"-495.8\" font-family=\"Times,serif\" font-size=\"14.00\" fill=\"#000000\">ROOT</text>\n</g>\n<!-- 4 -->\n<g id=\"node6\" class=\"node\">\n<title>4</title>\n<text text-anchor=\"middle\" x=\"234.5\" y=\"-379.3\" font-family=\"Times,serif\" font-size=\"14.00\" fill=\"#000000\">4 (First)</text>\n</g>\n<!-- 7&#45;&gt;4 -->\n<g id=\"edge7\" class=\"edge\">\n<title>7&#45;&gt;4</title>\n<path fill=\"none\" stroke=\"#000000\" d=\"M293.9719,-437.9551C284.1917,-428.9177 272.1948,-417.8319 261.5439,-407.9899\"/>\n<polygon fill=\"#000000\" stroke=\"#000000\" points=\"263.7971,-405.3065 254.0772,-401.0904 259.0464,-410.4476 263.7971,-405.3065\"/>\n</g>\n<!-- 9 -->\n<g id=\"node9\" class=\"node\">\n<title>9</title>\n<text text-anchor=\"middle\" x=\"313.5\" y=\"-379.3\" font-family=\"Times,serif\" font-size=\"14.00\" fill=\"#000000\">9 (will)</text>\n</g>\n<!-- 7&#45;&gt;9 -->\n<g id=\"edge8\" class=\"edge\">\n<title>7&#45;&gt;9</title>\n<path fill=\"none\" stroke=\"#000000\" d=\"M313.5,-437.9551C313.5,-429.8828 313.5,-420.1764 313.5,-411.1817\"/>\n<polygon fill=\"#000000\" stroke=\"#000000\" points=\"317.0001,-411.0903 313.5,-401.0904 310.0001,-411.0904 317.0001,-411.0903\"/>\n</g>\n<!-- 22 -->\n<g id=\"node10\" class=\"node\">\n<title>22</title>\n<text text-anchor=\"middle\" x=\"388.5\" y=\"-379.3\" font-family=\"Times,serif\" font-size=\"14.00\" fill=\"#000000\">22 (.)</text>\n</g>\n<!-- 7&#45;&gt;22 -->\n<g id=\"edge9\" class=\"edge\">\n<title>7&#45;&gt;22</title>\n<path fill=\"none\" stroke=\"#000000\" d=\"M332.0393,-437.9551C341.2342,-429.0054 352.4928,-418.047 362.5305,-408.2769\"/>\n<polygon fill=\"#000000\" stroke=\"#000000\" points=\"365.1892,-410.5734 369.914,-401.0904 360.3068,-405.5572 365.1892,-410.5734\"/>\n</g>\n<!-- 1 -->\n<g id=\"node3\" class=\"node\">\n<title>1</title>\n<text text-anchor=\"middle\" x=\"50.5\" y=\"-233.3\" font-family=\"Times,serif\" font-size=\"14.00\" fill=\"#000000\">1 (Kalamazoo)</text>\n</g>\n<!-- 2 -->\n<g id=\"node4\" class=\"node\">\n<title>2</title>\n<text text-anchor=\"middle\" x=\"146.5\" y=\"-233.3\" font-family=\"Times,serif\" font-size=\"14.00\" fill=\"#000000\">2 (,)</text>\n</g>\n<!-- 3 -->\n<g id=\"node5\" class=\"node\">\n<title>3</title>\n<text text-anchor=\"middle\" x=\"140.5\" y=\"-306.3\" font-family=\"Times,serif\" font-size=\"14.00\" fill=\"#000000\">3 (Mich.&#45;based)</text>\n</g>\n<!-- 3&#45;&gt;1 -->\n<g id=\"edge2\" class=\"edge\">\n<title>3&#45;&gt;1</title>\n<path fill=\"none\" stroke=\"#000000\" d=\"M118.2528,-291.9551C106.8945,-282.7422 92.9117,-271.4006 80.6044,-261.418\"/>\n<polygon fill=\"#000000\" stroke=\"#000000\" points=\"82.7744,-258.6716 72.8032,-255.0904 78.3648,-264.1081 82.7744,-258.6716\"/>\n</g>\n<!-- 3&#45;&gt;2 -->\n<g id=\"edge3\" class=\"edge\">\n<title>3&#45;&gt;2</title>\n<path fill=\"none\" stroke=\"#000000\" d=\"M141.9831,-291.9551C142.6466,-283.8828 143.4444,-274.1764 144.1837,-265.1817\"/>\n<polygon fill=\"#000000\" stroke=\"#000000\" points=\"147.6821,-265.3435 145.0131,-255.0904 140.7056,-264.77 147.6821,-265.3435\"/>\n</g>\n<!-- 4&#45;&gt;3 -->\n<g id=\"edge4\" class=\"edge\">\n<title>4&#45;&gt;3</title>\n<path fill=\"none\" stroke=\"#000000\" d=\"M211.264,-364.9551C199.4009,-355.7422 184.7967,-344.4006 171.9424,-334.418\"/>\n<polygon fill=\"#000000\" stroke=\"#000000\" points=\"173.8393,-331.4597 163.7944,-328.0904 169.5457,-336.9883 173.8393,-331.4597\"/>\n</g>\n<!-- 5 -->\n<g id=\"node7\" class=\"node\">\n<title>5</title>\n<text text-anchor=\"middle\" x=\"239.5\" y=\"-306.3\" font-family=\"Times,serif\" font-size=\"14.00\" fill=\"#000000\">5 (of)</text>\n</g>\n<!-- 4&#45;&gt;5 -->\n<g id=\"edge5\" class=\"edge\">\n<title>4&#45;&gt;5</title>\n<path fill=\"none\" stroke=\"#000000\" d=\"M235.736,-364.9551C236.2888,-356.8828 236.9537,-347.1764 237.5697,-338.1817\"/>\n<polygon fill=\"#000000\" stroke=\"#000000\" points=\"241.0693,-338.3062 238.2609,-328.0904 234.0857,-337.8278 241.0693,-338.3062\"/>\n</g>\n<!-- 6 -->\n<g id=\"node8\" class=\"node\">\n<title>6</title>\n<text text-anchor=\"middle\" x=\"239.5\" y=\"-233.3\" font-family=\"Times,serif\" font-size=\"14.00\" fill=\"#000000\">6 (America)</text>\n</g>\n<!-- 5&#45;&gt;6 -->\n<g id=\"edge6\" class=\"edge\">\n<title>5&#45;&gt;6</title>\n<path fill=\"none\" stroke=\"#000000\" d=\"M239.5,-291.9551C239.5,-283.8828 239.5,-274.1764 239.5,-265.1817\"/>\n<polygon fill=\"#000000\" stroke=\"#000000\" points=\"243.0001,-265.0903 239.5,-255.0904 236.0001,-265.0904 243.0001,-265.0903\"/>\n</g>\n<!-- 8 -->\n<g id=\"node11\" class=\"node\">\n<title>8</title>\n<text text-anchor=\"middle\" x=\"312.5\" y=\"-306.3\" font-family=\"Times,serif\" font-size=\"14.00\" fill=\"#000000\">8 (it)</text>\n</g>\n<!-- 9&#45;&gt;8 -->\n<g id=\"edge10\" class=\"edge\">\n<title>9&#45;&gt;8</title>\n<path fill=\"none\" stroke=\"#000000\" d=\"M313.2528,-364.9551C313.1422,-356.8828 313.0093,-347.1764 312.8861,-338.1817\"/>\n<polygon fill=\"#000000\" stroke=\"#000000\" points=\"316.3846,-338.0414 312.7478,-328.0904 309.3852,-338.1374 316.3846,-338.0414\"/>\n</g>\n<!-- 10 -->\n<g id=\"node12\" class=\"node\">\n<title>10</title>\n<text text-anchor=\"middle\" x=\"405.5\" y=\"-306.3\" font-family=\"Times,serif\" font-size=\"14.00\" fill=\"#000000\">10 (eliminate)</text>\n</g>\n<!-- 9&#45;&gt;10 -->\n<g id=\"edge11\" class=\"edge\">\n<title>9&#45;&gt;10</title>\n<path fill=\"none\" stroke=\"#000000\" d=\"M336.2416,-364.9551C347.8523,-355.7422 362.1458,-344.4006 374.7266,-334.418\"/>\n<polygon fill=\"#000000\" stroke=\"#000000\" points=\"377.0431,-337.0479 382.7012,-328.0904 372.6921,-331.5644 377.0431,-337.0479\"/>\n</g>\n<!-- 14 -->\n<g id=\"node13\" class=\"node\">\n<title>14</title>\n<text text-anchor=\"middle\" x=\"405.5\" y=\"-233.3\" font-family=\"Times,serif\" font-size=\"14.00\" fill=\"#000000\">14 (positions)</text>\n</g>\n<!-- 10&#45;&gt;14 -->\n<g id=\"edge12\" class=\"edge\">\n<title>10&#45;&gt;14</title>\n<path fill=\"none\" stroke=\"#000000\" d=\"M405.5,-291.9551C405.5,-283.8828 405.5,-274.1764 405.5,-265.1817\"/>\n<polygon fill=\"#000000\" stroke=\"#000000\" points=\"409.0001,-265.0903 405.5,-255.0904 402.0001,-265.0904 409.0001,-265.0903\"/>\n</g>\n<!-- 11 -->\n<g id=\"node14\" class=\"node\">\n<title>11</title>\n<text text-anchor=\"middle\" x=\"274.5\" y=\"-160.3\" font-family=\"Times,serif\" font-size=\"14.00\" fill=\"#000000\">11 (the)</text>\n</g>\n<!-- 14&#45;&gt;11 -->\n<g id=\"edge13\" class=\"edge\">\n<title>14&#45;&gt;11</title>\n<path fill=\"none\" stroke=\"#000000\" d=\"M373.118,-218.9551C355.2771,-209.0132 332.9878,-196.5925 314.1152,-186.0757\"/>\n<polygon fill=\"#000000\" stroke=\"#000000\" points=\"315.5984,-182.8955 305.1594,-181.085 312.191,-189.0102 315.5984,-182.8955\"/>\n</g>\n<!-- 12 -->\n<g id=\"node15\" class=\"node\">\n<title>12</title>\n<text text-anchor=\"middle\" x=\"352.5\" y=\"-160.3\" font-family=\"Times,serif\" font-size=\"14.00\" fill=\"#000000\">12 (13)</text>\n</g>\n<!-- 14&#45;&gt;12 -->\n<g id=\"edge14\" class=\"edge\">\n<title>14&#45;&gt;12</title>\n<path fill=\"none\" stroke=\"#000000\" d=\"M392.3989,-218.9551C386.156,-210.3564 378.5668,-199.9034 371.6901,-190.4316\"/>\n<polygon fill=\"#000000\" stroke=\"#000000\" points=\"374.3415,-188.1262 365.6341,-182.0904 368.677,-192.2388 374.3415,-188.1262\"/>\n</g>\n<!-- 13 -->\n<g id=\"node16\" class=\"node\">\n<title>13</title>\n<text text-anchor=\"middle\" x=\"458.5\" y=\"-160.3\" font-family=\"Times,serif\" font-size=\"14.00\" fill=\"#000000\">13 (management)</text>\n</g>\n<!-- 14&#45;&gt;13 -->\n<g id=\"edge15\" class=\"edge\">\n<title>14&#45;&gt;13</title>\n<path fill=\"none\" stroke=\"#000000\" d=\"M418.6011,-218.9551C424.844,-210.3564 432.4332,-199.9034 439.3099,-190.4316\"/>\n<polygon fill=\"#000000\" stroke=\"#000000\" points=\"442.323,-192.2388 445.3659,-182.0904 436.6585,-188.1262 442.323,-192.2388\"/>\n</g>\n<!-- 15 -->\n<g id=\"node17\" class=\"node\">\n<title>15</title>\n<text text-anchor=\"middle\" x=\"563.5\" y=\"-160.3\" font-family=\"Times,serif\" font-size=\"14.00\" fill=\"#000000\">15 (of)</text>\n</g>\n<!-- 14&#45;&gt;15 -->\n<g id=\"edge16\" class=\"edge\">\n<title>14&#45;&gt;15</title>\n<path fill=\"none\" stroke=\"#000000\" d=\"M445.2848,-218.9173C468.6765,-208.2476 498.8071,-194.4385 525.5,-182 525.6985,-181.9075 525.8976,-181.8147 526.0972,-181.7216\"/>\n<polygon fill=\"#000000\" stroke=\"#000000\" points=\"527.7288,-184.8223 535.2969,-177.4078 524.7569,-178.4844 527.7288,-184.8223\"/>\n</g>\n<!-- 21 -->\n<g id=\"node18\" class=\"node\">\n<title>21</title>\n<text text-anchor=\"middle\" x=\"563.5\" y=\"-87.3\" font-family=\"Times,serif\" font-size=\"14.00\" fill=\"#000000\">21 (company)</text>\n</g>\n<!-- 15&#45;&gt;21 -->\n<g id=\"edge17\" class=\"edge\">\n<title>15&#45;&gt;21</title>\n<path fill=\"none\" stroke=\"#000000\" d=\"M563.5,-145.9551C563.5,-137.8828 563.5,-128.1764 563.5,-119.1817\"/>\n<polygon fill=\"#000000\" stroke=\"#000000\" points=\"567.0001,-119.0903 563.5,-109.0904 560.0001,-119.0904 567.0001,-119.0903\"/>\n</g>\n<!-- 16 -->\n<g id=\"node19\" class=\"node\">\n<title>16</title>\n<text text-anchor=\"middle\" x=\"365.5\" y=\"-14.3\" font-family=\"Times,serif\" font-size=\"14.00\" fill=\"#000000\">16 (the)</text>\n</g>\n<!-- 21&#45;&gt;16 -->\n<g id=\"edge18\" class=\"edge\">\n<title>21&#45;&gt;16</title>\n<path fill=\"none\" stroke=\"#000000\" d=\"M514.3351,-75.1244C485.1513,-65.4183 447.2996,-52.3409 406.2079,-36.1414\"/>\n<polygon fill=\"#000000\" stroke=\"#000000\" points=\"407.4169,-32.8556 396.8313,-32.4124 404.8301,-39.3602 407.4169,-32.8556\"/>\n</g>\n<!-- 17 -->\n<g id=\"node20\" class=\"node\">\n<title>17</title>\n<text text-anchor=\"middle\" x=\"456.5\" y=\"-14.3\" font-family=\"Times,serif\" font-size=\"14.00\" fill=\"#000000\">17 (former)</text>\n</g>\n<!-- 21&#45;&gt;17 -->\n<g id=\"edge19\" class=\"edge\">\n<title>21&#45;&gt;17</title>\n<path fill=\"none\" stroke=\"#000000\" d=\"M537.0506,-72.9551C523.2896,-63.5667 506.2884,-51.9678 491.4569,-41.8491\"/>\n<polygon fill=\"#000000\" stroke=\"#000000\" points=\"493.2492,-38.8349 483.016,-36.0904 489.3041,-44.6174 493.2492,-38.8349\"/>\n</g>\n<!-- 18 -->\n<g id=\"node21\" class=\"node\">\n<title>18</title>\n<text text-anchor=\"middle\" x=\"563.5\" y=\"-14.3\" font-family=\"Times,serif\" font-size=\"14.00\" fill=\"#000000\">18 (Midwest)</text>\n</g>\n<!-- 21&#45;&gt;18 -->\n<g id=\"edge20\" class=\"edge\">\n<title>21&#45;&gt;18</title>\n<path fill=\"none\" stroke=\"#000000\" d=\"M563.5,-72.9551C563.5,-64.8828 563.5,-55.1764 563.5,-46.1817\"/>\n<polygon fill=\"#000000\" stroke=\"#000000\" points=\"567.0001,-46.0903 563.5,-36.0904 560.0001,-46.0904 567.0001,-46.0903\"/>\n</g>\n<!-- 19 -->\n<g id=\"node22\" class=\"node\">\n<title>19</title>\n<text text-anchor=\"middle\" x=\"677.5\" y=\"-14.3\" font-family=\"Times,serif\" font-size=\"14.00\" fill=\"#000000\">19 (Financial)</text>\n</g>\n<!-- 21&#45;&gt;19 -->\n<g id=\"edge21\" class=\"edge\">\n<title>21&#45;&gt;19</title>\n<path fill=\"none\" stroke=\"#000000\" d=\"M591.6798,-72.9551C606.478,-63.479 624.7933,-51.7508 640.6986,-41.5658\"/>\n<polygon fill=\"#000000\" stroke=\"#000000\" points=\"642.7154,-44.4305 649.2493,-36.0904 638.9405,-38.5356 642.7154,-44.4305\"/>\n</g>\n<!-- 20 -->\n<g id=\"node23\" class=\"node\">\n<title>20</title>\n<text text-anchor=\"middle\" x=\"784.5\" y=\"-14.3\" font-family=\"Times,serif\" font-size=\"14.00\" fill=\"#000000\">20 (parent)</text>\n</g>\n<!-- 21&#45;&gt;20 -->\n<g id=\"edge22\" class=\"edge\">\n<title>21&#45;&gt;20</title>\n<path fill=\"none\" stroke=\"#000000\" d=\"M612.6645,-75.6796C646.9185,-64.8851 693.6161,-49.9294 734.5,-36 734.601,-35.9656 734.7021,-35.9311 734.8032,-35.8966\"/>\n<polygon fill=\"#000000\" stroke=\"#000000\" points=\"736.1219,-39.144 744.4255,-32.5637 733.8307,-32.5295 736.1219,-39.144\"/>\n</g>\n</g>\n</svg>\n"
          },
          "metadata": {
            "tags": []
          },
          "execution_count": 8
        }
      ]
    },
    {
      "cell_type": "markdown",
      "metadata": {
        "id": "S4fctO8IXem3"
      },
      "source": [
        "Use tagged sentences for defining sets and dictionaries"
      ]
    },
    {
      "cell_type": "code",
      "metadata": {
        "colab": {
          "base_uri": "https://localhost:8080/"
        },
        "id": "c3DC6WVSR6Ut",
        "outputId": "deb5e156-3c9e-4c0d-89f4-cfc6f4d94541"
      },
      "source": [
        "tagged_sents = dependency_treebank.tagged_sents()\n",
        "n = int(len(tagged_sents)*0.9)\n",
        "print(\"Number of training samples is \", n)\n",
        "print(\"Number of test samples is \",len(tagged_sents)-n )"
      ],
      "execution_count": null,
      "outputs": [
        {
          "output_type": "stream",
          "text": [
            "Number of training samples is  3522\n",
            "Number of test samples is  392\n"
          ],
          "name": "stdout"
        }
      ]
    },
    {
      "cell_type": "code",
      "metadata": {
        "id": "vDJff-3t6gqy"
      },
      "source": [
        "def find_words_tags(tagged_sents):\n",
        "  data = []\n",
        "  labels = []\n",
        "  for tagged_sent in tagged_sents:\n",
        "    for word,tag in tagged_sent:\n",
        "      data.append(word)\n",
        "      labels.append(tag)\n",
        "  return data,labels"
      ],
      "execution_count": null,
      "outputs": []
    },
    {
      "cell_type": "code",
      "metadata": {
        "id": "jSLI233jIyAE"
      },
      "source": [
        "def create_lists(train_tagged_sents):\r\n",
        "  sentences = []\r\n",
        "  sentences_tags = []\r\n",
        "  for tagged_sent in train_tagged_sents:\r\n",
        "    sentence = []\r\n",
        "    tags = []\r\n",
        "    for word,tag in tagged_sent:\r\n",
        "      sentence.append(word)\r\n",
        "      tags.append(tag)\r\n",
        "    sentences.append(sentence)\r\n",
        "    sentences_tags.append(tags)\r\n",
        "  return sentences,sentences_tags\r\n"
      ],
      "execution_count": null,
      "outputs": []
    },
    {
      "cell_type": "code",
      "metadata": {
        "id": "D-WpG8EyrNMC"
      },
      "source": [
        "def find_all_possible_tags(tagged_sents):\r\n",
        "  tags = []\r\n",
        "  for tagged_sent in tagged_sents:\r\n",
        "    for word,tag in tagged_sent:\r\n",
        "      tags.append((tag))\r\n",
        "  return tags"
      ],
      "execution_count": null,
      "outputs": []
    },
    {
      "cell_type": "code",
      "metadata": {
        "id": "TcU9sGFo7Vwb"
      },
      "source": [
        "train_tagged_sents = tagged_sents[:n]\n",
        "test_tagged_sents = tagged_sents[n:]\n",
        "sentences,sentences_tags = create_lists(train_tagged_sents)\n",
        "test_sentences,test_sentences_tags = create_lists(test_tagged_sents)\n",
        "x_train,y_train = find_words_tags(train_tagged_sents)\n",
        "x_test,y_test = find_words_tags(test_tagged_sents)"
      ],
      "execution_count": null,
      "outputs": []
    },
    {
      "cell_type": "code",
      "metadata": {
        "id": "Yfwduyl3ymiv"
      },
      "source": [
        "tags_set = set(y_train)\r\n",
        "words_set = set(x_train)\r\n",
        "all_tags = find_all_possible_tags(tagged_sents)\r\n",
        "all_tags_set = set(all_tags)"
      ],
      "execution_count": null,
      "outputs": []
    },
    {
      "cell_type": "code",
      "metadata": {
        "id": "UY8MgnFvOENf"
      },
      "source": [
        "x , y = find_words_tags(tagged_sents)\r\n",
        "all_words_set = set(x)"
      ],
      "execution_count": null,
      "outputs": []
    },
    {
      "cell_type": "code",
      "metadata": {
        "colab": {
          "base_uri": "https://localhost:8080/"
        },
        "id": "KsAH7gfHrymV",
        "outputId": "07b61e57-c42e-470b-c0cf-40bf52945bb4"
      },
      "source": [
        "print(\"Number of all possible words: \", len(all_words_set))\r\n",
        "print(\"Number of all possible words in training set: \", len(words_set))\r\n",
        "print(\"Number of all possible tags : \", len(all_tags_set))\r\n",
        "print(\"Number of all tags in train set : \", len(tags_set))"
      ],
      "execution_count": null,
      "outputs": [
        {
          "output_type": "stream",
          "text": [
            "Number of all possible words:  11968\n",
            "Number of all possible words in training set:  11253\n",
            "Number of all possible tags :  45\n",
            "Number of all tags in train set :  45\n"
          ],
          "name": "stdout"
        }
      ]
    },
    {
      "cell_type": "markdown",
      "metadata": {
        "id": "MdvSj0Hny8qw"
      },
      "source": [
        "## Building Dictionary"
      ]
    },
    {
      "cell_type": "markdown",
      "metadata": {
        "id": "dmG54LrPzJXf"
      },
      "source": [
        "Those dictionaries will be used as an easy way to find an index for a given word or for a given tag. It also can be used to find a word according to it's index."
      ]
    },
    {
      "cell_type": "code",
      "metadata": {
        "id": "yK8GWEIaqvpR"
      },
      "source": [
        "word2index = {}\r\n",
        "word2index['ROOT'] = 0\r\n",
        "for i,w in zip(range(1,len(words_set)+1),words_set):\r\n",
        "  word2index[w] = i\r\n",
        "\r\n",
        "index2word = {}\r\n",
        "index2word[0] = 'ROOT'\r\n",
        "for i,w in zip(range(1,len(words_set)+1),words_set):\r\n",
        "  index2word[i] = w\r\n",
        "\r\n",
        "tag2index = {}\r\n",
        "tag2index['ROOT'] = 0\r\n",
        "for j,t in zip(range(1,len(tags_set)+1),tags_set):\r\n",
        "  tag2index[t] = j"
      ],
      "execution_count": null,
      "outputs": []
    },
    {
      "cell_type": "markdown",
      "metadata": {
        "id": "2XDpUxei4MeP"
      },
      "source": [
        "## The feature function"
      ]
    },
    {
      "cell_type": "markdown",
      "metadata": {
        "id": "QyBEUb3z4T6d"
      },
      "source": [
        "Write a Boolean feature function f \r\n",
        "that encodes the following features:\r\n",
        "\r\n",
        "• Word bigrams: For a potential edge between the nodes u,v in V , the feature function will have a feature for every pair of word forms (types) w,w', which has a value of 1 if the node u is the word w and the node v is the word w'.\r\n",
        "\r\n",
        "• POS bigrams: For a potential edge between the nodes u,v in V , the feature function will have a feature for every pair of POS tags t,t', which has a value of 1 if the node u has the POS tag t and the node v has the POS tag t'."
      ]
    },
    {
      "cell_type": "markdown",
      "metadata": {
        "id": "pFYfITybaNjI"
      },
      "source": [
        "Since the feature vectors might be very sparse, they can be represented by a  smaller amount of features. In our case we have a vector of size n^2 + t^2 where n is the number of all different words, and t is the number of all different tags. This vector consisnts zeros except for 2 entries, therefore we chsose to represent it by 2 integers : an integer that represent the words in an arc, and an integer for their matching tags. For this purpose we use 4 indexs - head index , tail index , head tag index , tail tag index."
      ]
    },
    {
      "cell_type": "code",
      "metadata": {
        "id": "PkSYWwZ_TYxE"
      },
      "source": [
        "def index_word_pos_bigrams(sentence,sentence_tags,words_set,tags_set):\r\n",
        "  \"\"\"This function gets a list of words in a sentence , their tags ,a words set and\r\n",
        "  a tags set. It gives each word an index according to it's location on the words set. \r\n",
        "  It also gives every word's tag an index according to it's location on the tags set.\r\n",
        "  The function returns a list of words indexes, and a matching list of tags indexes.\"\"\"\r\n",
        "  word_ind_list = []\r\n",
        "  pos_ind_list = []\r\n",
        "  word_ind_list.append(word2index['ROOT'])\r\n",
        "  pos_ind_list.append(tag2index['ROOT'])\r\n",
        "\r\n",
        "  for w in sentence:\r\n",
        "    word_ind_list.append(word2index[w])\r\n",
        "  for t in sentence_tags:\r\n",
        "    pos_ind_list.append(tag2index[t])\r\n",
        "  return word_ind_list,pos_ind_list\r\n"
      ],
      "execution_count": null,
      "outputs": []
    },
    {
      "cell_type": "markdown",
      "metadata": {
        "id": "KU6_M9OWqgvv"
      },
      "source": [
        "## The Perceptron algorithm:\r\n"
      ]
    },
    {
      "cell_type": "markdown",
      "metadata": {
        "id": "dR5PPWD4T97K"
      },
      "source": [
        "\r\n",
        "The scoring function is defined to be the dot product of the feature function by a weight vector w.\r\n",
        "\r\n",
        "Implement the averaged perceptron algorithm for learning w from the training set. Use 2 iterations (i.e., two traversals over the examples) and a learning rate equal to 1. Traverse the training instances in a random order to avoid artefacts."
      ]
    },
    {
      "cell_type": "code",
      "metadata": {
        "id": "_wDUHYQ5Uo3W"
      },
      "source": [
        "def create_pair_list(ind_word_features,ind_pos_features):\r\n",
        "  \"\"\" This function gets as input two list of indexes:\r\n",
        "    1. a list of indexes of words in a sentence.\r\n",
        "    2. a list of indexes of tags in a sentence.\r\n",
        "    The function return a list of words indexes pairs, and a list of tags indexes\r\n",
        "    pair. It finds all possible pairs of different items.\"\"\"\r\n",
        "  words_pairs = []\r\n",
        "  pos_pairs = []\r\n",
        "  for i_w, i_pos in zip(ind_word_features,ind_pos_features):\r\n",
        "    for j_w, j_pos in zip(ind_word_features,ind_pos_features):\r\n",
        "      # There cannot be an arc from node to root\r\n",
        "      if j_w != 0 and i_w!=j_w:\r\n",
        "        words_pairs.append([i_w,j_w])\r\n",
        "        pos_pairs.append([i_pos,j_pos])\r\n",
        "  return words_pairs,pos_pairs"
      ],
      "execution_count": null,
      "outputs": []
    },
    {
      "cell_type": "code",
      "metadata": {
        "id": "LJ_kEy9643eV"
      },
      "source": [
        "def update_weight(W,lr,true_words_arc, true_pos_arc, pred_words_arc , pred_pos_arc):\r\n",
        "  \"\"\" This function is responssible to update the weigts vector by index.\r\n",
        "  It performs substraction between the features function of the gold standart arcs\r\n",
        "  and the features function of the predicted arcs. Since the featurs vectors are \r\n",
        "  binary, if the gold standart arc is the same as the predictied one no update is done.\r\n",
        "  Otherwise, the substraction is done by adding 1 to the true arc's index on W, \r\n",
        "  and substraction 1 from the predicted arc's index on W. \"\"\"\r\n",
        "  if true_words_arc != pred_words_arc :\r\n",
        "    W[true_words_arc] += (1 * lr)\r\n",
        "    W[pred_words_arc] -= (1 * lr)\r\n",
        "  if true_pos_arc != pred_pos_arc:\r\n",
        "    W[true_pos_arc] += (1 * lr)\r\n",
        "    W[pred_pos_arc] -= (1 * lr)   \r\n",
        "  return W"
      ],
      "execution_count": null,
      "outputs": []
    },
    {
      "cell_type": "markdown",
      "metadata": {
        "id": "aVyO_mMCUNQ6"
      },
      "source": [
        "![image.png](data:image/png;base64,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)"
      ]
    },
    {
      "cell_type": "markdown",
      "metadata": {
        "id": "veEp1y9ate7Z"
      },
      "source": [
        "Eeach word in the sentence has an index according to it's location on the words set [1 - 11253].\r\n",
        "\r\n",
        "The index 0 for both word and tag belongs to the root.\r\n",
        "\r\n",
        "Each tag that matches the relevant word has an index according to it's location on the tags set [1 - 45]"
      ]
    },
    {
      "cell_type": "code",
      "metadata": {
        "id": "fdc7mIePUgps"
      },
      "source": [
        "def Perceptron(sentences,sentences_tags,words_set,tags_set,iterations,lr,training_set):\r\n",
        "  # Traverse the training instances in a random order\r\n",
        "  to_shuffle = list(zip(sentences,sentences_tags, training_set))\r\n",
        "  random.shuffle(to_shuffle)\r\n",
        "  shuff_sentences,shuff_sentences_tags, shuff_training_set = zip(*to_shuffle)\r\n",
        "  # add one more word and one more tag for ROOT\r\n",
        "  num_of_words = len(words_set) + 1\r\n",
        "  num_of_tags = len(tags_set) + 1\r\n",
        "  # create list of learned weights\r\n",
        "  W_list = []\r\n",
        "  # initiaize the weights vector with zeros\r\n",
        "  W = np.zeros(num_of_words**2 + num_of_tags**2 +1)\r\n",
        "  for r in range(iterations):\r\n",
        "    for i in range(len(sentences)):\r\n",
        "      # create arcs list for each sentence\r\n",
        "      arcs = []\r\n",
        "\r\n",
        "      ind_word_features , ind_pos_features =  index_word_pos_bigrams(shuff_sentences[i] , shuff_sentences_tags[i],words_set,tags_set)\r\n",
        "      # create pairs list of words and their pos\r\n",
        "      words_pairs,pos_pairs = create_pair_list(ind_word_features,ind_pos_features)\r\n",
        "      # for each pair of words \r\n",
        "      for (v,u) , (pos1,pos2) in zip(words_pairs,pos_pairs):\r\n",
        "          # calculate the score by updating only the relevant indexes in the weights vector\r\n",
        "          score = W[ v * num_of_words + u ] + W[pos1 * num_of_tags + num_of_words**2 + pos2] \r\n",
        "          # create an arc\r\n",
        "          arc = namedtuple('arc', ['head', 'tail', 'weight'])\r\n",
        "          # minus the score to get maximal spanning tree\r\n",
        "          arc.weight = -score\r\n",
        "          arc.head = v\r\n",
        "          arc.tail = u\r\n",
        "          arcs.append(arc)\r\n",
        "\r\n",
        "      # find maximal spanning tree \r\n",
        "      T_min = min_spanning_arborescence_nx(arcs,0)\r\n",
        "\r\n",
        "      # for each sentence create a dictionary from a word to it's tag\r\n",
        "      sen_word2tag ={}\r\n",
        "      sen_word2tag['ROOT'] = 'ROOT'\r\n",
        "      for k in range(len(shuff_sentences[i])):\r\n",
        "        word = shuff_sentences[i][k]\r\n",
        "        tag = shuff_sentences_tags[i][k]\r\n",
        "        sen_word2tag[word] = tag\r\n",
        "\r\n",
        "      # travarse both trees to find the words of an arc and their tags\r\n",
        "      for T_min_val,T_val  in zip(T_min.values(),shuff_training_set[i].nodes.values()):\r\n",
        "        # get words indexes\r\n",
        "        pred_v,pred_u = T_min_val.head,T_min_val.tail\r\n",
        "        # get words\r\n",
        "        v,u = index2word[pred_v],index2word[pred_u] \r\n",
        "        # get tags\r\n",
        "        pred_v_tag,pred_u_tag = sen_word2tag[v],sen_word2tag[u] \r\n",
        "        # get tags indexes\r\n",
        "        pred_v_tag,pred_u_tag = tag2index[pred_v_tag] , tag2index[pred_u_tag]\r\n",
        "\r\n",
        "        # indexes that matches the weights vector\r\n",
        "        pred_words_arc = pred_v * num_of_words + pred_u\r\n",
        "        pred_pos_arc = pred_v_tag * num_of_tags + num_of_words**2 +  pred_u_tag\r\n",
        "\r\n",
        "        # gold standart tree\r\n",
        "        head , tail = T_val['head'],T_val['address']\r\n",
        "        # check that the head node is not a root\r\n",
        "        if head:\r\n",
        "          head_word = shuff_sentences[i][head-1]\r\n",
        "          true_head = word2index[head_word]\r\n",
        "          head_tag = sen_word2tag[head_word]\r\n",
        "          head_tag = tag2index[head_tag]\r\n",
        "\r\n",
        "        # if the head is a root \r\n",
        "        if head == 0 :\r\n",
        "          true_head = 0\r\n",
        "          head_tag = 0\r\n",
        "\r\n",
        "        # if the head node is None the tail is the root - we'll treat it as the \r\n",
        "        # arc between the root to the first word on the tree\r\n",
        "        if head is None:\r\n",
        "          true_head = 0\r\n",
        "          head_tag = 0\r\n",
        "          tail = (T_val['deps']['ROOT'])[0]\r\n",
        "          \r\n",
        "        tail_word = shuff_sentences[i][tail-1]\r\n",
        "        true_tail = word2index[tail_word]\r\n",
        "        tail_tag = sen_word2tag[tail_word]\r\n",
        "        tail_tag = tag2index[tail_tag]\r\n",
        "\r\n",
        "        true_words_arc = true_head * num_of_words + true_tail\r\n",
        "        true_pos_arc = head_tag * num_of_tags + num_of_words**2 +  tail_tag\r\n",
        "\r\n",
        "        W = update_weight(W,lr,true_words_arc, true_pos_arc, pred_words_arc , pred_pos_arc)\r\n",
        "\r\n",
        "      W_list.append(W)\r\n",
        "  sum_W =0\r\n",
        "  for w in W_list:\r\n",
        "    sum_W += w\r\n",
        "  W_avg = sum_W/ (2*len(sentences))\r\n",
        "  return W_avg\r\n",
        " "
      ],
      "execution_count": null,
      "outputs": []
    },
    {
      "cell_type": "markdown",
      "metadata": {
        "id": "J-SZl9rtuFRQ"
      },
      "source": [
        "### Evaluate training"
      ]
    },
    {
      "cell_type": "code",
      "metadata": {
        "id": "GlHsVfai-1Dk"
      },
      "source": [
        "def create_gold_standart(tree,sentence,to_check_root,toPrint,to_check_unknown_words):\r\n",
        "  \"\"\" This function return a list of pairs indexes representing words in arcs of \r\n",
        "  the gold standart tree.\r\n",
        "  Handaling the root on gold standart tree is done by checking:\r\n",
        "  if head = 0 , than this arc is between the root to another word.\r\n",
        "  The index of a tail word can be found by the dicitionary\r\n",
        "  if head is None, than this arc is between None to the root.\"\"\"\r\n",
        "  true_arcs_lst = []\r\n",
        "  for d in tree.nodes.values():\r\n",
        "    head ,tail = d['head'],d['address']\r\n",
        "    # arcs doesnt not has a root in it \r\n",
        "    if head and tail:\r\n",
        "        v,u = sentence[head-1],sentence[tail-1]\r\n",
        "        if toPrint:\r\n",
        "          printif toPrint:\r\n",
        "        # check unknown words that did not apeared in training set \r\n",
        "        if to_check_unknown_words :\r\n",
        "          if v not in word2index : \r\n",
        "            v_index = -1\r\n",
        "          if u not in word2index:\r\n",
        "            u_index = -1 \r\n",
        "          if v in word2index : \r\n",
        "            v_index = word2index[v]\r\n",
        "          if u in word2index:\r\n",
        "            u_index = word2index[u]\r\n",
        "        else:\r\n",
        "          if v in word2index:\r\n",
        "            if u in word2index:\r\n",
        "              v_index,u_index = word2index[v],word2index[u]\r\n",
        "        true_arcs_lst.append([v_index,u_index ])\r\n",
        "    # head is 0 - arc between root to the first word\r\n",
        "    if not head and tail :\r\n",
        "      u = sentence[tail-1]\r\n",
        "      if toPrint:\r\n",
        "        print('ROOT',u)\r\n",
        "      if u in word2index:\r\n",
        "        u_index = word2index[u] \r\n",
        "      else:\r\n",
        "        if to_check_unknown_words:\r\n",
        "          u_index = -1\r\n",
        "      true_arcs_lst.append([0,u_index])\r\n",
        "    # if we want to add the indexes of the root's arc.\r\n",
        "    if to_check_root:\r\n",
        "      if head is None :\r\n",
        "          deps = d['deps']['ROOT']\r\n",
        "          u_index = deps[0]\r\n",
        "          true_arcs_lst.append([0,u_index-1])\r\n",
        "          if toPrint:\r\n",
        "            print('ROOT',sentence[u_index-1])\r\n",
        "      \r\n",
        "  return true_arcs_lst"
      ],
      "execution_count": null,
      "outputs": []
    },
    {
      "cell_type": "code",
      "metadata": {
        "id": "AIoJkIlVu9XQ"
      },
      "source": [
        "def create_predicted_arcs_list(T_min,toPrint):\r\n",
        "  \"\"\"This function returns a list of arcs indexes from the maximal spanning tree\"\"\"\r\n",
        "  pred_arcs_lst =[]\r\n",
        "  for k in T_min.values():\r\n",
        "    pred_arcs_lst.append([k.head,k.tail])\r\n",
        "    if toPrint:\r\n",
        "      print(index2word[k.head] , index2word[k.tail])\r\n",
        "  return pred_arcs_lst"
      ],
      "execution_count": null,
      "outputs": []
    },
    {
      "cell_type": "code",
      "metadata": {
        "id": "8Fd_aCL7u58h"
      },
      "source": [
        "def calculate_accuracy(true_arcs_lst,pred_arcs_lst,toPrint):\r\n",
        "  \"\"\"This function calculates the accuracy by counting the number of shared arcs\r\n",
        "  between the gold standart tree and the maximal spanning tree\"\"\"\r\n",
        "  correct = 0\r\n",
        "  for v,u in true_arcs_lst:\r\n",
        "    if [v,u] in pred_arcs_lst:\r\n",
        "      if toPrint:\r\n",
        "        print(index2word[v],index2word[u])\r\n",
        "      correct += 1\r\n",
        "  return correct / len(true_arcs_lst)"
      ],
      "execution_count": null,
      "outputs": []
    },
    {
      "cell_type": "code",
      "metadata": {
        "id": "GQqRpxsSA5N0"
      },
      "source": [
        "def eval_training(weight_res):\r\n",
        "  \"\"\"This function calculates average accuracy of 100 sentences from the\r\n",
        "   training set with the learned weights\"\"\"\r\n",
        "  train_avg_accuracy = 0\r\n",
        "  num_of_words = len(words_set) + 1\r\n",
        "  num_of_tags = len(tags_set) + 1\r\n",
        "  for m in range(100):\r\n",
        "    train_arcs = []\r\n",
        "    train_ind_word_features,train_ind_pos_features =  index_word_pos_bigrams(sentences[m],sentences_tags[m],words_set,tags_set)\r\n",
        "    train_words_pairs,train_pos_pairs = create_pair_list(train_ind_word_features,train_ind_pos_features)\r\n",
        "\r\n",
        "    for (v,u) , (pos1,pos2) in zip(train_words_pairs,train_pos_pairs):\r\n",
        "      # The scoring function is defined to be the dot product of the feature function by a weight vector w.\r\n",
        "      score = weight_res[ v*num_of_words + u ] + weight_res[pos1 * num_of_tags + num_of_words**2 + pos2] \r\n",
        "      train_arc = namedtuple('arc', ['head', 'tail', 'weight'])\r\n",
        "\r\n",
        "      # minus the score to get maximal spanning tree\r\n",
        "      train_arc.weight = -score\r\n",
        "      train_arc.head = v\r\n",
        "      train_arc.tail = u\r\n",
        "      train_arcs.append(train_arc)\r\n",
        "    # find maximal spanning tree \r\n",
        "    T_max_train = min_spanning_arborescence_nx(train_arcs,0)\r\n",
        "    train_gold_standart = create_gold_standart(training_set[m],sentences[m],True,False,True)\r\n",
        "    train_predicted_arcs = create_predicted_arcs_list(T_max_train,False)\r\n",
        "    train_accuracy = calculate_accuracy(train_gold_standart,train_predicted_arcs,False)\r\n",
        "    train_avg_accuracy += train_accuracy\r\n",
        "  train_avg_accuracy = train_avg_accuracy / 100\r\n",
        "  return train_avg_accuracy,T_max_train,m"
      ],
      "execution_count": null,
      "outputs": []
    },
    {
      "cell_type": "markdown",
      "metadata": {
        "id": "faZeZ5_vKLj8"
      },
      "source": [
        "Evaluate 100 sentences from training set results average accuracy is : 0.519\r\n"
      ]
    },
    {
      "cell_type": "code",
      "metadata": {
        "id": "UQ3uHGOmgAjG"
      },
      "source": [
        "train_avg_accuracy,T_max_train,m = train_avg_accuracy, T_max_train,index_of_sen = eval_training(check_root_res)"
      ],
      "execution_count": null,
      "outputs": []
    },
    {
      "cell_type": "code",
      "metadata": {
        "colab": {
          "base_uri": "https://localhost:8080/"
        },
        "id": "bvCYha6gGGFs",
        "outputId": "8b96b4a9-6924-42c0-b94e-0bad23591228"
      },
      "source": [
        "train_avg_accuracy"
      ],
      "execution_count": null,
      "outputs": [
        {
          "output_type": "execute_result",
          "data": {
            "text/plain": [
              "0.5195980049841381"
            ]
          },
          "metadata": {
            "tags": []
          },
          "execution_count": 117
        }
      ]
    },
    {
      "cell_type": "markdown",
      "metadata": {
        "id": "6iogImMyvUWV"
      },
      "source": [
        "#### Example of one sentence"
      ]
    },
    {
      "cell_type": "code",
      "metadata": {
        "colab": {
          "base_uri": "https://localhost:8080/"
        },
        "id": "0YgkuK0cGerX",
        "outputId": "95b42aac-2a3a-442d-fd31-9492eeb78c20"
      },
      "source": [
        "pred = create_predicted_arcs_list(T_max_train,True)"
      ],
      "execution_count": null,
      "outputs": [
        {
          "output_type": "stream",
          "text": [
            "ROOT underscore\n",
            "Plans that\n",
            "that give\n",
            "that have\n",
            "give maintaining\n",
            "give .\n",
            "advertisers ad\n",
            "advertisers competition\n",
            "discounts for\n",
            "maintaining or\n",
            "maintaining increasing\n",
            "maintaining spending\n",
            "or discounts\n",
            "increasing at\n",
            "ad Plans\n",
            "ad the\n",
            "ad B.\n",
            "ad Zuckerman\n",
            "ad World\n",
            "have News\n",
            "become fixtures\n",
            "become between\n",
            "become advertisers\n",
            "permanent become\n",
            "at weeklies\n",
            "at Inc.\n",
            "weeklies news\n",
            "underscore permanent\n",
            "competition fierce\n",
            "between Report\n",
            "Inc. ,\n",
            "Inc. &\n",
            "'s Newsweek\n",
            "'s Warner\n",
            "'s magazine\n",
            "'s Mortimer\n",
            "'s U.S.\n",
            "magazine Time\n",
            "Report and\n",
            "Report 's\n"
          ],
          "name": "stdout"
        }
      ]
    },
    {
      "cell_type": "code",
      "metadata": {
        "colab": {
          "base_uri": "https://localhost:8080/"
        },
        "id": "HWCUNvOlGerY",
        "outputId": "a08ae08d-9a21-4353-81d7-2a542c81c75d"
      },
      "source": [
        "gold_stand = create_gold_standart(training_set[m],sentences[m],True,True,True)"
      ],
      "execution_count": null,
      "outputs": [
        {
          "output_type": "stream",
          "text": [
            "ROOT have\n",
            "have Plans\n",
            "Plans that\n",
            "that give\n",
            "give advertisers\n",
            "give discounts\n",
            "discounts for\n",
            "for maintaining\n",
            "maintaining or\n",
            "maintaining increasing\n",
            "spending ad\n",
            "maintaining spending\n",
            "have become\n",
            "fixtures permanent\n",
            "become fixtures\n",
            "fixtures at\n",
            "weeklies the\n",
            "at weeklies\n",
            "weeklies news\n",
            "have and\n",
            "have underscore\n",
            "competition the\n",
            "underscore competition\n",
            "competition fierce\n",
            "competition between\n",
            "Report Newsweek\n",
            "between Report\n",
            "Report ,\n",
            "'s Time\n",
            "magazine 's\n",
            "'s Warner\n",
            "'s Inc.\n",
            "Report magazine\n",
            "magazine Time\n",
            "Report ,\n",
            "Report and\n",
            "'s Mortimer\n",
            "Report 's\n",
            "'s B.\n",
            "'s Zuckerman\n",
            "Report U.S.\n",
            "Report News\n",
            "Report &\n",
            "Report World\n",
            "have .\n"
          ],
          "name": "stdout"
        }
      ]
    },
    {
      "cell_type": "markdown",
      "metadata": {
        "id": "rvGPeJzDa8gd"
      },
      "source": [
        "Print the shared arcs of gold standart tree and predicted tree"
      ]
    },
    {
      "cell_type": "code",
      "metadata": {
        "colab": {
          "base_uri": "https://localhost:8080/"
        },
        "id": "cmbNysUoGerY",
        "outputId": "c0e07ab0-6050-4105-dc9e-98cb2e992795"
      },
      "source": [
        "calculate_accuracy(gold_stand,pred,True)"
      ],
      "execution_count": null,
      "outputs": [
        {
          "output_type": "stream",
          "text": [
            "Plans that\n",
            "that give\n",
            "discounts for\n",
            "maintaining or\n",
            "maintaining increasing\n",
            "maintaining spending\n",
            "become fixtures\n",
            "at weeklies\n",
            "weeklies news\n",
            "competition fierce\n",
            "between Report\n",
            "'s Warner\n",
            "magazine Time\n",
            "Report and\n",
            "'s Mortimer\n",
            "Report 's\n"
          ],
          "name": "stdout"
        },
        {
          "output_type": "execute_result",
          "data": {
            "text/plain": [
              "0.34782608695652173"
            ]
          },
          "metadata": {
            "tags": []
          },
          "execution_count": 123
        }
      ]
    },
    {
      "cell_type": "markdown",
      "metadata": {
        "id": "HpKeJ4RSKZgi"
      },
      "source": [
        "## Evaluation"
      ]
    },
    {
      "cell_type": "markdown",
      "metadata": {
        "id": "DN3f_CnbKzxg"
      },
      "source": [
        "Compute the (unlabeled) attachment score for the learned w (i.e., the number of edges shared by the predicted tree and the gold standard tree divided by the number of words; see lecturenotes), averaged over all sentences in the test set. Report your results in the pdf file."
      ]
    },
    {
      "cell_type": "code",
      "metadata": {
        "id": "aQ3ampN_dR6e"
      },
      "source": [
        "def index_word_pos_bigrams_test(sentence,sentence_tags,words_set,tags_set):\r\n",
        "  word_ind_list = []\r\n",
        "  pos_ind_list = []\r\n",
        "  word_ind_list.append(word2index['ROOT'])\r\n",
        "  pos_ind_list.append(tag2index['ROOT'])\r\n",
        "\r\n",
        "  for w,t in zip(sentence,sentence_tags):\r\n",
        "    if w in word2index:\r\n",
        "      word_ind_list.append(word2index[w])\r\n",
        "      pos_ind_list.append(tag2index[t])\r\n",
        "  return word_ind_list,pos_ind_list"
      ],
      "execution_count": null,
      "outputs": []
    },
    {
      "cell_type": "code",
      "metadata": {
        "id": "St4Mgs8jKbOZ"
      },
      "source": [
        "def evaluate(W_avg,test_sentences,test_sentences_tags,test_set,to_check_root,to_check_unknown_words):\r\n",
        "  avg_accuracy = 0\r\n",
        "  acuuracy_lst = []\r\n",
        "  num_of_words = len(words_set) + 1\r\n",
        "  num_of_tags = len(tags_set) + 1\r\n",
        "  for i in range(len(test_sentences)):\r\n",
        "    test_arcs = []\r\n",
        "    test_ind_word_features,test_ind_pos_features =  index_word_pos_bigrams_test(test_sentences[i],test_sentences_tags[i],words_set,tags_set)\r\n",
        "    test_words_pairs,test_pos_pairs = create_pair_list(test_ind_word_features,test_ind_pos_features)\r\n",
        "\r\n",
        "    for (v,u) , (pos1,pos2) in zip(test_words_pairs,test_pos_pairs):\r\n",
        "      # The scoring function is defined to be the dot product of the feature function by a weight vector w.\r\n",
        "      score = W_avg[ v*num_of_words + u ] + W_avg[pos1 * num_of_tags + num_of_words**2 + pos2] \r\n",
        "      test_arc = namedtuple('arc', ['head', 'tail', 'weight'])\r\n",
        "\r\n",
        "      # minus the score to get maximal spanning tree\r\n",
        "      test_arc.weight = -score\r\n",
        "      test_arc.head = v\r\n",
        "      test_arc.tail = u\r\n",
        "      test_arcs.append(test_arc)\r\n",
        "    # find maximal spanning tree \r\n",
        "    T_max_test = min_spanning_arborescence_nx(test_arcs,0)\r\n",
        "    test_gold_standart = create_gold_standart(test_set[i],test_sentences[i],to_check_root,False,to_check_unknown_words)\r\n",
        "    test_predicted_arcs = create_predicted_arcs_list(T_max_test,False)\r\n",
        "    test_accuracy = calculate_accuracy(test_gold_standart,test_predicted_arcs,False)\r\n",
        "    acuuracy_lst.append(test_accuracy)\r\n",
        "    avg_accuracy += test_accuracy\r\n",
        "  avg_accuracy = avg_accuracy / len(test_sentences)\r\n",
        "  return avg_accuracy,acuuracy_lst"
      ],
      "execution_count": null,
      "outputs": []
    },
    {
      "cell_type": "markdown",
      "metadata": {
        "id": "ddMzg5tLMYqx"
      },
      "source": [
        "### Final results - accuracy is 0.301"
      ]
    },
    {
      "cell_type": "markdown",
      "metadata": {
        "id": "ssM7BUr8ULMw"
      },
      "source": [
        "Evaluate sentences from test set:\r\n",
        "\r\n",
        "We tried different ways to deal with the root - we show the results for 3 different approach.\r\n",
        "\r\n",
        "We chose the first apporach - map root nodes of arcs by checking if the head node is None or 0.\r\n",
        "if the head node is None than this arc is the one that represents the root,\r\n",
        "if the head node is 0 than this arc is from the root to the first word.\r\n",
        "Else , we find the head index with dictionaries that maps index in sentence to word, and a word from the words set of training set to an index that will be updated in W.\r\n",
        "\r\n",
        "Check root mean that we check if the arc (head = None,tail = 0) appears in the predicted tree. Logically that shouldn't apear in the predicted three, but we checked it anyway.\r\n",
        "\r\n",
        "  The accuracy is:\r\n",
        "\r\n",
        "  1. When root is defined by index 0 , and the word it connected to get's the relevant index\r\n",
        "\r\n",
        "  No root: **0.301**\r\n",
        "\r\n",
        "  Check root : 0.284\r\n",
        "  \r\n",
        "  2. When root's head and tail are defined by indexes 0 (ignoring the word that the root is connected to)\r\n",
        "\r\n",
        "  No root: **0.267**\r\n",
        "\r\n",
        "  Check root : 0.251\r\n",
        "\r\n",
        "  3. When only root's head is defined by indexes 0, without checking if head is None\r\n",
        "\r\n",
        "  No root: **0.2799**\r\n",
        "\r\n",
        "  Check root : 0.263\r\n"
      ]
    },
    {
      "cell_type": "markdown",
      "metadata": {
        "id": "SjHGT19Ppd45"
      },
      "source": [
        "1. When root is defined by index 0 , and the word it connected to get's the relevant index"
      ]
    },
    {
      "cell_type": "markdown",
      "metadata": {
        "id": "SZQmo2lhM4dq"
      },
      "source": [
        "Without adding the arc of the root, only the arc from the root to the first word"
      ]
    },
    {
      "cell_type": "code",
      "metadata": {
        "id": "WT9894kZ_Q0T"
      },
      "source": [
        "check_root_res = Perceptron(sentences,sentences_tags,words_set,tags_set,2,1,training_set)"
      ],
      "execution_count": null,
      "outputs": []
    },
    {
      "cell_type": "code",
      "metadata": {
        "id": "JhJvUjWHBipF"
      },
      "source": [
        "check_avg_accuracy,check_acuuracy_lst = evaluate(check_root_res,test_sentences,test_sentences_tags,test_set,False,True)"
      ],
      "execution_count": null,
      "outputs": []
    },
    {
      "cell_type": "code",
      "metadata": {
        "colab": {
          "base_uri": "https://localhost:8080/"
        },
        "id": "C6f8B5GFBipF",
        "outputId": "a2299303-4573-411f-961c-b7c1e0902648"
      },
      "source": [
        "check_avg_accuracy"
      ],
      "execution_count": null,
      "outputs": [
        {
          "output_type": "execute_result",
          "data": {
            "text/plain": [
              "0.30118457046490127"
            ]
          },
          "metadata": {
            "tags": []
          },
          "execution_count": 110
        }
      ]
    },
    {
      "cell_type": "markdown",
      "metadata": {
        "id": "O-fetlaJNDRq"
      },
      "source": [
        "Adding the arc of the root, in addition to the arc from the root to the first word"
      ]
    },
    {
      "cell_type": "code",
      "metadata": {
        "id": "MU9RLvJtBipG"
      },
      "source": [
        "check_root_avg_accuracy,check_root_acuuracy_lst = evaluate(check_root_res,test_sentences,test_sentences_tags,test_set,True,True)"
      ],
      "execution_count": null,
      "outputs": []
    },
    {
      "cell_type": "code",
      "metadata": {
        "colab": {
          "base_uri": "https://localhost:8080/"
        },
        "id": "tAw8P_NFBipH",
        "outputId": "21532ff2-d405-408d-8023-d70e2d6752da"
      },
      "source": [
        "check_root_avg_accuracy"
      ],
      "execution_count": null,
      "outputs": [
        {
          "output_type": "execute_result",
          "data": {
            "text/plain": [
              "0.2840535998714771"
            ]
          },
          "metadata": {
            "tags": []
          },
          "execution_count": 112
        }
      ]
    },
    {
      "cell_type": "markdown",
      "metadata": {
        "id": "oaEmZVRQYFsn"
      },
      "source": [
        "2. When we have a root node we define : \r\n",
        "\r\n",
        "          true_head = 0\r\n",
        "          head_tag = 0\r\n",
        "          true_tail = 0\r\n",
        "          tail_tag = 0"
      ]
    },
    {
      "cell_type": "code",
      "metadata": {
        "id": "fyK02lD0YsxV"
      },
      "source": [
        "result = Perceptron(sentences,sentences_tags,words_set,tags_set,2,1,training_set)"
      ],
      "execution_count": null,
      "outputs": []
    },
    {
      "cell_type": "markdown",
      "metadata": {
        "id": "FuSYgtfypBj9"
      },
      "source": [
        "Not taking the arc of (None,0)"
      ]
    },
    {
      "cell_type": "code",
      "metadata": {
        "id": "eE937Xb2ovz6"
      },
      "source": [
        "res_avg_accuracy,res_acuuracy_lst = evaluate(result,test_sentences,test_sentences_tags,test_set,True)"
      ],
      "execution_count": null,
      "outputs": []
    },
    {
      "cell_type": "code",
      "metadata": {
        "colab": {
          "base_uri": "https://localhost:8080/"
        },
        "id": "k90EDhOftlw7",
        "outputId": "964d4fb4-db3b-4f99-c52b-4ae4c1e7cbc1"
      },
      "source": [
        "res_avg_accuracy"
      ],
      "execution_count": null,
      "outputs": [
        {
          "output_type": "execute_result",
          "data": {
            "text/plain": [
              "0.25163937945144926"
            ]
          },
          "metadata": {
            "tags": []
          },
          "execution_count": 83
        }
      ]
    },
    {
      "cell_type": "markdown",
      "metadata": {
        "id": "7e5JupxepHaD"
      },
      "source": [
        "Taking the arc of (None,0)"
      ]
    },
    {
      "cell_type": "code",
      "metadata": {
        "id": "8OnbtPnEtsMC"
      },
      "source": [
        "res_avg_accuracy,res_acuuracy_lst = evaluate(result,test_sentences,test_sentences_tags,test_set,False)"
      ],
      "execution_count": null,
      "outputs": []
    },
    {
      "cell_type": "code",
      "metadata": {
        "colab": {
          "base_uri": "https://localhost:8080/"
        },
        "id": "KhSKe_MUum27",
        "outputId": "f3b57041-ce0f-421d-b0ed-56351b165e13"
      },
      "source": [
        "res_avg_accuracy"
      ],
      "execution_count": null,
      "outputs": [
        {
          "output_type": "execute_result",
          "data": {
            "text/plain": [
              "0.2668187039734554"
            ]
          },
          "metadata": {
            "tags": []
          },
          "execution_count": 85
        }
      ]
    },
    {
      "cell_type": "markdown",
      "metadata": {
        "id": "5Q7pAtSwYnXc"
      },
      "source": [
        "3. When we have a root node we define : \r\n",
        "\r\n",
        "          true_head = 0\r\n",
        "          head_tag = 0\r\n"
      ]
    },
    {
      "cell_type": "markdown",
      "metadata": {
        "id": "tIaREKjwozao"
      },
      "source": [
        "Not taking the arc of (None,0)"
      ]
    },
    {
      "cell_type": "code",
      "metadata": {
        "id": "hLelPpQb58VK"
      },
      "source": [
        "weight_res = Perceptron(sentences,sentences_tags,words_set,tags_set,2,1,training_set)"
      ],
      "execution_count": null,
      "outputs": []
    },
    {
      "cell_type": "code",
      "metadata": {
        "id": "_v7pfGGwTkq1"
      },
      "source": [
        "avg_accuracy,acuuracy_lst = evaluate(weight_res,test_sentences,test_sentences_tags,test_set,False)"
      ],
      "execution_count": null,
      "outputs": []
    },
    {
      "cell_type": "code",
      "metadata": {
        "colab": {
          "base_uri": "https://localhost:8080/"
        },
        "id": "654H_LkZUIir",
        "outputId": "c83d9963-26f4-47e2-a1d7-e1ed845b4cfd"
      },
      "source": [
        "avg_accuracy"
      ],
      "execution_count": null,
      "outputs": [
        {
          "output_type": "execute_result",
          "data": {
            "text/plain": [
              "0.2799387739859107"
            ]
          },
          "metadata": {
            "tags": []
          },
          "execution_count": 76
        }
      ]
    },
    {
      "cell_type": "markdown",
      "metadata": {
        "id": "gST_acRQo6jj"
      },
      "source": [
        "Taking the arc of (None,0)"
      ]
    },
    {
      "cell_type": "code",
      "metadata": {
        "id": "sQaDpk3STsNn"
      },
      "source": [
        "avg_accuracy,acuuracy_lst = evaluate(weight_res,test_sentences,test_sentences_tags,test_set,True)"
      ],
      "execution_count": null,
      "outputs": []
    },
    {
      "cell_type": "code",
      "metadata": {
        "colab": {
          "base_uri": "https://localhost:8080/"
        },
        "id": "KbWVmfLpUdWa",
        "outputId": "09b4879e-d90d-4109-e547-267055e0e07c"
      },
      "source": [
        "avg_accuracy"
      ],
      "execution_count": null,
      "outputs": [
        {
          "output_type": "execute_result",
          "data": {
            "text/plain": [
              "0.26352817276333607"
            ]
          },
          "metadata": {
            "tags": []
          },
          "execution_count": 78
        }
      ]
    },
    {
      "cell_type": "markdown",
      "metadata": {
        "id": "Petl2eX6MoNb"
      },
      "source": [
        "unknown words are counted when calculating accuracy"
      ]
    },
    {
      "cell_type": "code",
      "metadata": {
        "colab": {
          "base_uri": "https://localhost:8080/"
        },
        "id": "iITVTzKcMs-0",
        "outputId": "0e55b042-86c4-455b-8cc9-3174beccc729"
      },
      "source": [
        "avg_accuracy"
      ],
      "execution_count": null,
      "outputs": [
        {
          "output_type": "execute_result",
          "data": {
            "text/plain": [
              "0.2578687933173694"
            ]
          },
          "metadata": {
            "tags": []
          },
          "execution_count": 125
        }
      ]
    },
    {
      "cell_type": "markdown",
      "metadata": {
        "id": "BFNnGokjMDyF"
      },
      "source": [
        "Not taking the unknown words "
      ]
    },
    {
      "cell_type": "code",
      "metadata": {
        "colab": {
          "base_uri": "https://localhost:8080/"
        },
        "id": "WgodLyMjZ_U2",
        "outputId": "8d4d11d1-ca66-45c6-a39f-2ba6776a6106"
      },
      "source": [
        "avg_accuracy"
      ],
      "execution_count": null,
      "outputs": [
        {
          "output_type": "execute_result",
          "data": {
            "text/plain": [
              "0.3160655540892543"
            ]
          },
          "metadata": {
            "tags": []
          },
          "execution_count": 119
        }
      ]
    },
    {
      "cell_type": "markdown",
      "metadata": {
        "id": "-DO-uq3e0n59"
      },
      "source": [
        "# Chu_Liu_Edmonds_algorithm"
      ]
    },
    {
      "cell_type": "markdown",
      "metadata": {
        "id": "SYPe4T1Ebl5n"
      },
      "source": [
        "minimum_spanning_arborescence returns a minimum spanning arborescence from G.\r\n",
        "\r\n",
        "Parameters:\t\r\n",
        "G ((multi)digraph-like) – The graph to be searched.\r\n",
        "\r\n",
        "attr (str) – The edge attribute used to in determining optimality.\r\n",
        "\r\n",
        "default (float) – The value of the edge attribute used if an edge does not have the attribute attr.\r\n",
        "\r\n",
        "Returns:\t\r\n",
        "B – A minimum spanning arborescence.\r\n",
        "\r\n",
        "Return type:\t\r\n",
        "(multi)digraph-like"
      ]
    },
    {
      "cell_type": "markdown",
      "metadata": {
        "id": "zh2t7O6RInyX"
      },
      "source": [
        "A maximum spanning tree is a spanning tree of a weighted graph having maximum weight. It can be computed by negating the weights for each edge"
      ]
    },
    {
      "cell_type": "code",
      "metadata": {
        "id": "Yp6MzhYT0dww"
      },
      "source": [
        "from collections import defaultdict, namedtuple\r\n",
        "from networkx import DiGraph\r\n",
        "from networkx.algorithms import minimum_spanning_arborescence\r\n",
        "\r\n",
        "\r\n",
        "def min_spanning_arborescence_nx(arcs, sink):\r\n",
        "    \"\"\"\r\n",
        "    Wrapper for the networkX min_spanning_tree to follow the original API\r\n",
        "    :param arcs: list of Arc tuples\r\n",
        "    :param sink: unused argument. We assume that 0 is the only possible root over the set of edges given to\r\n",
        "     the algorithm.\r\n",
        "    \"\"\"\r\n",
        "    G = DiGraph()\r\n",
        "    for arc in arcs:\r\n",
        "        G.add_edge(arc.head, arc.tail, weight=arc.weight)\r\n",
        "    ARB = minimum_spanning_arborescence(G)\r\n",
        "    result = {}\r\n",
        "    headtail2arc = {(a.head, a.tail): a for a in arcs}\r\n",
        "    for edge in ARB.edges:\r\n",
        "        tail = edge[1]\r\n",
        "        result[tail] = headtail2arc[(edge[0], edge[1])]\r\n",
        "    return result"
      ],
      "execution_count": null,
      "outputs": []
    }
  ]
}