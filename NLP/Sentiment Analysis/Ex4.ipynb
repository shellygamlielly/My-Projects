{
  "nbformat": 4,
  "nbformat_minor": 0,
  "metadata": {
    "colab": {
      "name": "Copy of nlp ex4.ipynb",
      "provenance": [],
      "collapsed_sections": []
    },
    "kernelspec": {
      "display_name": "Python 3",
      "name": "python3"
    }
  },
  "cells": [
    {
      "cell_type": "markdown",
      "metadata": {
        "id": "bSbOqjH4yK3M"
      },
      "source": [
        "#Content Drive"
      ]
    },
    {
      "cell_type": "code",
      "metadata": {
        "colab": {
          "base_uri": "https://localhost:8080/"
        },
        "id": "K5rMnm2MyHLO",
        "outputId": "3d0e4ea3-18f3-43b7-e73d-8f2b52437aa5"
      },
      "source": [
        "from google.colab import drive\r\n",
        "drive.mount('/content/drive')"
      ],
      "execution_count": null,
      "outputs": [
        {
          "output_type": "stream",
          "text": [
            "Mounted at /content/drive\n"
          ],
          "name": "stdout"
        }
      ]
    },
    {
      "cell_type": "markdown",
      "metadata": {
        "id": "8zDKJvWTzGwo"
      },
      "source": [
        "Imports"
      ]
    },
    {
      "cell_type": "code",
      "metadata": {
        "id": "xvWODYLmzIS1"
      },
      "source": [
        "import torch\r\n",
        "import torch.nn as nn\r\n",
        "import torch.nn.functional as F\r\n",
        "import torch.optim as optim\r\n",
        "import numpy as np\r\n",
        "import os\r\n",
        "from torch.utils.data import DataLoader, TensorDataset, Dataset\r\n",
        "import operator\r\n",
        "\r\n",
        "import pickle\r\n",
        "import tqdm\r\n",
        "\r\n",
        "import os\r\n",
        "import random"
      ],
      "execution_count": null,
      "outputs": []
    },
    {
      "cell_type": "markdown",
      "metadata": {
        "id": "Ty9UGO7XxTlg"
      },
      "source": [
        "# Data Loader"
      ]
    },
    {
      "cell_type": "code",
      "metadata": {
        "colab": {
          "base_uri": "https://localhost:8080/"
        },
        "id": "-bXx4WndxUZC",
        "outputId": "825816a5-e456-43e7-9202-69d639eb5543"
      },
      "source": [
        "POSITIVE_SENTIMENT = 1.\r\n",
        "NEGATIVE_SENTIMENT = 0.\r\n",
        "NEUTRAL_SENTIMENT = -1.\r\n",
        "\r\n",
        "\r\n",
        "SENTIMENT_NAMES = {\r\n",
        "    POSITIVE_SENTIMENT: \"Positive\",\r\n",
        "    NEUTRAL_SENTIMENT: \"Neutral\",\r\n",
        "    NEGATIVE_SENTIMENT: \"Negative\"\r\n",
        "}\r\n",
        "# file located in drive\r\n",
        "SENTS_PATH = '/content/drive/MyDrive/NLP_EX_4/Ex4_utils/SOStr.txt'\r\n",
        "TREES_PATH = '/content/drive/MyDrive/NLP_EX_4/Ex4_utils/STree.txt'\r\n",
        "DICT_PATH = '/content/drive/MyDrive/NLP_EX_4/Ex4_utils/dictionary.txt'\r\n",
        "LABELS_path = '/content/drive/MyDrive/NLP_EX_4/Ex4_utils/sentiment_labels.txt'\r\n",
        "\r\n",
        "\r\n",
        "def get_sentiment_class_from_val(sentiment_val: float):\r\n",
        "    if sentiment_val <= 0.4:\r\n",
        "        return NEGATIVE_SENTIMENT\r\n",
        "    elif sentiment_val >= 0.6:\r\n",
        "        return POSITIVE_SENTIMENT\r\n",
        "    else:\r\n",
        "        return NEUTRAL_SENTIMENT\r\n",
        "\r\n",
        "class SentimentTreeNode(object):\r\n",
        "    def __init__(self, text: list, sentiment_val: float, min_token_idx: int, children=[], parent=None):\r\n",
        "        self.text = text\r\n",
        "        self.sentiment_val = sentiment_val\r\n",
        "        self.min_token_idx = min_token_idx\r\n",
        "        self.sentiment_class = get_sentiment_class_from_val(sentiment_val)\r\n",
        "        self.children = children\r\n",
        "        self.parent = parent\r\n",
        "\r\n",
        "\r\n",
        "class Sentence(object):\r\n",
        "    \"\"\"\r\n",
        "    Represents a sentence in sentiment tree bank.\r\n",
        "    You can access the sentence text by sent.text\r\n",
        "    This will give you a list of tokens (strings) in the order that they appear in the sentence.\r\n",
        "    sent.sentiment_class is the coding of the annotated sentiment polarity of the sentence.\r\n",
        "    sent.sentiment_val is the exact annotated sentiment value in the range [0,1]\r\n",
        "    \"\"\"\r\n",
        "    def __init__(self, sentence_root: SentimentTreeNode):\r\n",
        "        self.root = sentence_root\r\n",
        "        self.text = sentence_root.text\r\n",
        "        self.sentiment_class = sentence_root.sentiment_class\r\n",
        "        self.sentiment_val = sentence_root.sentiment_val\r\n",
        "\r\n",
        "    def _get_leaves_recursively(self, cur_root):\r\n",
        "        if len(cur_root.children) == 0:\r\n",
        "            return [cur_root]\r\n",
        "        else:\r\n",
        "            cur_leaves = []\r\n",
        "            for child in cur_root.children:\r\n",
        "                cur_leaves += self._get_leaves_recursively(child)\r\n",
        "            return cur_leaves\r\n",
        "\r\n",
        "    def get_leaves(self):\r\n",
        "        return self._get_leaves_recursively(self.root)\r\n",
        "\r\n",
        "    def __repr__(self):\r\n",
        "        return \" \".join(self.text) + \" | \" + SENTIMENT_NAMES[self.sentiment_class] + \" | \" + str(self.sentiment_val)\r\n",
        "\r\n",
        "\r\n",
        "class SentimentTreeBank(object):\r\n",
        "    \"\"\"\r\n",
        "    The main object that represents the stanfordSentimentTreeBank dataset. Can be used to access the\r\n",
        "    examples and some other utilities.\r\n",
        "    \"\"\"\r\n",
        "    def __init__(self, path=\"stanfordSentimentTreebank\", split_ratios=(0.8,0.1,0.1), split_words=True):\r\n",
        "        \"\"\"\r\n",
        "\r\n",
        "        :param path: relative or absolute path to the datset directory\r\n",
        "        :param split_ratios: split ratios for train, validation and test. please do not change!\r\n",
        "        :param split_words: whether to split tokens with \"-\" and \"/\" symbols. please do not change!\r\n",
        "        \"\"\"\r\n",
        "        self._base_path = path\r\n",
        "        self.split_words = split_words\r\n",
        "        sentences = self._read_sentences()\r\n",
        "        self.sentences = self._build_dataset(sentences)\r\n",
        "        if self.split_words:\r\n",
        "            for sent in self.sentences:\r\n",
        "                leaves = sent.get_leaves()\r\n",
        "                for node in leaves:\r\n",
        "                    node_text = node.text\r\n",
        "                    splitted = node_text[0].split(\"-\")\r\n",
        "                    splitted_final = []\r\n",
        "                    for s in splitted:\r\n",
        "                        splitted_final.extend(s.split(\"\\\\/\"))\r\n",
        "                    if len(splitted_final) > 1 and all([len(s) > 0 for s in splitted_final]):\r\n",
        "                        leaves = [SentimentTreeNode([s], node.sentiment_val,\r\n",
        "                                                    min_token_idx=node.min_token_idx, parent=node) for\r\n",
        "                                  s in splitted_final]\r\n",
        "                        node.text = splitted_final\r\n",
        "                        node.children = leaves\r\n",
        "                        cur_parent = node.parent\r\n",
        "                        while cur_parent != None:\r\n",
        "                            cur_parent.text = []\r\n",
        "                            for child in cur_parent.children:\r\n",
        "                                cur_parent.text.extend(child.text)\r\n",
        "                            cur_parent = cur_parent.parent\r\n",
        "                sent.text = sent.root.text\r\n",
        "\r\n",
        "\r\n",
        "        assert len(split_ratios) == 3\r\n",
        "        assert sum(split_ratios) == 1\r\n",
        "        self.split_ratios = split_ratios\r\n",
        "\r\n",
        "\r\n",
        "\r\n",
        "    def _read_sentences(self):\r\n",
        "        sentences = []\r\n",
        "        with open(os.path.join(self._base_path, SENTS_PATH), \"r\", encoding=\"utf-8\") as f:\r\n",
        "            lines = f.read().split(\"\\n\")\r\n",
        "            for i, line in enumerate(lines):\r\n",
        "                if len(line.strip()) == 0:\r\n",
        "                    continue\r\n",
        "                line_content = line.strip()\r\n",
        "                tokens = line_content.split(\"|\")\r\n",
        "                tokens = [t.lower().replace(\"-lrb-\",\"(\").replace(\"-rrb-\", \")\") for t in tokens]\r\n",
        "                sentences.append(tokens)\r\n",
        "        return sentences\r\n",
        "\r\n",
        "    def _build_dataset(self, sentences):\r\n",
        "        phrases_dictionary = {}\r\n",
        "\r\n",
        "        # extract phrases\r\n",
        "        with open(os.path.join(self._base_path, DICT_PATH), \"r\", encoding=\"utf-8\") as f:\r\n",
        "            lines = f.read().split(\"\\n\")[:-1]\r\n",
        "            for line in lines:\r\n",
        "                phrase, phrase_id = line.strip().split(\"|\")\r\n",
        "                phrases_dictionary[phrase.lower().replace(\"-lrb-\",\"(\").replace(\"-rrb-\", \")\")] = int(phrase_id)\r\n",
        "\r\n",
        "        # extract labels\r\n",
        "        with open(os.path.join(self._base_path, LABELS_path), \"r\",  encoding=\"utf-8\") as f:\r\n",
        "            lines = [l.strip().split(\"|\") for l in f.read().split(\"\\n\")[1:-1]]\r\n",
        "            labels_dict = {int(l[0]): float(l[1]) for l in lines}\r\n",
        "\r\n",
        "\r\n",
        "        def get_val_from_phrase(phrase_tokens_list):\r\n",
        "            try:\r\n",
        "                return labels_dict[phrases_dictionary[\" \".join(phrase_tokens_list)]]\r\n",
        "            except:\r\n",
        "                print(\"couldn't find key!\")\r\n",
        "\r\n",
        "        # load the sentences tree structures\r\n",
        "        tree_pointers = []\r\n",
        "        with open(os.path.join(self._base_path, TREES_PATH), \"r\") as f:\r\n",
        "            for line in f.readlines():\r\n",
        "                sent_pointers = [int(p) for p in line.strip().split(\"|\")]\r\n",
        "                tree_pointers.append(sent_pointers)\r\n",
        "        assert len(tree_pointers) == len(sentences)\r\n",
        "\r\n",
        "        # create Sentence instances with tree of SentimentTreeNodes\r\n",
        "        labeled_sentences = []\r\n",
        "        for sent, sent_pointers in zip(sentences, tree_pointers):\r\n",
        "            try:\r\n",
        "\r\n",
        "                children_dict = {i: [] for i in range(len(sent_pointers))}\r\n",
        "                for i, p in enumerate(sent_pointers):\r\n",
        "                    if i < len(sent):\r\n",
        "                        node_text = [sent[i]]\r\n",
        "                        node = SentimentTreeNode(text=node_text, sentiment_val=get_val_from_phrase(node_text),\r\n",
        "                                                 min_token_idx=i)\r\n",
        "                    else:\r\n",
        "                        children = children_dict[i]\r\n",
        "                        children = sorted(children, key= lambda n: n.min_token_idx)\r\n",
        "                        node_text = []\r\n",
        "                        for child in children:\r\n",
        "                            node_text.extend(child.text)\r\n",
        "                        node = SentimentTreeNode(text=node_text, sentiment_val=get_val_from_phrase(node_text),\r\n",
        "                                                 children=children, min_token_idx=children[0].min_token_idx)\r\n",
        "                        for child in children:\r\n",
        "                            child.parent = node\r\n",
        "                    if p > 0:\r\n",
        "                        children_dict[p - 1].append(node)\r\n",
        "                    last_node = node\r\n",
        "                new_sentence = Sentence(last_node)\r\n",
        "                if new_sentence.sentiment_class == NEUTRAL_SENTIMENT:\r\n",
        "                    continue\r\n",
        "                labeled_sentences.append(new_sentence)\r\n",
        "            except Exception as e:\r\n",
        "                raise e\r\n",
        "                print(\"couldn't parse sentence!\")\r\n",
        "                print(sent)\r\n",
        "        random.Random(1).shuffle(labeled_sentences) # shuffle but with the same shuffle each time\r\n",
        "        return labeled_sentences\r\n",
        "\r\n",
        "    def get_train_set(self):\r\n",
        "        \"\"\"\r\n",
        "        :return: list of Sentence instances for the train part of the dataset\r\n",
        "        \"\"\"\r\n",
        "        if not hasattr(self, \"_train_set\"):\r\n",
        "            self._train_set = self.sentences[:int(self.split_ratios[0] * len(self.sentences))]\r\n",
        "        return self._train_set\r\n",
        "\r\n",
        "    def _extract_all_phrases(self, root):\r\n",
        "        phrases = [Sentence(root)] if root.sentiment_class != NEUTRAL_SENTIMENT else []\r\n",
        "        if len(root.text) == 1:\r\n",
        "            return []\r\n",
        "        for child in root.children:\r\n",
        "            phrases += self._extract_all_phrases(child)\r\n",
        "        return phrases\r\n",
        "\r\n",
        "    def get_train_set_phrases(self):\r\n",
        "        \"\"\"\r\n",
        "        :return: list of Sentence instances for the train part of the dataset including all sub-phrases\r\n",
        "        \"\"\"\r\n",
        "        if not hasattr(self, \"_train_set_phrases\"):\r\n",
        "            train_set = self.get_train_set()\r\n",
        "            train_set_phrases = []\r\n",
        "            for sent in train_set:\r\n",
        "                train_set_phrases += self._extract_all_phrases(sent.root)\r\n",
        "            self._train_set_phrases = train_set_phrases\r\n",
        "        return self._train_set_phrases\r\n",
        "\r\n",
        "    def get_test_set(self):\r\n",
        "        \"\"\"\r\n",
        "        :return: list of Sentence instances for the test part of the dataset\r\n",
        "        \"\"\"\r\n",
        "        if not hasattr(self, \"_test_set\"):\r\n",
        "            begin_index = int(self.split_ratios[0] * len(self.sentences))\r\n",
        "            end_index = int(sum(self.split_ratios[:2]) * len(self.sentences))\r\n",
        "            self._test_set = self.sentences[begin_index:end_index]\r\n",
        "        return self._test_set\r\n",
        "\r\n",
        "    def get_validation_set(self):\r\n",
        "        \"\"\"\r\n",
        "        :return: list of Sentence instances for the validation part of the dataset\r\n",
        "        \"\"\"\r\n",
        "        if not hasattr(self, \"_validation_set\"):\r\n",
        "            self._validation_set = self.sentences[int(sum(self.split_ratios[:2]) * len(self.sentences)):]\r\n",
        "        return self._validation_set\r\n",
        "\r\n",
        "    def get_train_word_counts(self):\r\n",
        "        \"\"\"\r\n",
        "        :return: dictionary of all words in the train set with their frequency in the train set.\r\n",
        "        \"\"\"\r\n",
        "        if not hasattr(self, \"_train_word_counts\"):\r\n",
        "            word_counts = {}\r\n",
        "            for sent in self.get_train_set():\r\n",
        "                for word_node in sent.get_leaves():\r\n",
        "                    assert len(word_node.text) == 1\r\n",
        "                    word_text = word_node.text[0]\r\n",
        "                    if word_text in word_counts:\r\n",
        "                        word_counts[word_text] += 1\r\n",
        "                    else:\r\n",
        "                        word_counts[word_text] = 1\r\n",
        "            self._train_word_counts = word_counts\r\n",
        "\r\n",
        "        return self._train_word_counts\r\n",
        "\r\n",
        "    def get_word_counts(self):\r\n",
        "        \"\"\"\r\n",
        "        :return: dictionary of all words in the dataset with their frequency in the whole dataset.\r\n",
        "        \"\"\"\r\n",
        "        if not hasattr(self, \"_word_counts\"):\r\n",
        "            word_counts = {}\r\n",
        "            for sent in self.sentences:\r\n",
        "                for word_node in sent.get_leaves():\r\n",
        "                    assert len(word_node.text) == 1\r\n",
        "                    word_text = word_node.text[0]\r\n",
        "                    if word_text in word_counts:\r\n",
        "                        word_counts[word_text] += 1\r\n",
        "                    else:\r\n",
        "                        word_counts[word_text] = 1\r\n",
        "            self._word_counts = word_counts\r\n",
        "\r\n",
        "        return self._word_counts\r\n",
        "\r\n",
        "\r\n",
        "\r\n",
        "def get_negated_polarity_examples(sentences_list, num_examples=None, choose_random=False):\r\n",
        "    \"\"\"\r\n",
        "    Returns the indices of the sentences in sentences_list which have subphrase in the second level with\r\n",
        "    sentiment polarity different than the whole sentence polarity.\r\n",
        "    :param sentences_list: list of Sentence objects\r\n",
        "    :param num_examples: number of examples to return, if None all of them are returned\r\n",
        "    :param choose_random: relevant only if num_examples is lower than the number of exisitng negated\r\n",
        "    polarity examples in sentences_list\r\n",
        "    \"\"\"\r\n",
        "\r\n",
        "    if num_examples is None:\r\n",
        "        num_examples = len(sentences_list) # take all possible sentences\r\n",
        "\r\n",
        "    def is_polarized(sent: Sentence):\r\n",
        "        if sent.sentiment_class == NEUTRAL_SENTIMENT:\r\n",
        "            return False\r\n",
        "        else:\r\n",
        "            root_polarity = sent.sentiment_class\r\n",
        "            for child in sent.root.children:\r\n",
        "                if child.sentiment_class == 1 - root_polarity:\r\n",
        "                    return True\r\n",
        "            return False\r\n",
        "    indexed_senteces = list(enumerate(sentences_list))\r\n",
        "    negated_sentences = list(filter(lambda s: is_polarized(s[1]), indexed_senteces))\r\n",
        "    negated_sentences_indices = [i for i,s in negated_sentences]\r\n",
        "    if len(negated_sentences) <= num_examples:\r\n",
        "        return negated_sentences_indices\r\n",
        "    else:\r\n",
        "        if choose_random:\r\n",
        "            random.shuffle(negated_sentences_indices)\r\n",
        "        return negated_sentences_indices[:num_examples]\r\n",
        "\r\n",
        "\r\n",
        "def get_sentiment_words(sent: Sentence):\r\n",
        "    sent_polarity = sent.sentiment_class\r\n",
        "    return [node for node in sent.get_leaves() if node.sentiment_class == sent_polarity]\r\n",
        "\r\n",
        "\r\n",
        "def get_rare_words_examples(sentences_list, dataset: SentimentTreeBank,\r\n",
        "                            num_sentences=50):\r\n",
        "    \"\"\"\r\n",
        "    Computes for each sentence in sentences the maximal train frequency of sentiment word, where sentiment\r\n",
        "    word is a word which is labeled with either positive or negative sentiment value, and returns the\r\n",
        "    indices of the <num_sentences> sentences with lowest value.\r\n",
        "    :param sentences_list: list of Sentence objects\r\n",
        "    :param dataset: the SentimentTreebank datset object\r\n",
        "    :param num_sentences: number of sentences to return\r\n",
        "    :return: list of ints representing the indices of the chosen sentences out of the input sentences_list\r\n",
        "    \"\"\"\r\n",
        "    word_counts = dataset.get_train_word_counts()\r\n",
        "\r\n",
        "    def get_count(word_node: SentimentTreeNode):\r\n",
        "        word_text = word_node.text[0]\r\n",
        "        if word_text in word_counts:\r\n",
        "            return word_counts[word_text]\r\n",
        "        else:\r\n",
        "            return 0\r\n",
        "    indexed_sentences = list(enumerate(sentences_list))\r\n",
        "    indexed_sentences = list(filter(lambda s: len(get_sentiment_words(s[1])) > 0, indexed_sentences))\r\n",
        "    indexed_sentences = sorted(indexed_sentences, key= lambda s: max([get_count(node) for node in\r\n",
        "                                                                      get_sentiment_words(s[1])]))\r\n",
        "    indices = [i for i,s in indexed_sentences]\r\n",
        "    return indices[:num_sentences]\r\n",
        "\r\n",
        "\r\n",
        "\r\n",
        "\r\n",
        "if __name__ == '__main__':\r\n",
        "    # examples for reading the sentiment dataset\r\n",
        "    dataset = SentimentTreeBank()\r\n",
        "    # get train set\r\n",
        "    print(dataset.get_train_set()[:2])\r\n",
        "    print(dataset.get_train_set()[0].sentiment_val)\r\n",
        "    # get word counts dictionary\r\n",
        "    print(list(dataset.get_word_counts().keys())[:10])\r\n"
      ],
      "execution_count": null,
      "outputs": [
        {
          "output_type": "stream",
          "text": [
            "[just too silly and sophomoric to ensnare its target audience . | Negative | 0.29167, there is n't one moment in the film that surprises or delights . | Negative | 0.16667]\n",
            "0.29167\n",
            "['just', 'too', 'silly', 'and', 'sophomoric', 'to', 'ensnare', 'its', 'target', 'audience']\n"
          ],
          "name": "stdout"
        }
      ]
    },
    {
      "cell_type": "markdown",
      "metadata": {
        "id": "XL1i2DjhzTYt"
      },
      "source": [
        "# Exercise Blanks"
      ]
    },
    {
      "cell_type": "markdown",
      "metadata": {
        "id": "D452xstfzi_6"
      },
      "source": [
        "## Constants"
      ]
    },
    {
      "cell_type": "code",
      "metadata": {
        "id": "sReCumDbzh6R"
      },
      "source": [
        "SEQ_LEN = 52\r\n",
        "# SEQ_LEN = 64\r\n",
        "\r\n",
        "W2V_EMBEDDING_DIM = 300\r\n",
        "\r\n",
        "ONEHOT_AVERAGE = \"onehot_average\"\r\n",
        "W2V_AVERAGE = \"w2v_average\"\r\n",
        "W2V_SEQUENCE = \"w2v_sequence\"\r\n",
        "\r\n",
        "TRAIN = \"train\"\r\n",
        "VAL = \"val\"\r\n",
        "TEST = \"test\""
      ],
      "execution_count": null,
      "outputs": []
    },
    {
      "cell_type": "markdown",
      "metadata": {
        "id": "oTFSWwMWzt05"
      },
      "source": [
        "## Helper methods and classes"
      ]
    },
    {
      "cell_type": "code",
      "metadata": {
        "id": "1wpZmja-zuZZ"
      },
      "source": [
        "def get_available_device():\r\n",
        "    \"\"\"\r\n",
        "    Allows training on GPU if available. Can help with running things faster when a GPU with cuda is\r\n",
        "    available but not a most...\r\n",
        "    Given a device, one can use module.to(device)\r\n",
        "    and criterion.to(device) so that all the computations will be done on the GPU.\r\n",
        "    \"\"\"\r\n",
        "    return torch.device('cuda' if torch.cuda.is_available() else 'cpu')\r\n",
        "\r\n",
        "\r\n",
        "def save_pickle(obj, path):\r\n",
        "    with open(path, \"wb\") as f:\r\n",
        "        pickle.dump(obj, f)\r\n",
        "\r\n",
        "\r\n",
        "def load_pickle(path):\r\n",
        "    with open(path, \"rb\") as f:\r\n",
        "        return pickle.load(f)\r\n",
        "\r\n",
        "\r\n",
        "def save_model(model, path, epoch, optimizer):\r\n",
        "    \"\"\"\r\n",
        "    Utility function for saving checkpoint of a model, so training or evaluation can be executed later on.\r\n",
        "    :param model: torch module representing the model\r\n",
        "    :param optimizer: torch optimizer used for training the module\r\n",
        "    :param path: path to save the checkpoint into\r\n",
        "    \"\"\"\r\n",
        "    torch.save({\r\n",
        "        'epoch': epoch,\r\n",
        "        'model_state_dict': model.state_dict(),\r\n",
        "        'optimizer_state_dict': optimizer.state_dict()}, path)\r\n",
        "\r\n",
        "\r\n",
        "def load(model, path, optimizer):\r\n",
        "    \"\"\"\r\n",
        "    Loads the state (weights, paramters...) of a model which was saved with save_model\r\n",
        "    :param model: should be the same model as the one which was saved in the path\r\n",
        "    :param path: path to the saved checkpoint\r\n",
        "    :param optimizer: should be the same optimizer as the one which was saved in the path\r\n",
        "    \"\"\"\r\n",
        "    checkpoint = torch.load(path)\r\n",
        "    model.load_state_dict(checkpoint['model_state_dict'])\r\n",
        "    optimizer.load_state_dict(checkpoint['optimizer_state_dict'])\r\n",
        "    epoch = checkpoint['epoch']\r\n",
        "    return model, optimizer, epoch"
      ],
      "execution_count": null,
      "outputs": []
    },
    {
      "cell_type": "markdown",
      "metadata": {
        "id": "Nbn1v7giz9t8"
      },
      "source": [
        "## Data utilities"
      ]
    },
    {
      "cell_type": "code",
      "metadata": {
        "id": "N8hoT4vdz-Cs"
      },
      "source": [
        "def load_word2vec():\r\n",
        "    \"\"\" Load Word2Vec Vectors\r\n",
        "        Return:\r\n",
        "            wv_from_bin: All 3 million embeddings, each lengh 300\r\n",
        "    \"\"\"\r\n",
        "    import gensim.downloader as api\r\n",
        "    wv_from_bin = api.load(\"word2vec-google-news-300\")\r\n",
        "    vocab = list(wv_from_bin.vocab.keys())\r\n",
        "    print(wv_from_bin.vocab[vocab[0]])\r\n",
        "    print(\"Loaded vocab size %i\" % len(vocab))\r\n",
        "    return wv_from_bin\r\n",
        "\r\n",
        "\r\n",
        "def create_or_load_slim_w2v(words_list, cache_w2v=True):\r\n",
        "    \"\"\"\r\n",
        "    returns word2vec dict only for words which appear in the dataset.\r\n",
        "    :param words_list: list of words to use for the w2v dict\r\n",
        "    :param cache_w2v: whether to save locally the small w2v dictionary\r\n",
        "    :return: dictionary which maps the known words to their vectors\r\n",
        "    \"\"\"\r\n",
        "    w2v_path = \"/content/drive/MyDrive/NLP_EX_4/w2v_dict.pkl\"\r\n",
        "    if not os.path.exists(w2v_path):\r\n",
        "        full_w2v = load_word2vec()\r\n",
        "        w2v_emb_dict = {k: full_w2v[k] for k in words_list if k in full_w2v}\r\n",
        "        if cache_w2v:\r\n",
        "            save_pickle(w2v_emb_dict, w2v_path)\r\n",
        "    else:\r\n",
        "        w2v_emb_dict = load_pickle(w2v_path)\r\n",
        "    return w2v_emb_dict\r\n",
        "\r\n",
        "\r\n",
        "\r\n",
        "class OnlineDataset(Dataset):\r\n",
        "    \"\"\"\r\n",
        "    A pytorch dataset which generates model inputs on the fly from sentences of SentimentTreeBank\r\n",
        "    \"\"\"\r\n",
        "\r\n",
        "    def __init__(self, sent_data, sent_func, sent_func_kwargs):\r\n",
        "        \"\"\"\r\n",
        "        :param sent_data: list of sentences from SentimentTreeBank\r\n",
        "        :param sent_func: Function which converts a sentence to an input datapoint\r\n",
        "        :param sent_func_kwargs: fixed keyword arguments for the state_func\r\n",
        "        \"\"\"\r\n",
        "        self.data = sent_data\r\n",
        "        self.sent_func = sent_func\r\n",
        "        self.sent_func_kwargs = sent_func_kwargs\r\n",
        "\r\n",
        "    def __len__(self):\r\n",
        "        return len(self.data)\r\n",
        "\r\n",
        "    def __getitem__(self, idx):\r\n",
        "        sent = self.data[idx]\r\n",
        "        sent_emb = self.sent_func(sent, **self.sent_func_kwargs)\r\n",
        "        sent_label = sent.sentiment_class\r\n",
        "        return sent_emb, sent_label\r\n",
        "\r\n",
        "\r\n",
        "class DataManager():\r\n",
        "    \"\"\"\r\n",
        "    Utility class for handling all data management task. Can be used to get iterators for training and\r\n",
        "    evaluation.\r\n",
        "    \"\"\"\r\n",
        "\r\n",
        "    def __init__(self, data_type=ONEHOT_AVERAGE, use_sub_phrases=True, dataset_path=\"stanfordSentimentTreebank\", batch_size=50,\r\n",
        "                 embedding_dim=None):\r\n",
        "        \"\"\"\r\n",
        "        builds the data manager used for training and evaluation.\r\n",
        "        :param data_type: one of ONEHOT_AVERAGE, W2V_AVERAGE and W2V_SEQUENCE\r\n",
        "        :param use_sub_phrases: if true, training data will include all sub-phrases plus the full sentences\r\n",
        "        :param dataset_path: path to the dataset directory\r\n",
        "        :param batch_size: number of examples per batch\r\n",
        "        :param embedding_dim: relevant only for the W2V data types.\r\n",
        "        \"\"\"\r\n",
        "\r\n",
        "        # load the dataset\r\n",
        "        self.sentiment_dataset = SentimentTreeBank(dataset_path, split_words=True)\r\n",
        "        # map data splits to sentences lists\r\n",
        "        self.sentences = {}\r\n",
        "        if use_sub_phrases:\r\n",
        "            self.sentences[TRAIN] = self.sentiment_dataset.get_train_set_phrases()\r\n",
        "        else:\r\n",
        "            self.sentences[TRAIN] = self.sentiment_dataset.get_train_set()\r\n",
        "\r\n",
        "        self.sentences[VAL] = self.sentiment_dataset.get_validation_set()\r\n",
        "        self.sentences[TEST] = self.sentiment_dataset.get_test_set()\r\n",
        "\r\n",
        "        # map data splits to sentence input preperation functions\r\n",
        "        words_list = list(self.sentiment_dataset.get_word_counts().keys())\r\n",
        "        if data_type == ONEHOT_AVERAGE:\r\n",
        "            self.sent_func = average_one_hots\r\n",
        "            self.sent_func_kwargs = {\"word_to_ind\": get_word_to_ind(words_list)}\r\n",
        "        elif data_type == W2V_SEQUENCE:\r\n",
        "            self.sent_func = sentence_to_embedding\r\n",
        "\r\n",
        "            self.sent_func_kwargs = {\"seq_len\": SEQ_LEN,\r\n",
        "                                     \"word_to_vec\": create_or_load_slim_w2v(words_list),\r\n",
        "                                     \"embedding_dim\": embedding_dim\r\n",
        "                                     }\r\n",
        "        elif data_type == W2V_AVERAGE:\r\n",
        "            self.sent_func = get_w2v_average\r\n",
        "            words_list = list(self.sentiment_dataset.get_word_counts().keys())\r\n",
        "            self.sent_func_kwargs = {\"word_to_vec\": create_or_load_slim_w2v(words_list),\r\n",
        "                                     \"embedding_dim\": embedding_dim\r\n",
        "                                     }\r\n",
        "        else:\r\n",
        "            raise ValueError(\"invalid data_type: {}\".format(data_type))\r\n",
        "        # map data splits to torch datasets and iterators\r\n",
        "        self.torch_datasets = {k: OnlineDataset(sentences, self.sent_func, self.sent_func_kwargs) for\r\n",
        "                               k, sentences in self.sentences.items()}\r\n",
        "        self.torch_iterators = {k: DataLoader(dataset, batch_size=batch_size, shuffle=k == TRAIN)\r\n",
        "                                for k, dataset in self.torch_datasets.items()}\r\n",
        "\r\n",
        "    def get_torch_iterator(self, data_subset=TRAIN):\r\n",
        "        \"\"\"\r\n",
        "        :param data_subset: one of TRAIN VAL and TEST\r\n",
        "        :return: torch batches iterator for this part of the datset\r\n",
        "        \"\"\"\r\n",
        "        return self.torch_iterators[data_subset]\r\n",
        "\r\n",
        "    def get_labels(self, data_subset=TRAIN):\r\n",
        "        \"\"\"\r\n",
        "        :param data_subset: one of TRAIN VAL and TEST\r\n",
        "        :return: numpy array with the labels of the requested part of the datset in the same order of the\r\n",
        "        examples.\r\n",
        "        \"\"\"\r\n",
        "        return np.array([sent.sentiment_class for sent in self.sentences[data_subset]])\r\n",
        "\r\n",
        "    def get_input_shape(self):\r\n",
        "        \"\"\"\r\n",
        "        :return: the shape of a single example from this dataset (only of x, ignoring y the label).\r\n",
        "        \"\"\"\r\n",
        "        return self.torch_datasets[TRAIN][0][0].shape"
      ],
      "execution_count": null,
      "outputs": []
    },
    {
      "cell_type": "markdown",
      "metadata": {
        "id": "QGD0Ltsu3PzE"
      },
      "source": [
        "In order to avoid problems of type define default type as float64 "
      ]
    },
    {
      "cell_type": "code",
      "metadata": {
        "id": "KCCVBLAGTjV5"
      },
      "source": [
        "torch.set_default_dtype(torch.float64)"
      ],
      "execution_count": null,
      "outputs": []
    },
    {
      "cell_type": "markdown",
      "metadata": {
        "id": "lrp_6E4G_hYp"
      },
      "source": [
        "# Plot functions"
      ]
    },
    {
      "cell_type": "code",
      "metadata": {
        "id": "UptorV3pKuuG"
      },
      "source": [
        "import matplotlib.pyplot as plt\r\n",
        "def plot_results_graph(results):   \r\n",
        "  acc_train,loss_train,acc_val,loss_val = results\r\n",
        "  N = np.arange(0, len(acc_train))\r\n",
        "  plt.style.use(\"ggplot\")\r\n",
        "  # plt.figure()\r\n",
        "  plt.plot(N, loss_train, label=\"train_loss\")\r\n",
        "  plt.plot(N, loss_val, label=\"val_loss\")\r\n",
        "  plt.title(\"Training and Validation Loss\")\r\n",
        "  plt.xlabel(\"Epoch\")\r\n",
        "  plt.ylabel(\"Loss\")\r\n",
        "  plt.legend()\r\n",
        "  # plt.savefig(os.path.join(model_path, \"train_graph\"))\r\n",
        "  plt.show()\r\n",
        "\r\n",
        "  plt.style.use(\"ggplot\")\r\n",
        "  # plt.figure()\r\n",
        "  plt.plot(N, acc_train, label=\"train_acc\")\r\n",
        "  plt.plot(N, acc_val, label=\"val_acc\")\r\n",
        "  plt.title(\"Training and Validation Accuracy\")\r\n",
        "  plt.xlabel(\"Epoch\")\r\n",
        "  plt.ylabel(\"Accuracy\")\r\n",
        "  plt.legend()\r\n",
        "  # plt.savefig(os.path.join(model_path, \"train_graph\"))\r\n",
        "  plt.show()"
      ],
      "execution_count": null,
      "outputs": []
    },
    {
      "cell_type": "markdown",
      "metadata": {
        "id": "yPczOuDYyZWz"
      },
      "source": [
        "# Building a simple Log-Linear model"
      ]
    },
    {
      "cell_type": "markdown",
      "metadata": {
        "id": "AUDITmMzyctQ"
      },
      "source": [
        "Complete the implementation of the LogLinear class given to you. This class will\r\n",
        "serve us to define both the simple log-linear model, and the word2vec log-linear\r\n",
        "model. Note: although we use a sigmoid function to predict the sentiment value, it's\r\n",
        "not necessary to operate it in the forward method. We will use a loss function that\r\n",
        "performs the sigmoid function by itself, so be sure to implement the forward\r\n",
        "method without it.\r\n"
      ]
    },
    {
      "cell_type": "code",
      "metadata": {
        "id": "doo_pFiwycIv"
      },
      "source": [
        "class LogLinear(nn.Module):\r\n",
        "    \"\"\"\r\n",
        "    general class for the log-linear models for sentiment analysis.\r\n",
        "    \"\"\"\r\n",
        "    def __init__(self, embedding_dim):\r\n",
        "        super(LogLinear, self).__init__()\r\n",
        "        self.linear = nn.Linear(in_features=embedding_dim, out_features=1)\r\n",
        "\r\n",
        "    def forward(self, x):\r\n",
        "      layer = self.linear(x)\r\n",
        "      return layer\r\n",
        "      \r\n",
        "\r\n",
        "    def predict(self, x):\r\n",
        "      layer = self.forward(x)\r\n",
        "      out = nn.Sigmoid()(layer)\r\n",
        "      return out"
      ],
      "execution_count": null,
      "outputs": []
    },
    {
      "cell_type": "markdown",
      "metadata": {
        "id": "62y0-JFf9dtz"
      },
      "source": [
        "The simple log-linear model takes the average one-hot embedding of the words in the sentence as input. A one-hot embedding of a word 𝑤 ∈ 𝑉 is a vector 𝑒 ∈ ℝ\r\n",
        "|𝑉|\r\n",
        ", such that 𝑒𝑖 = 1 and ∀𝑗 ∈ [|𝑉|],𝑗 ≠ 𝑖, 𝑒𝑖 = 0 (where\r\n",
        "𝑖 is the index of 𝑤 in the vocabulary).\r\n",
        "Therefore, in order to create a one-hot embedding, we must first assign an index to each word in the vocabulary.\r\n",
        "Complete the 𝑔𝑒𝑡_𝑤𝑜𝑟𝑑_𝑡𝑜_𝑖𝑛𝑑(𝑤𝑜𝑟𝑑_𝑐𝑜𝑢𝑛𝑡) method. This method will be used in order to create a mapping between words in the vocabulary, and their assigned indices."
      ]
    },
    {
      "cell_type": "code",
      "metadata": {
        "id": "tExpXtjy-Duc"
      },
      "source": [
        "def get_word_to_ind(words_list):\r\n",
        "    \"\"\"\r\n",
        "    this function gets a list of words, and returns a mapping between\r\n",
        "    words to their index.\r\n",
        "    :param words_list: a list of words\r\n",
        "    :return: the dictionary mapping words to the index\r\n",
        "    \"\"\"\r\n",
        "    dct = {}\r\n",
        "    for i in range(len(words_list)):\r\n",
        "      dct[words_list[i]] = i\r\n",
        "    return dct"
      ],
      "execution_count": null,
      "outputs": []
    },
    {
      "cell_type": "markdown",
      "metadata": {
        "id": "mZffTpUt-eM_"
      },
      "source": [
        "After we have the index for each word in the vocabulary, we can move forward to create\r\n",
        "the one-hot embedding for each word, and to average all the embeddings of the words\r\n",
        "in the sentence.\r\n",
        "Complete the following methods in order to assist you in calculating the average\r\n",
        "one-hot embedding:\r\n",
        "a. 𝒈𝒆𝒕_𝒐𝒏𝒆_𝒉𝒐𝒕(𝒔𝒊𝒛𝒆,𝒊𝒏𝒅)\r\n",
        "b. 𝒂𝒗𝒆𝒓𝒂𝒈𝒆_𝒐𝒏𝒆_𝒉𝒐𝒕𝒔(𝒔𝒆𝒏𝒕,𝒘𝒐𝒓𝒅_𝒕𝒐_𝒊𝒏𝒅)\r\n"
      ]
    },
    {
      "cell_type": "code",
      "metadata": {
        "id": "FrtjLHKX-kKI"
      },
      "source": [
        "import numpy as np\r\n",
        "def get_one_hot(size, ind):\r\n",
        "    \"\"\"\r\n",
        "    this method returns a one-hot vector of the given size, where the 1 is placed in the ind entry.\r\n",
        "    :param size: the size of the vector\r\n",
        "    :param ind: the entry index to turn to 1\r\n",
        "    :return: numpy ndarray which represents the one-hot vector\r\n",
        "    \"\"\"\r\n",
        "    one_hot_vector = np.zeros(size)\r\n",
        "    one_hot_vector[ind] = 1\r\n",
        "    return one_hot_vector"
      ],
      "execution_count": null,
      "outputs": []
    },
    {
      "cell_type": "code",
      "metadata": {
        "id": "5FZ4--OxAlKi"
      },
      "source": [
        "def average_one_hots(sent, word_to_ind):\r\n",
        "    \"\"\"\r\n",
        "    this method gets a sentence, and a mapping between words to indices, and returns the average\r\n",
        "    one-hot embedding of the tokens in the sentence.\r\n",
        "    :param sent: a sentence object.\r\n",
        "    :param word_to_ind: a mapping between words to indices\r\n",
        "    :return:\r\n",
        "    \"\"\"\r\n",
        "    size = len(word_to_ind)\r\n",
        "    vec = np.zeros(size)\r\n",
        "    for word in sent.text:\r\n",
        "      ind = word_to_ind[word]\r\n",
        "      vec = vec + get_one_hot(size,ind)\r\n",
        "    avg = vec / len(sent.text) \r\n",
        "    return avg"
      ],
      "execution_count": null,
      "outputs": []
    },
    {
      "cell_type": "markdown",
      "metadata": {
        "id": "67BsE25CBycf"
      },
      "source": [
        "Implement the following methods:\r\n",
        "\r\n",
        "\r\n",
        "1.   𝑡𝑟𝑎𝑖𝑛_𝑒𝑝𝑜𝑐ℎ(𝑚𝑜𝑑𝑒𝑙, 𝑑𝑎𝑡𝑎_𝑖𝑡𝑒𝑟𝑎𝑡𝑜𝑟 𝑜𝑝𝑡𝑖𝑚𝑖𝑧𝑒𝑟, 𝑐𝑟𝑖𝑡𝑒𝑟𝑖𝑜𝑛). This method is in\r\n",
        "charge of running a single training epoch (epoch is a single pass over the entire\r\n",
        "training data).\r\n",
        "2.   𝑒𝑣𝑎𝑙𝑢𝑎𝑡𝑒(𝑚𝑜𝑑𝑒𝑙, 𝑑𝑎𝑡𝑎_𝑖𝑡𝑒𝑟𝑎𝑡𝑜𝑟, 𝑐𝑟𝑖𝑡𝑒𝑟𝑖𝑜𝑛). This method evaluates the model\r\n",
        "on the test data it receives. Note: This method should be very similar to\r\n",
        "𝑡𝑟𝑎𝑖𝑛_𝑒𝑝𝑜𝑐ℎ, except we don't want our model parameters to change while\r\n",
        "we're evaluating it.\r\n",
        "3.   𝑡𝑟𝑎𝑖𝑛_𝑚𝑜𝑑𝑒𝑙(𝑚𝑜𝑑𝑒𝑙, 𝑑𝑎𝑡𝑎_𝑚𝑎𝑛𝑎𝑔𝑒𝑟, 𝑛_𝑒𝑝𝑜𝑐ℎ𝑠, 𝑙𝑟, 𝑤𝑒𝑖𝑔ℎ𝑡_𝑑𝑒𝑐𝑎𝑦). This\r\n",
        "method initiates the entire training process. Be sure to save the train loss and\r\n",
        "accuracy, as well as the validation loss and accuracy, for each epoch in the\r\n",
        "training process.\r\n",
        "d. 𝑡𝑟𝑎𝑖𝑛_log_𝑙𝑖𝑛𝑒𝑎𝑟_𝑤𝑖𝑡ℎ_𝑜𝑛𝑒_ℎ𝑜𝑡(). This method should create all the objects\r\n",
        "needed for the training process, and run the training process.\r\n"
      ]
    },
    {
      "cell_type": "markdown",
      "metadata": {
        "id": "utkeS3YYDs6t"
      },
      "source": [
        "1. Implement the method 𝑏𝑖𝑛𝑎𝑟𝑦_𝑎𝑐𝑐𝑢𝑟𝑎𝑐𝑦(𝑝𝑟𝑒𝑑𝑠, 𝑦). This method will calculate the\r\n",
        "accuracy of the predictions given in 𝑝𝑟𝑒𝑑𝑠, with respect to the true labels given in 𝑦."
      ]
    },
    {
      "cell_type": "code",
      "metadata": {
        "id": "RCv6wVsFDr4M"
      },
      "source": [
        "def binary_accuracy(preds, y):\r\n",
        "    \"\"\"\r\n",
        "    This method returns tha accuracy of the predictions, relative to the labels.\r\n",
        "    You can choose whether to use numpy arrays or tensors here.\r\n",
        "    :param preds: a vector of predictions\r\n",
        "    :param y: a vector of true labels\r\n",
        "    :return: scalar value - (<number of accurate predictions> / <number of examples>)\r\n",
        "    \"\"\"\r\n",
        "    number_of_examples = len(y)\r\n",
        "    number_of_accurate_predictions = 0\r\n",
        "    preds = preds[:,0]\r\n",
        "    # if the prediction is higher than 0.5 -> it is positive, else it is negative\r\n",
        "    new_pred = (preds > 0.5).numpy()\r\n",
        "    for i in range(number_of_examples):\r\n",
        "      if torch.tensor(new_pred[i]) == y[i]:  \r\n",
        "        number_of_accurate_predictions += 1\r\n",
        "    acc = number_of_accurate_predictions/number_of_examples\r\n",
        "    return acc"
      ],
      "execution_count": null,
      "outputs": []
    },
    {
      "cell_type": "markdown",
      "metadata": {
        "id": "q1_-MeZW8pRR"
      },
      "source": [
        "**Note :** the loss function uses a sigmoid, therefor we shouldnt use prediction of predict (with sigmoid) for calculating the loss.\r\n",
        "BCEWITHLOGITSLOSS Documantation :\r\n",
        "This loss combines a Sigmoid layer and the BCELoss in one single class. This version is more numerically stable than using a plain Sigmoid followed by a BCELoss as, by combining the operations into one layer, we take advantage of the log-sum-exp trick for numerical stability."
      ]
    },
    {
      "cell_type": "code",
      "metadata": {
        "id": "c664D8KhB8jL"
      },
      "source": [
        "def train_epoch(model, data_iterator, optimizer, criterion):\r\n",
        "    \"\"\"\r\n",
        "    This method operates one epoch (pass over the whole train set) of training of the given model,\r\n",
        "    and returns the accuracy and loss for this epoch\r\n",
        "    :param model: the model we're currently training\r\n",
        "    :param data_iterator: an iterator, iterating over the training data for the model.\r\n",
        "    :param optimizer: the optimizer object for the training process.\r\n",
        "    :param criterion: the criterion object for the training process.\r\n",
        "    \"\"\"\r\n",
        "\r\n",
        "    num_of_examples = 0\r\n",
        "    sum_acc = 0\r\n",
        "    sum_loss = 0\r\n",
        "    model.train()\r\n",
        "    for x, y in data_iterator:\r\n",
        "        optimizer.zero_grad()\r\n",
        "        out = model(x)\r\n",
        "\r\n",
        "        # calculate loss according to embedding layer\r\n",
        "        loss = criterion(out[:,0], y)\r\n",
        "        loss.backward()\r\n",
        "        optimizer.step()\r\n",
        "        sum_loss = sum_loss + loss.item()\r\n",
        "\r\n",
        "        prob = nn.Sigmoid()(out)\r\n",
        "\r\n",
        "        # calculate accuracy after using sigmoid to get probabilities\r\n",
        "        sum_acc = sum_acc + binary_accuracy(prob, y)\r\n",
        "        num_of_examples = num_of_examples + 1\r\n",
        "\r\n",
        "    avg_acc = sum_acc / num_of_examples\r\n",
        "    avg_loss = sum_loss / num_of_examples\r\n",
        "    return avg_acc, avg_loss"
      ],
      "execution_count": null,
      "outputs": []
    },
    {
      "cell_type": "code",
      "metadata": {
        "id": "LuyOiNAEPPSV"
      },
      "source": [
        "def evaluate(model, data_iterator, criterion):\r\n",
        "    \"\"\"\r\n",
        "    evaluate the model performance on the given data\r\n",
        "    :param model: one of our models..\r\n",
        "    :param data_iterator: torch data iterator for the relevant subset\r\n",
        "    :param criterion: the loss criterion used for evaluation\r\n",
        "    :return: tuple of (average loss over all examples, average accuracy over all examples)\r\n",
        "    \"\"\"\r\n",
        "    num_of_examples = 0\r\n",
        "    sum_acc = 0\r\n",
        "    sum_loss = 0\r\n",
        "    for x, y in data_iterator:\r\n",
        "        out = model(x)\r\n",
        "        loss = criterion(out[:,0], y)\r\n",
        "        sum_loss = sum_loss + loss.item()\r\n",
        "\r\n",
        "        prob = nn.Sigmoid()(out)\r\n",
        "        sum_acc = sum_acc + binary_accuracy(prob, y)\r\n",
        "\r\n",
        "        num_of_examples = num_of_examples + 1\r\n",
        "\r\n",
        "    avg_acc = sum_acc / num_of_examples\r\n",
        "    avg_loss = sum_loss / num_of_examples\r\n",
        "    return avg_acc, avg_loss"
      ],
      "execution_count": null,
      "outputs": []
    },
    {
      "cell_type": "code",
      "metadata": {
        "id": "m-5JE93pY_mN"
      },
      "source": [
        "def train_model(model, data_manager, n_epochs, lr, weight_decay=0.):\r\n",
        "    \"\"\"\r\n",
        "    Runs the full training procedure for the given model. The optimization should be done using the Adam\r\n",
        "    optimizer with all parameters but learning rate and weight decay set to default.\r\n",
        "    :param model: module of one of the models implemented in the exercise\r\n",
        "    :param data_manager: the DataManager object\r\n",
        "    :param n_epochs: number of times to go over the whole training set\r\n",
        "    :param lr: learning rate to be used for optimization\r\n",
        "    :param weight_decay: parameter for l2 regularization\r\n",
        "    \"\"\"\r\n",
        "    optimizer = optim.Adam(params=model.parameters(), lr=lr, weight_decay=weight_decay)\r\n",
        "    criterion = nn.BCEWithLogitsLoss()\r\n",
        "    acc_train = []\r\n",
        "    acc_val = []\r\n",
        "    loss_train = [] \r\n",
        "    loss_val = []\r\n",
        "\r\n",
        "    for i in range(n_epochs):\r\n",
        "        acc_t, loss_t = train_epoch(model, data_manager.get_torch_iterator(TRAIN), optimizer, criterion)\r\n",
        "        acc_train.append(acc_t)\r\n",
        "        loss_train.append(loss_t)\r\n",
        "\r\n",
        "        acc_v, loss_v = evaluate(model, data_manager.get_torch_iterator(VAL), criterion)\r\n",
        "        acc_val.append(acc_v)\r\n",
        "        loss_val.append(loss_v)\r\n",
        "\r\n",
        "        print(\"Train loss at step {}: {}\".format(i, loss_t))\r\n",
        "        print(\"Train accuracy at step {}: {}\".format(i, acc_t))\r\n",
        "        print(\"Validation loss at step {}: {}\".format(i, loss_v))\r\n",
        "        print(\"Validation accuracy at step {}: {}\".format(i, acc_v))\r\n",
        "        print(\"******************************************************\")\r\n",
        "\r\n",
        "    # path = '/content/drive/MyDrive/NLP_EX_4/Ex4_utils/log_linear_oneHot_model'\r\n",
        "    # path = '/content/drive/MyDrive/NLP_EX_4/Ex4_utils/log_linear_with_w2v'\r\n",
        "\r\n",
        "    # save_model(model, path, n_epochs, optimizer)\r\n",
        "\r\n",
        "    return acc_train, loss_train, acc_val, loss_val , model"
      ],
      "execution_count": null,
      "outputs": []
    },
    {
      "cell_type": "markdown",
      "metadata": {
        "id": "21aWTg0MabUN"
      },
      "source": [
        "Implement the method 𝑔𝑒𝑡_𝑝𝑟𝑒𝑑𝑖𝑐𝑡𝑖𝑜𝑛𝑠_𝑓𝑜𝑟_𝑑𝑎𝑡𝑎(𝑚𝑜𝑑𝑒𝑙, 𝑑𝑎𝑡𝑎_𝑖𝑡𝑒𝑟). This\r\n",
        "method will assist you in testing the model over the test set and the special subsets"
      ]
    },
    {
      "cell_type": "code",
      "metadata": {
        "id": "ZJjbHZGCabqd"
      },
      "source": [
        "def get_predictions_for_data(model, data_iter):\r\n",
        "    \"\"\"\r\n",
        "\r\n",
        "    This function should iterate over all batches of examples from data_iter and return all of the models\r\n",
        "    predictions as a numpy ndarray or torch tensor (or list if you prefer). the prediction should be in the\r\n",
        "    same order of the examples returned by data_iter.\r\n",
        "    :param model: one of the models you implemented in the exercise\r\n",
        "    :param data_iter: torch iterator as given by the DataManager\r\n",
        "    :return:\r\n",
        "    \"\"\"\r\n",
        "    preds = []\r\n",
        "    for x, y in data_iter:\r\n",
        "      pred = model.predict(x)\r\n",
        "      preds.append(pred)\r\n",
        "\r\n",
        "    preds = np.array(preds)\r\n",
        "    return preds"
      ],
      "execution_count": null,
      "outputs": []
    },
    {
      "cell_type": "markdown",
      "metadata": {
        "id": "sRWpHwKSnKpl"
      },
      "source": [
        "We will set the learning rate parameter value to be 0.01. We will train the model for 20\r\n",
        "epochs with batches of size 64. We will also set the weight decay parameter to be 0.0001.\r\n",
        "Train this model with the mentioned parameter values. \r\n",
        "\r\n"
      ]
    },
    {
      "cell_type": "code",
      "metadata": {
        "id": "q9NdjoZLnSnJ"
      },
      "source": [
        "def train_log_linear_with_one_hot():\r\n",
        "    \"\"\"\r\n",
        "    Here comes your code for training and evaluation of the log linear model with one hot representation.\r\n",
        "    \"\"\"\r\n",
        "\r\n",
        "    data_manager = DataManager(batch_size=64)\r\n",
        "    embedding_dim = data_manager.get_input_shape()[0]\r\n",
        "    model = LogLinear(embedding_dim)\r\n",
        "    results = train_model(model, data_manager, n_epochs = 20, lr = 0.01, weight_decay = 0.0001)\r\n",
        "    return results"
      ],
      "execution_count": null,
      "outputs": []
    },
    {
      "cell_type": "markdown",
      "metadata": {
        "id": "WEB4wdWGqY7w"
      },
      "source": [
        "## Results"
      ]
    },
    {
      "cell_type": "code",
      "metadata": {
        "colab": {
          "base_uri": "https://localhost:8080/"
        },
        "id": "nHeFAKWkUxAD",
        "outputId": "53c46642-10a3-4d51-f5a5-8331e1dd1766"
      },
      "source": [
        "results = train_log_linear_with_one_hot()"
      ],
      "execution_count": null,
      "outputs": [
        {
          "output_type": "stream",
          "text": [
            "Train loss at step 0: 0.6155954294193948\n",
            "Train accuracy at step 0: 0.668224104859335\n",
            "Validation loss at step 0: 0.6391777717645207\n",
            "Validation accuracy at step 0: 0.65234375\n",
            "******************************************************\n",
            "Train loss at step 1: 0.5840108906737376\n",
            "Train accuracy at step 1: 0.7165329283887467\n",
            "Validation loss at step 1: 0.6319919072404834\n",
            "Validation accuracy at step 1: 0.7119140625\n",
            "******************************************************\n",
            "Train loss at step 2: 0.5818832919528122\n",
            "Train accuracy at step 2: 0.7202709398976982\n",
            "Validation loss at step 2: 0.6330051941437439\n",
            "Validation accuracy at step 2: 0.6650390625\n",
            "******************************************************\n",
            "Train loss at step 3: 0.5814097403990508\n",
            "Train accuracy at step 3: 0.7194852941176471\n",
            "Validation loss at step 3: 0.631987736028631\n",
            "Validation accuracy at step 3: 0.7177734375\n",
            "******************************************************\n",
            "Train loss at step 4: 0.581370023298676\n",
            "Train accuracy at step 4: 0.7191480179028132\n",
            "Validation loss at step 4: 0.6318248781788894\n",
            "Validation accuracy at step 4: 0.7109375\n",
            "******************************************************\n",
            "Train loss at step 5: 0.5814638940285466\n",
            "Train accuracy at step 5: 0.7191096547314578\n",
            "Validation loss at step 5: 0.6316727212921172\n",
            "Validation accuracy at step 5: 0.7021484375\n",
            "******************************************************\n",
            "Train loss at step 6: 0.5814517044778205\n",
            "Train accuracy at step 6: 0.7193590153452685\n",
            "Validation loss at step 6: 0.6322239937496416\n",
            "Validation accuracy at step 6: 0.681640625\n",
            "******************************************************\n",
            "Train loss at step 7: 0.581339998420886\n",
            "Train accuracy at step 7: 0.7183176150895141\n",
            "Validation loss at step 7: 0.6325544293107958\n",
            "Validation accuracy at step 7: 0.693359375\n",
            "******************************************************\n",
            "Train loss at step 8: 0.5814631796565732\n",
            "Train accuracy at step 8: 0.7209175191815856\n",
            "Validation loss at step 8: 0.6340275312310713\n",
            "Validation accuracy at step 8: 0.66015625\n",
            "******************************************************\n",
            "Train loss at step 9: 0.5814449699893527\n",
            "Train accuracy at step 9: 0.71747202685422\n",
            "Validation loss at step 9: 0.6315552610385325\n",
            "Validation accuracy at step 9: 0.7265625\n",
            "******************************************************\n",
            "Train loss at step 10: 0.58147524274687\n",
            "Train accuracy at step 10: 0.7196339514066497\n",
            "Validation loss at step 10: 0.6311564621786184\n",
            "Validation accuracy at step 10: 0.7177734375\n",
            "******************************************************\n",
            "Train loss at step 11: 0.5813352886196748\n",
            "Train accuracy at step 11: 0.720488331202046\n",
            "Validation loss at step 11: 0.6339455004858507\n",
            "Validation accuracy at step 11: 0.6767578125\n",
            "******************************************************\n",
            "Train loss at step 12: 0.5816393458428123\n",
            "Train accuracy at step 12: 0.7196251598465473\n",
            "Validation loss at step 12: 0.6319787469295507\n",
            "Validation accuracy at step 12: 0.68359375\n",
            "******************************************************\n",
            "Train loss at step 13: 0.5813912157435424\n",
            "Train accuracy at step 13: 0.7188914641943733\n",
            "Validation loss at step 13: 0.6338091082552035\n",
            "Validation accuracy at step 13: 0.6884765625\n",
            "******************************************************\n",
            "Train loss at step 14: 0.5815826741505422\n",
            "Train accuracy at step 14: 0.7199328644501279\n",
            "Validation loss at step 14: 0.6322529064826375\n",
            "Validation accuracy at step 14: 0.697265625\n",
            "******************************************************\n",
            "Train loss at step 15: 0.5813748688524587\n",
            "Train accuracy at step 15: 0.7196323529411764\n",
            "Validation loss at step 15: 0.6328702192965378\n",
            "Validation accuracy at step 15: 0.7001953125\n",
            "******************************************************\n",
            "Train loss at step 16: 0.5815391053891418\n",
            "Train accuracy at step 16: 0.7194365409207161\n",
            "Validation loss at step 16: 0.6330465211731701\n",
            "Validation accuracy at step 16: 0.6826171875\n",
            "******************************************************\n",
            "Train loss at step 17: 0.5814766846776233\n",
            "Train accuracy at step 17: 0.72065297314578\n",
            "Validation loss at step 17: 0.632917215605141\n",
            "Validation accuracy at step 17: 0.6708984375\n",
            "******************************************************\n",
            "Train loss at step 18: 0.5815420319500039\n",
            "Train accuracy at step 18: 0.7187843670076727\n",
            "Validation loss at step 18: 0.6339184786422056\n",
            "Validation accuracy at step 18: 0.6630859375\n",
            "******************************************************\n",
            "Train loss at step 19: 0.5812284664523939\n",
            "Train accuracy at step 19: 0.7199480498721228\n",
            "Validation loss at step 19: 0.6329312549167019\n",
            "Validation accuracy at step 19: 0.673828125\n",
            "******************************************************\n"
          ],
          "name": "stdout"
        }
      ]
    },
    {
      "cell_type": "markdown",
      "metadata": {
        "id": "1HwEDmWq95xv"
      },
      "source": [
        "## Plots"
      ]
    },
    {
      "cell_type": "markdown",
      "metadata": {
        "id": "4rLKldbB_bwr"
      },
      "source": [
        "a. A plot of the train loss value, as a function of the epoch number (and another\r\n",
        "similar one for the validation loss). Plot both curves on the same graph.\r\n",
        "b. A plot of the train accuracy value, as a function of the epoch number (and\r\n",
        "another, similar one, for the validation accuracy). Plot both curves on the same\r\n",
        "graph."
      ]
    },
    {
      "cell_type": "code",
      "metadata": {
        "colab": {
          "base_uri": "https://localhost:8080/",
          "height": 581
        },
        "id": "zYc2fzLHLVUO",
        "outputId": "f6f128cb-9f65-4950-dd72-aa4aa283b846"
      },
      "source": [
        "plot_results_graph(results[:4])"
      ],
      "execution_count": null,
      "outputs": [
        {
          "output_type": "display_data",
          "data": {
            "image/png": "[encoded data removed]",
            "text/plain": [
              "<Figure size 432x288 with 1 Axes>"
            ]
          },
          "metadata": {
            "tags": []
          }
        },
        {
          "output_type": "display_data",
          "data": {
            "image/png": "[encoded data removed]",
            "text/plain": [
              "<Figure size 432x288 with 1 Axes>"
            ]
          },
          "metadata": {
            "tags": []
          }
        }
      ]
    },
    {
      "cell_type": "markdown",
      "metadata": {
        "id": "lNGgLLuH_P19"
      },
      "source": [
        "## The test accuracy and loss\r\n"
      ]
    },
    {
      "cell_type": "code",
      "metadata": {
        "id": "bV7GBgUOASIS"
      },
      "source": [
        "model = results[4]\r\n",
        "criterion = nn.BCEWithLogitsLoss()\r\n",
        "\r\n",
        "data_manager = DataManager(batch_size=128)\r\n",
        "acc_test, loss_test = evaluate(model, data_manager.get_torch_iterator(TEST), criterion)\r\n"
      ],
      "execution_count": null,
      "outputs": []
    },
    {
      "cell_type": "code",
      "metadata": {
        "colab": {
          "base_uri": "https://localhost:8080/"
        },
        "id": "urg4K02gC1Za",
        "outputId": "b77080cb-1e63-4d0f-a2ab-4191399add3d"
      },
      "source": [
        "print(\"Test accuracy is \",acc_test,\" Test loss is \",loss_test)"
      ],
      "execution_count": null,
      "outputs": [
        {
          "output_type": "stream",
          "text": [
            "Test accuracy is  0.6671401515151515  Test loss is  0.6287311564069358\n"
          ],
          "name": "stdout"
        }
      ]
    },
    {
      "cell_type": "markdown",
      "metadata": {
        "id": "wRy4Q9KytdQG"
      },
      "source": [
        "## Special Subsets"
      ]
    },
    {
      "cell_type": "markdown",
      "metadata": {
        "id": "vJ3Or5pxDEO4"
      },
      "source": [
        "The accuracy over each of the special subsets.\r\n",
        " Those subsets include:\r\n",
        "1. Negated polarity – All sentences in the test set where the sentiment polarity\r\n",
        "(positive / negative) of one of the main sub-phrases in the sentence is opposite of\r\n",
        "the whole sentence sentiment polarity. These are examples where some kind of\r\n",
        "negation structure is in effect (as in the examples you saw in the sentiment analysis\r\n",
        "lecture). You can use 𝑔𝑒𝑡_𝑛𝑒𝑔𝑎𝑡𝑒𝑑_𝑝𝑜𝑙𝑎𝑟𝑖𝑡𝑦_𝑒𝑥𝑎𝑚𝑝𝑙𝑒𝑠 function to obtain the\r\n",
        "indices of those examples from the test set.\r\n",
        "2. Rare words – We expect that some of our models will perform better than others on\r\n",
        "sentences with unseen or rare words. Therefore, we rank all test sentences by their\r\n",
        "maximal frequency of a word which has non-neutral sentiment value and take the\r\n",
        "50 sentences ranked lowest. You can use 𝑔𝑒𝑡_𝑟𝑎𝑟𝑒_𝑤𝑜𝑟𝑑𝑠_𝑒𝑥𝑎𝑚𝑝𝑙𝑒𝑠 function to\r\n",
        "obtain the indices of those examples from the test set."
      ]
    },
    {
      "cell_type": "code",
      "metadata": {
        "colab": {
          "base_uri": "https://localhost:8080/"
        },
        "id": "Z-KPZHiKEXMs",
        "outputId": "121b67c3-ceba-45c6-dbfb-ed6bd0036891"
      },
      "source": [
        "test_sents = dataset.get_test_set()\r\n",
        "len(test_sents)"
      ],
      "execution_count": null,
      "outputs": [
        {
          "output_type": "execute_result",
          "data": {
            "text/plain": [
              "962"
            ]
          },
          "metadata": {
            "tags": []
          },
          "execution_count": 88
        }
      ]
    },
    {
      "cell_type": "code",
      "metadata": {
        "colab": {
          "base_uri": "https://localhost:8080/"
        },
        "id": "EEjm7qS1iMMS",
        "outputId": "74bf0e92-7d02-4864-b54d-88f0772a9520"
      },
      "source": [
        "len(data_manager.get_labels(TEST))"
      ],
      "execution_count": null,
      "outputs": [
        {
          "output_type": "execute_result",
          "data": {
            "text/plain": [
              "962"
            ]
          },
          "metadata": {
            "tags": []
          },
          "execution_count": 119
        }
      ]
    },
    {
      "cell_type": "code",
      "metadata": {
        "id": "YYpiDnREcNDm"
      },
      "source": [
        "words_list = list(data_manager.sentiment_dataset.get_word_counts().keys())\r\n",
        "word_to_ind_dct = get_word_to_ind(words_list)"
      ],
      "execution_count": null,
      "outputs": []
    },
    {
      "cell_type": "markdown",
      "metadata": {
        "id": "Aqqml21-jdyS"
      },
      "source": [
        "### Negated polarity"
      ]
    },
    {
      "cell_type": "code",
      "metadata": {
        "id": "0gwgAB0tDvo9"
      },
      "source": [
        "ind = get_negated_polarity_examples(test_sents)"
      ],
      "execution_count": null,
      "outputs": []
    },
    {
      "cell_type": "code",
      "metadata": {
        "id": "lf4hW7IzkKZ8"
      },
      "source": [
        "test_sents_nagated = np.array(test_sents)[ind]\r\n",
        "test_labels_nagated = (data_manager.get_labels(TEST))[ind]"
      ],
      "execution_count": null,
      "outputs": []
    },
    {
      "cell_type": "code",
      "metadata": {
        "id": "K6zp3kS6cmjY"
      },
      "source": [
        "inp = []\r\n",
        "labels = []\r\n",
        "for i in range(len(test_sents_nagated)):\r\n",
        "  inp.append(average_one_hots(test_sents_nagated[i],word_to_ind_dct))\r\n",
        "  labels.append(test_labels_nagated[i])"
      ],
      "execution_count": null,
      "outputs": []
    },
    {
      "cell_type": "code",
      "metadata": {
        "id": "_JrbTg6udOgD"
      },
      "source": [
        "input_x = torch.tensor(inp)\r\n",
        "out = model(input_x)"
      ],
      "execution_count": null,
      "outputs": []
    },
    {
      "cell_type": "code",
      "metadata": {
        "colab": {
          "base_uri": "https://localhost:8080/"
        },
        "id": "eGY9uOTpgEM7",
        "outputId": "d5b973ed-ae74-4fb5-b7f3-9bdfed2eae7c"
      },
      "source": [
        "prob  =  nn.Sigmoid()(out)\r\n",
        "acc_sub = binary_accuracy(prob,labels)\r\n",
        "print(\"Nagated Polarity Accuracy is \",acc_sub)"
      ],
      "execution_count": null,
      "outputs": [
        {
          "output_type": "stream",
          "text": [
            "Nagated Polarity Accuracy is  0.5645161290322581\n"
          ],
          "name": "stdout"
        }
      ]
    },
    {
      "cell_type": "markdown",
      "metadata": {
        "id": "xjqWfzhBjxuY"
      },
      "source": [
        "### Rare words"
      ]
    },
    {
      "cell_type": "code",
      "metadata": {
        "id": "XBYBRMUMj5jT"
      },
      "source": [
        "senti = SentimentTreeBank()\r\n",
        "ind_rare = get_rare_words_examples(test_sents,senti)"
      ],
      "execution_count": null,
      "outputs": []
    },
    {
      "cell_type": "code",
      "metadata": {
        "id": "9i1j5WdmlOfq"
      },
      "source": [
        "test_sents_rare = np.array(test_sents)[ind_rare]\r\n",
        "test_labels_rare = (data_manager.get_labels(TEST))[ind_rare]"
      ],
      "execution_count": null,
      "outputs": []
    },
    {
      "cell_type": "code",
      "metadata": {
        "id": "P6-LzlMjlOfr"
      },
      "source": [
        "inp_rare = []\r\n",
        "labels_rare = []\r\n",
        "for i in range(len(test_sents_rare)):\r\n",
        "  inp_rare.append(average_one_hots(test_sents_rare[i],word_to_ind_dct))\r\n",
        "  labels_rare.append(test_labels_rare[i])"
      ],
      "execution_count": null,
      "outputs": []
    },
    {
      "cell_type": "code",
      "metadata": {
        "id": "TAVCNIX9lOfr"
      },
      "source": [
        "input_x_rare = torch.tensor(inp_rare)\r\n",
        "out_rare = model(input_x_rare)"
      ],
      "execution_count": null,
      "outputs": []
    },
    {
      "cell_type": "code",
      "metadata": {
        "colab": {
          "base_uri": "https://localhost:8080/"
        },
        "id": "J_oELaVjlOfs",
        "outputId": "f7aff061-60c7-41a0-c50f-b484bce2639f"
      },
      "source": [
        "prob_rare  =  nn.Sigmoid()(out_rare)\r\n",
        "acc_sub_rare = binary_accuracy(prob_rare,labels_rare)\r\n",
        "print(\"Rare words Accuracy is \",acc_sub_rare)"
      ],
      "execution_count": null,
      "outputs": [
        {
          "output_type": "stream",
          "text": [
            "Rare words Accuracy is  0.4\n"
          ],
          "name": "stdout"
        }
      ]
    },
    {
      "cell_type": "markdown",
      "metadata": {
        "id": "rm0647Q9cMSq"
      },
      "source": [
        "# Building the Word2Vec log-linear model"
      ]
    },
    {
      "cell_type": "markdown",
      "metadata": {
        "id": "nSLVZAy7-tVr"
      },
      "source": [
        "In order to load these embeddings, we've provided you with the method\r\n",
        "𝑐𝑟𝑒𝑎𝑡𝑒_𝑜𝑟_𝑙𝑜𝑎𝑑_𝑠𝑙𝑖𝑚_𝑤2𝑣(). Loading the embeddings might take a considerable amount\r\n",
        "of time, that can be spared by saving the dictionary mapping the known words in the corpus\r\n",
        "to their embeddings locally."
      ]
    },
    {
      "cell_type": "markdown",
      "metadata": {
        "id": "2phPbPmZAZ-I"
      },
      "source": [
        "Implement the\r\n",
        "method𝑔𝑒𝑡_𝑤2𝑣_𝑎𝑣𝑒𝑟𝑎𝑔𝑒(𝑠𝑒𝑛𝑡, 𝑤𝑜𝑟𝑑_𝑡𝑜_𝑣𝑒𝑐, 𝑒𝑚𝑏𝑒𝑑𝑑𝑖𝑛𝑔_𝑑𝑖𝑚).\r\n",
        "This method returns the average Word2Vec embedding of the given sentence.\r\n",
        "(average without the unknowns)."
      ]
    },
    {
      "cell_type": "code",
      "metadata": {
        "id": "oVA70Ky9AwUX"
      },
      "source": [
        "def get_w2v_average(sent, word_to_vec, embedding_dim):\r\n",
        "    \"\"\"\r\n",
        "    This method gets a sentence and returns the average word embedding of the words consisting\r\n",
        "    the sentence.\r\n",
        "    :param sent: the sentence object\r\n",
        "    :param word_to_vec: a dictionary mapping words to their vector embeddings\r\n",
        "    :param embedding_dim: the dimension of the word embedding vectors\r\n",
        "    :return The average embedding vector as numpy ndarray.\r\n",
        "    \"\"\"\r\n",
        "    sum_vec = np.zeros(embedding_dim)\r\n",
        "    for word in sent.text:\r\n",
        "      if word in word_to_vec.keys():\r\n",
        "        sum_vec = sum_vec + word_to_vec[word]\r\n",
        "    avg_vec = sum_vec  / len(sent.text)\r\n",
        "    return avg_vec"
      ],
      "execution_count": null,
      "outputs": []
    },
    {
      "cell_type": "markdown",
      "metadata": {
        "id": "Az-uAj3hBtpx"
      },
      "source": [
        "Implement the method 𝑡𝑟𝑎𝑖𝑛_log _𝑙𝑖𝑛𝑒𝑎𝑟_𝑤𝑖𝑡ℎ_𝑤2𝑣(). This method should create all the objects needed for the training process, and run the training process.\r\n",
        "\r\n",
        "Each embedding is a\r\n",
        "vector 𝑒 ∈ ℝ300\r\n",
        ". Note that not all words in our corpus will have a matching embedding.\r\n"
      ]
    },
    {
      "cell_type": "code",
      "metadata": {
        "id": "ox8vnkmQB1pt"
      },
      "source": [
        "def train_log_linear_with_w2v():\r\n",
        "    \"\"\"\r\n",
        "    Here comes your code for training and evaluation of the log linear model with word embeddings\r\n",
        "    representation.\r\n",
        "    \"\"\"\r\n",
        "    embedding_dim = 300\r\n",
        "    data_manager = DataManager(batch_size=64, data_type = W2V_AVERAGE, embedding_dim=embedding_dim)\r\n",
        "    embedding_dim = data_manager.get_input_shape()[0]\r\n",
        "    model = LogLinear(embedding_dim)\r\n",
        "    results = train_model(model, data_manager, n_epochs = 20, lr = 0.01, weight_decay = 0.0001)\r\n",
        "    return results"
      ],
      "execution_count": null,
      "outputs": []
    },
    {
      "cell_type": "markdown",
      "metadata": {
        "id": "JKJi-mUlo9x8"
      },
      "source": [
        "## Results"
      ]
    },
    {
      "cell_type": "code",
      "metadata": {
        "colab": {
          "base_uri": "https://localhost:8080/"
        },
        "id": "NvUNMFRxC90Z",
        "outputId": "3d6d4286-bd4c-459c-d60f-cda883fa461c"
      },
      "source": [
        "w2vec_res = train_log_linear_with_w2v()"
      ],
      "execution_count": null,
      "outputs": [
        {
          "output_type": "stream",
          "text": [
            "Train loss at step 0: 0.4051810950544773\n",
            "Train accuracy at step 0: 0.8301862212276215\n",
            "Validation loss at step 0: 0.48106410305927233\n",
            "Validation accuracy at step 0: 0.78125\n",
            "******************************************************\n",
            "Train loss at step 1: 0.367133510623756\n",
            "Train accuracy at step 1: 0.8463035485933503\n",
            "Validation loss at step 1: 0.47798528409935265\n",
            "Validation accuracy at step 1: 0.7763671875\n",
            "******************************************************\n",
            "Train loss at step 2: 0.36484118184142117\n",
            "Train accuracy at step 2: 0.8474896099744246\n",
            "Validation loss at step 2: 0.47313179126450033\n",
            "Validation accuracy at step 2: 0.779296875\n",
            "******************************************************\n",
            "Train loss at step 3: 0.36437718864649854\n",
            "Train accuracy at step 3: 0.8474096867007672\n",
            "Validation loss at step 3: 0.4743247232793023\n",
            "Validation accuracy at step 3: 0.7763671875\n",
            "******************************************************\n",
            "Train loss at step 4: 0.3638314944400665\n",
            "Train accuracy at step 4: 0.8479835358056266\n",
            "Validation loss at step 4: 0.4697350461377563\n",
            "Validation accuracy at step 4: 0.7734375\n",
            "******************************************************\n",
            "Train loss at step 5: 0.36406975114719664\n",
            "Train accuracy at step 5: 0.8472666240409207\n",
            "Validation loss at step 5: 0.47031285347525126\n",
            "Validation accuracy at step 5: 0.7802734375\n",
            "******************************************************\n",
            "Train loss at step 6: 0.36395411211469575\n",
            "Train accuracy at step 6: 0.8474872122762148\n",
            "Validation loss at step 6: 0.4830676103334325\n",
            "Validation accuracy at step 6: 0.775390625\n",
            "******************************************************\n",
            "Train loss at step 7: 0.36391769936912716\n",
            "Train accuracy at step 7: 0.8475567455242967\n",
            "Validation loss at step 7: 0.47531983180384196\n",
            "Validation accuracy at step 7: 0.7724609375\n",
            "******************************************************\n",
            "Train loss at step 8: 0.3641783846640807\n",
            "Train accuracy at step 8: 0.8472730179028133\n",
            "Validation loss at step 8: 0.47668250616585384\n",
            "Validation accuracy at step 8: 0.7763671875\n",
            "******************************************************\n",
            "Train loss at step 9: 0.3638617856553912\n",
            "Train accuracy at step 9: 0.8480514705882353\n",
            "Validation loss at step 9: 0.4755624952114979\n",
            "Validation accuracy at step 9: 0.76953125\n",
            "******************************************************\n",
            "Train loss at step 10: 0.3638887710807791\n",
            "Train accuracy at step 10: 0.8473905051150895\n",
            "Validation loss at step 10: 0.4712841680102082\n",
            "Validation accuracy at step 10: 0.7734375\n",
            "******************************************************\n",
            "Train loss at step 11: 0.36391798265734926\n",
            "Train accuracy at step 11: 0.8480210997442454\n",
            "Validation loss at step 11: 0.4704252422297532\n",
            "Validation accuracy at step 11: 0.77734375\n",
            "******************************************************\n",
            "Train loss at step 12: 0.3639049136388467\n",
            "Train accuracy at step 12: 0.8481178069053709\n",
            "Validation loss at step 12: 0.4702573014586973\n",
            "Validation accuracy at step 12: 0.7880859375\n",
            "******************************************************\n",
            "Train loss at step 13: 0.36388197972324454\n",
            "Train accuracy at step 13: 0.8483927429667519\n",
            "Validation loss at step 13: 0.4680013436826789\n",
            "Validation accuracy at step 13: 0.77734375\n",
            "******************************************************\n",
            "Train loss at step 14: 0.36396988074845027\n",
            "Train accuracy at step 14: 0.8476558503836317\n",
            "Validation loss at step 14: 0.47270452068562185\n",
            "Validation accuracy at step 14: 0.7763671875\n",
            "******************************************************\n",
            "Train loss at step 15: 0.363875346195331\n",
            "Train accuracy at step 15: 0.8474536445012788\n",
            "Validation loss at step 15: 0.4708861882382305\n",
            "Validation accuracy at step 15: 0.7802734375\n",
            "******************************************************\n",
            "Train loss at step 16: 0.36397276833722775\n",
            "Train accuracy at step 16: 0.8477893222506393\n",
            "Validation loss at step 16: 0.4753237096802932\n",
            "Validation accuracy at step 16: 0.7802734375\n",
            "******************************************************\n",
            "Train loss at step 17: 0.36378580640940905\n",
            "Train accuracy at step 17: 0.8467846867007672\n",
            "Validation loss at step 17: 0.48032393703876\n",
            "Validation accuracy at step 17: 0.7763671875\n",
            "******************************************************\n",
            "Train loss at step 18: 0.3638409890722304\n",
            "Train accuracy at step 18: 0.8473073849104859\n",
            "Validation loss at step 18: 0.47424432524018423\n",
            "Validation accuracy at step 18: 0.7744140625\n",
            "******************************************************\n",
            "Train loss at step 19: 0.36392043276893626\n",
            "Train accuracy at step 19: 0.8473569373401535\n",
            "Validation loss at step 19: 0.47727509229037357\n",
            "Validation accuracy at step 19: 0.779296875\n",
            "******************************************************\n"
          ],
          "name": "stdout"
        }
      ]
    },
    {
      "cell_type": "markdown",
      "metadata": {
        "id": "QaOqjM-Rot0D"
      },
      "source": [
        "## Plots"
      ]
    },
    {
      "cell_type": "code",
      "metadata": {
        "colab": {
          "base_uri": "https://localhost:8080/",
          "height": 581
        },
        "id": "4mXjuTk7ot0F",
        "outputId": "e907f0d1-e619-4ea5-83b0-976d8a4397b4"
      },
      "source": [
        "plot_results_graph(w2vec_res[:4])"
      ],
      "execution_count": null,
      "outputs": [
        {
          "output_type": "display_data",
          "data": {
            "image/png": "[encoded data removed]",
            "text/plain": [
              "<Figure size 432x288 with 1 Axes>"
            ]
          },
          "metadata": {
            "tags": []
          }
        },
        {
          "output_type": "display_data",
          "data": {
            "image/png": "[encoded data removed]",
            "text/plain": [
              "<Figure size 432x288 with 1 Axes>"
            ]
          },
          "metadata": {
            "tags": []
          }
        }
      ]
    },
    {
      "cell_type": "markdown",
      "metadata": {
        "id": "8cIaAQaUpEhX"
      },
      "source": [
        "## The test accuracy and loss\r\n"
      ]
    },
    {
      "cell_type": "code",
      "metadata": {
        "id": "CDNHSrFRpEhY"
      },
      "source": [
        "w2v_model = w2vec_res[4]\r\n",
        "criterion = nn.BCEWithLogitsLoss()\r\n",
        "embedding_dim = 300\r\n",
        "w2v_data_manager = DataManager(batch_size=64, data_type = W2V_AVERAGE, embedding_dim=embedding_dim)\r\n",
        "\r\n",
        "w2v_acc_test, w2v_loss_test = evaluate(w2v_model, w2v_data_manager.get_torch_iterator(TEST), criterion)\r\n"
      ],
      "execution_count": null,
      "outputs": []
    },
    {
      "cell_type": "code",
      "metadata": {
        "colab": {
          "base_uri": "https://localhost:8080/"
        },
        "id": "K0kw8aDDpEhZ",
        "outputId": "28d5d9fe-c417-48c3-f049-8e312d266b03"
      },
      "source": [
        "print(\"Word2Vec Test accuracy is \",w2v_acc_test,\" Word2Vec Test loss is \",w2v_loss_test)"
      ],
      "execution_count": null,
      "outputs": [
        {
          "output_type": "stream",
          "text": [
            "Word2Vec Test accuracy is  0.83203125  Word2Vec Test loss is  0.4129860132257997\n"
          ],
          "name": "stdout"
        }
      ]
    },
    {
      "cell_type": "markdown",
      "metadata": {
        "id": "xVBuCqa3qQow"
      },
      "source": [
        "## Special Subsets"
      ]
    },
    {
      "cell_type": "code",
      "metadata": {
        "id": "bWtgKgPDqQ5E"
      },
      "source": [
        "test_sents = dataset.get_test_set()\r\n",
        "words_list = list(w2v_data_manager.sentiment_dataset.get_word_counts().keys())\r\n",
        "word_to_vec = create_or_load_slim_w2v(words_list)"
      ],
      "execution_count": null,
      "outputs": []
    },
    {
      "cell_type": "markdown",
      "metadata": {
        "id": "RBL40DfVqQ5J"
      },
      "source": [
        "### Negated polarity"
      ]
    },
    {
      "cell_type": "code",
      "metadata": {
        "id": "XMjUKe_yqQ5J"
      },
      "source": [
        "ind = get_negated_polarity_examples(test_sents)\r\n",
        "test_sents_nagated = np.array(test_sents)[ind]\r\n",
        "test_labels_nagated = (w2v_data_manager.get_labels(TEST))[ind]\r\n",
        "inp = []\r\n",
        "labels = []\r\n",
        "for i in range(len(test_sents_nagated)):\r\n",
        "  inp.append(get_w2v_average(test_sents_nagated[i],word_to_vec,300))\r\n",
        "  labels.append(test_labels_nagated[i])"
      ],
      "execution_count": null,
      "outputs": []
    },
    {
      "cell_type": "code",
      "metadata": {
        "id": "q7kkiHrDqQ5M"
      },
      "source": [
        "input_x = torch.tensor(inp)\r\n",
        "out = w2v_model(input_x)"
      ],
      "execution_count": null,
      "outputs": []
    },
    {
      "cell_type": "code",
      "metadata": {
        "colab": {
          "base_uri": "https://localhost:8080/"
        },
        "id": "Ioftxx2XqQ5N",
        "outputId": "a409323e-48eb-4b0c-8670-3e898046d372"
      },
      "source": [
        "prob  =  nn.Sigmoid()(out)\r\n",
        "acc_sub = binary_accuracy(prob,labels)\r\n",
        "print(\"Word2Vec Nagated Polarity Accuracy is \",acc_sub)"
      ],
      "execution_count": null,
      "outputs": [
        {
          "output_type": "stream",
          "text": [
            "Word2Vec Nagated Polarity Accuracy is  0.5806451612903226\n"
          ],
          "name": "stdout"
        }
      ]
    },
    {
      "cell_type": "markdown",
      "metadata": {
        "id": "5wxAw-3GsorJ"
      },
      "source": [
        "### Rare words"
      ]
    },
    {
      "cell_type": "code",
      "metadata": {
        "id": "H2LKDtwHsorl"
      },
      "source": [
        "senti = SentimentTreeBank()\r\n",
        "ind_rare = get_rare_words_examples(test_sents,senti)\r\n",
        "test_sents_rare = np.array(test_sents)[ind_rare]\r\n",
        "test_labels_rare = (w2v_data_manager.get_labels(TEST))[ind_rare]"
      ],
      "execution_count": null,
      "outputs": []
    },
    {
      "cell_type": "code",
      "metadata": {
        "id": "TwqpXGU6soro"
      },
      "source": [
        "inp_rare = []\r\n",
        "labels_rare = []\r\n",
        "for i in range(len(test_sents_rare)):\r\n",
        "  inp_rare.append(get_w2v_average(test_sents_rare[i],word_to_vec,300))\r\n",
        "  labels_rare.append(test_labels_rare[i])"
      ],
      "execution_count": null,
      "outputs": []
    },
    {
      "cell_type": "code",
      "metadata": {
        "id": "DvoWkULYsorp"
      },
      "source": [
        "input_x_rare = torch.tensor(inp_rare)\r\n",
        "out_rare = w2v_model(input_x_rare)"
      ],
      "execution_count": null,
      "outputs": []
    },
    {
      "cell_type": "code",
      "metadata": {
        "colab": {
          "base_uri": "https://localhost:8080/"
        },
        "id": "j5MWRnpFsorp",
        "outputId": "b8451d35-ac5a-470b-c8eb-ffc5a2aa2ecc"
      },
      "source": [
        "prob_rare  =  nn.Sigmoid()(out_rare)\r\n",
        "acc_sub_rare = binary_accuracy(prob_rare,labels_rare)\r\n",
        "print(\"Word2Vec Rare words Accuracy is \",acc_sub_rare)"
      ],
      "execution_count": null,
      "outputs": [
        {
          "output_type": "stream",
          "text": [
            "Word2Vec Rare words Accuracy is  0.78\n"
          ],
          "name": "stdout"
        }
      ]
    },
    {
      "cell_type": "markdown",
      "metadata": {
        "id": "3Mhhd_a4x4UG"
      },
      "source": [
        "# Building the LSTM model\r\n"
      ]
    },
    {
      "cell_type": "markdown",
      "metadata": {
        "id": "SFsUz0ROvaID"
      },
      "source": [
        "Implement the class 𝐿𝑆𝑇𝑀. \r\n",
        "We will also use dropout regularization over the input to the linear layer for\r\n",
        "training.\r\n",
        "\r\n",
        "\r\n",
        "In this model, each LSTM cell will receive as input the Word2Vec embedding of a word in the\r\n",
        "input sentence. We will then take the two hidden states of the LSTM layer (the last hidden\r\n",
        "state of both directions of the bi-LSTM layer) – and concatenate them. Later, we will put this\r\n",
        "concatenation through a linear layer and finally output the sigmoid of the result\r\n",
        "(representing again 𝑝(𝑦 = 𝑝𝑜𝑠𝑖𝑡𝑖𝑣𝑒|𝑥)) The dimension of the cell and hidden states of the\r\n",
        "LSTM will be 100.\r\n"
      ]
    },
    {
      "cell_type": "code",
      "metadata": {
        "id": "nY9O-_a3uieK"
      },
      "source": [
        "class LSTM(nn.Module):\r\n",
        "    \"\"\"\r\n",
        "    An LSTM for sentiment analysis with architecture as described in the exercise description.\r\n",
        "    \"\"\"\r\n",
        "    def __init__(self, embedding_dim, hidden_dim, n_layers, dropout):\r\n",
        "        super().__init__()\r\n",
        "        self.lstm = nn.LSTM(embedding_dim, hidden_dim, n_layers,  bidirectional=True, batch_first=True)\r\n",
        "        self.dropout = nn.Dropout(dropout)\r\n",
        "        self.linear = nn.Linear(in_features=hidden_dim * 2, out_features=1)\r\n",
        "\r\n",
        "    def forward(self, x):\r\n",
        "        output, (hidden, cell) = self.lstm(x)\r\n",
        "        cat = torch.cat((hidden[-2, :, :], hidden[-1, :, :]), dim=1)\r\n",
        "        h2 = self.dropout(cat)\r\n",
        "        out = self.linear(h2)\r\n",
        "        return out\r\n",
        "\r\n",
        "    def predict(self, text):\r\n",
        "      out = self.forward(text)\r\n",
        "      pred = nn.Sigmoid()(out)\r\n",
        "      return pred"
      ],
      "execution_count": null,
      "outputs": []
    },
    {
      "cell_type": "markdown",
      "metadata": {
        "id": "guBzg0eQymof"
      },
      "source": [
        "Implement the method\r\n",
        "𝑠𝑒𝑛𝑡𝑒𝑛𝑐𝑒_𝑡𝑜_𝑒𝑚𝑏𝑒𝑑𝑑𝑖𝑛𝑔(𝑠𝑒𝑛𝑡, 𝑤𝑜𝑟𝑑_𝑡𝑜_𝑣𝑒𝑐, 𝑠𝑒𝑞_𝑙𝑒𝑛, 𝑒𝑚𝑒𝑑𝑑𝑖𝑛𝑔_𝑑𝑖𝑚). This\r\n",
        "methods purpose is to map the given sentence to its word embeddings.\r\n",
        "\r\n",
        "\r\n",
        "*  For all sentences with More than 10 words: we will map each of their first 10 words to their embeddings, and ignore all other words.\r\n",
        "\r\n",
        "*   For all sentences with Less than 10 words: we will map each of their 𝑥 words to their embeddings. These embeddings should be followed by 10 − 𝑥 more 0-vectors, in order to make sure the sentence is of length 10.\r\n",
        "\r\n",
        "*   For all sentences with exactly 10 words: We will map each of its 10 words to its embedding."
      ]
    },
    {
      "cell_type": "code",
      "metadata": {
        "id": "9iRRLr9vz5uz"
      },
      "source": [
        "def sentence_to_embedding(sent, word_to_vec, seq_len, embedding_dim=300):\r\n",
        "    \"\"\"\r\n",
        "    this method gets a sentence and a word to vector mapping, and returns a list containing the\r\n",
        "    words embeddings of the tokens in the sentence.\r\n",
        "    :param sent: a sentence object\r\n",
        "    :param word_to_vec: a word to vector mapping.\r\n",
        "    :param seq_len: the fixed length for which the sentence will be mapped to.\r\n",
        "    :param embedding_dim: the dimension of the w2v embedding\r\n",
        "    :return: numpy ndarray of shape (seq_len, embedding_dim) with the representation of the sentence\r\n",
        "    \"\"\"\r\n",
        "    sent_rep = []\r\n",
        "    sent_txt = sent.text\r\n",
        "    num_of_words = len(sent_txt)\r\n",
        "    num_of_words_dct = 0\r\n",
        "    for i in range(num_of_words):\r\n",
        "      word = sent_txt[i]\r\n",
        "      if i<seq_len and word in word_to_vec.keys():\r\n",
        "        num_of_words_dct = num_of_words_dct + 1\r\n",
        "        vec = word_to_vec[word]\r\n",
        "        sent_rep.append(vec)\r\n",
        "    if num_of_words_dct < seq_len:\r\n",
        "      l = seq_len - num_of_words_dct\r\n",
        "      for i in range(l):\r\n",
        "        sent_rep.append(np.zeros(embedding_dim))\r\n",
        "    return np.array(sent_rep)"
      ],
      "execution_count": null,
      "outputs": []
    },
    {
      "cell_type": "markdown",
      "metadata": {
        "id": "ltXqlcet4tGw"
      },
      "source": [
        "Implement the method 𝑡𝑟𝑎𝑖𝑛_lstm _𝑤𝑖𝑡ℎ_𝑤2𝑣(). This method should create all the\r\n",
        "objects needed for the training process, and run the training process.\r\n",
        "Train the model once with learning rate 0.001, weight decay value of 0.0001,\r\n",
        "dropout probability of 0.5 and the same batch size as before for 4 epochs. "
      ]
    },
    {
      "cell_type": "code",
      "metadata": {
        "id": "CTv7NFaa4waZ"
      },
      "source": [
        "def train_lstm_with_w2v():\r\n",
        "    \"\"\"\r\n",
        "    Here comes your code for training and evaluation of the LSTM model.\r\n",
        "    \"\"\"\r\n",
        "    n_epochs = 4\r\n",
        "    batch_size = 64\r\n",
        "    lr = 0.001\r\n",
        "    weight_decay = 0.0001\r\n",
        "\r\n",
        "    # Model Params\r\n",
        "    hidden_dim = 100\r\n",
        "    dropout = 0.5\r\n",
        "\r\n",
        "    data_manager = DataManager(batch_size=batch_size, data_type=W2V_SEQUENCE, embedding_dim=300)\r\n",
        "    model = LSTM(300, hidden_dim, 1, dropout)\r\n",
        "    results = train_model(model, data_manager, n_epochs, lr, weight_decay)\r\n",
        "    return results"
      ],
      "execution_count": null,
      "outputs": []
    },
    {
      "cell_type": "markdown",
      "metadata": {
        "id": "MxtyhQ0FFMul"
      },
      "source": [
        "## Results"
      ]
    },
    {
      "cell_type": "markdown",
      "metadata": {
        "id": "c4y03U4MF02h"
      },
      "source": [
        "### Sequence length is 20"
      ]
    },
    {
      "cell_type": "code",
      "metadata": {
        "colab": {
          "base_uri": "https://localhost:8080/"
        },
        "id": "xTYgTcKID7Kn",
        "outputId": "a3f7937f-8a5d-4f9c-cd90-1d6bf3e451a6"
      },
      "source": [
        "lstm_seq_20 = train_lstm_with_w2v()"
      ],
      "execution_count": null,
      "outputs": [
        {
          "output_type": "stream",
          "text": [
            "Train loss at step 0: 0.35604295471843755\n",
            "Train accuracy at step 0: 0.8430754475703325\n",
            "Validation loss at step 0: 0.5258807306890728\n",
            "Validation accuracy at step 0: 0.751953125\n",
            "******************************************************\n",
            "Train loss at step 1: 0.2932067983803828\n",
            "Train accuracy at step 1: 0.8746667199488491\n",
            "Validation loss at step 1: 0.49966859389986135\n",
            "Validation accuracy at step 1: 0.751953125\n",
            "******************************************************\n",
            "Train loss at step 2: 0.26768023990603756\n",
            "Train accuracy at step 2: 0.8883519820971867\n",
            "Validation loss at step 2: 0.46525806845161366\n",
            "Validation accuracy at step 2: 0.7919921875\n",
            "******************************************************\n",
            "Train loss at step 3: 0.24567087420250233\n",
            "Train accuracy at step 3: 0.8995700127877239\n",
            "Validation loss at step 3: 0.5145324360906942\n",
            "Validation accuracy at step 3: 0.7822265625\n",
            "******************************************************\n"
          ],
          "name": "stdout"
        }
      ]
    },
    {
      "cell_type": "markdown",
      "metadata": {
        "id": "RBbZU4SpM3wh"
      },
      "source": [
        "### Sequence length is 32"
      ]
    },
    {
      "cell_type": "code",
      "metadata": {
        "colab": {
          "base_uri": "https://localhost:8080/"
        },
        "id": "zrKKJl8tMuOG",
        "outputId": "9af7b7dc-da45-4bbf-d6c8-d55bab9e5bf3"
      },
      "source": [
        "lstm_seq_32 = train_lstm_with_w2v()"
      ],
      "execution_count": null,
      "outputs": [
        {
          "output_type": "stream",
          "text": [
            "Train loss at step 0: 0.352086534596786\n",
            "Train accuracy at step 0: 0.8451270780051151\n",
            "Validation loss at step 0: 0.49869523934220955\n",
            "Validation accuracy at step 0: 0.791015625\n",
            "******************************************************\n",
            "Train loss at step 1: 0.28696392215414224\n",
            "Train accuracy at step 1: 0.8805666560102302\n",
            "Validation loss at step 1: 0.4773885226887768\n",
            "Validation accuracy at step 1: 0.7998046875\n",
            "******************************************************\n",
            "Train loss at step 2: 0.2584168787228665\n",
            "Train accuracy at step 2: 0.8933895460358057\n",
            "Validation loss at step 2: 0.47498453172545096\n",
            "Validation accuracy at step 2: 0.810546875\n",
            "******************************************************\n",
            "Train loss at step 3: 0.23628832576772152\n",
            "Train accuracy at step 3: 0.906891783887468\n",
            "Validation loss at step 3: 0.522963797164515\n",
            "Validation accuracy at step 3: 0.7880859375\n",
            "******************************************************\n"
          ],
          "name": "stdout"
        }
      ]
    },
    {
      "cell_type": "markdown",
      "metadata": {
        "id": "vszNWiLwKXoM"
      },
      "source": [
        "### Sequence length is 52"
      ]
    },
    {
      "cell_type": "code",
      "metadata": {
        "colab": {
          "base_uri": "https://localhost:8080/"
        },
        "id": "IqqnM-SFhfnX",
        "outputId": "000b3939-84cf-47c8-ef9e-6156ba23d6fc"
      },
      "source": [
        "lstm_results_52 = train_lstm_with_w2v()"
      ],
      "execution_count": 56,
      "outputs": [
        {
          "output_type": "stream",
          "text": [
            "Train loss at step 0: 0.3520374596992698\n",
            "Train accuracy at step 0: 0.8456841432225064\n",
            "Validation loss at step 0: 0.4783625059837162\n",
            "Validation accuracy at step 0: 0.787109375\n",
            "******************************************************\n",
            "Train loss at step 1: 0.2865587948044336\n",
            "Train accuracy at step 1: 0.8804803388746802\n",
            "Validation loss at step 1: 0.42314603312470245\n",
            "Validation accuracy at step 1: 0.814453125\n",
            "******************************************************\n",
            "Train loss at step 2: 0.2586218493073524\n",
            "Train accuracy at step 2: 0.8941504156010232\n",
            "Validation loss at step 2: 0.47259406907007084\n",
            "Validation accuracy at step 2: 0.8173828125\n",
            "******************************************************\n",
            "Train loss at step 3: 0.2351364572024203\n",
            "Train accuracy at step 3: 0.9052221867007674\n",
            "Validation loss at step 3: 0.49627036357702003\n",
            "Validation accuracy at step 3: 0.8115234375\n",
            "******************************************************\n"
          ],
          "name": "stdout"
        }
      ]
    },
    {
      "cell_type": "markdown",
      "metadata": {
        "id": "dRVlKs5OQPp4"
      },
      "source": [
        "### Sequence Length is 64"
      ]
    },
    {
      "cell_type": "code",
      "metadata": {
        "colab": {
          "base_uri": "https://localhost:8080/"
        },
        "id": "Czvk_jVoQIVn",
        "outputId": "59c16ab1-522e-442c-a002-589ec48c97bb"
      },
      "source": [
        "lstm_seq_64 = train_lstm_with_w2v()"
      ],
      "execution_count": null,
      "outputs": [
        {
          "output_type": "stream",
          "text": [
            "Train loss at step 0: 0.3490762190332737\n",
            "Train accuracy at step 0: 0.8484966432225064\n",
            "Validation loss at step 0: 0.4513231769745259\n",
            "Validation accuracy at step 0: 0.7998046875\n",
            "******************************************************\n",
            "Train loss at step 1: 0.2840374072997076\n",
            "Train accuracy at step 1: 0.8807688618925832\n",
            "Validation loss at step 1: 0.47060095792016127\n",
            "Validation accuracy at step 1: 0.8125\n",
            "******************************************************\n",
            "Train loss at step 2: 0.2571684357515822\n",
            "Train accuracy at step 2: 0.8950879156010231\n",
            "Validation loss at step 2: 0.4503984437554597\n",
            "Validation accuracy at step 2: 0.80859375\n",
            "******************************************************\n",
            "Train loss at step 3: 0.23517394110803916\n",
            "Train accuracy at step 3: 0.9064226342710997\n",
            "Validation loss at step 3: 0.4519706577353222\n",
            "Validation accuracy at step 3: 0.8251953125\n",
            "******************************************************\n"
          ],
          "name": "stdout"
        }
      ]
    },
    {
      "cell_type": "markdown",
      "metadata": {
        "id": "5JNinW00JElS"
      },
      "source": [
        "## Plots"
      ]
    },
    {
      "cell_type": "markdown",
      "metadata": {
        "id": "ufDmJPYzMjIZ"
      },
      "source": [
        "### Sequence length is 20"
      ]
    },
    {
      "cell_type": "code",
      "metadata": {
        "colab": {
          "base_uri": "https://localhost:8080/",
          "height": 581
        },
        "id": "otnU44QfMZi5",
        "outputId": "a7c2d46a-98fc-4e55-e384-2d08996e5378"
      },
      "source": [
        "plot_results_graph(lstm_seq_20[:4])"
      ],
      "execution_count": null,
      "outputs": [
        {
          "output_type": "display_data",
          "data": {
            "image/png": "[encoded data removed]",
            "text/plain": [
              "<Figure size 432x288 with 1 Axes>"
            ]
          },
          "metadata": {
            "tags": []
          }
        },
        {
          "output_type": "display_data",
          "data": {
            "image/png": "[encoded data removed]",
            "text/plain": [
              "<Figure size 432x288 with 1 Axes>"
            ]
          },
          "metadata": {
            "tags": []
          }
        }
      ]
    },
    {
      "cell_type": "markdown",
      "metadata": {
        "id": "ExB_yd7x00Rk"
      },
      "source": [
        "### Sequence length is 32"
      ]
    },
    {
      "cell_type": "code",
      "metadata": {
        "colab": {
          "base_uri": "https://localhost:8080/",
          "height": 581
        },
        "id": "gfzkX1DU00R7",
        "outputId": "1bf826a1-8681-408f-d742-79d037f9bb98"
      },
      "source": [
        "plot_results_graph(lstm_seq_32[:4])"
      ],
      "execution_count": 65,
      "outputs": [
        {
          "output_type": "display_data",
          "data": {
            "image/png": "[encoded data removed]",
            "text/plain": [
              "<Figure size 432x288 with 1 Axes>"
            ]
          },
          "metadata": {
            "tags": []
          }
        },
        {
          "output_type": "display_data",
          "data": {
            "image/png": "[encoded data removed]",
            "text/plain": [
              "<Figure size 432x288 with 1 Axes>"
            ]
          },
          "metadata": {
            "tags": []
          }
        }
      ]
    },
    {
      "cell_type": "markdown",
      "metadata": {
        "id": "KeziBHY9Mm9L"
      },
      "source": [
        "### Sequence length is 52"
      ]
    },
    {
      "cell_type": "code",
      "metadata": {
        "colab": {
          "base_uri": "https://localhost:8080/",
          "height": 581
        },
        "id": "kWvHIqDLmsBq",
        "outputId": "05c1e531-6a0f-45f8-9b26-7c454730d916"
      },
      "source": [
        "plot_results_graph(lstm_results_52[:4])"
      ],
      "execution_count": 59,
      "outputs": [
        {
          "output_type": "display_data",
          "data": {
            "image/png": "[encoded data removed]",
            "text/plain": [
              "<Figure size 432x288 with 1 Axes>"
            ]
          },
          "metadata": {
            "tags": []
          }
        },
        {
          "output_type": "display_data",
          "data": {
            "image/png": "[encoded data removed]",
            "text/plain": [
              "<Figure size 432x288 with 1 Axes>"
            ]
          },
          "metadata": {
            "tags": []
          }
        }
      ]
    },
    {
      "cell_type": "markdown",
      "metadata": {
        "id": "loEh_tBi06Li"
      },
      "source": [
        "### Sequence length is 64"
      ]
    },
    {
      "cell_type": "code",
      "metadata": {
        "colab": {
          "base_uri": "https://localhost:8080/",
          "height": 581
        },
        "id": "-vRQ21vi06Lj",
        "outputId": "fdc59657-504d-40c6-e9cd-9ccbd2ac6d4f"
      },
      "source": [
        "plot_results_graph(lstm_seq_64[:4])"
      ],
      "execution_count": 66,
      "outputs": [
        {
          "output_type": "display_data",
          "data": {
            "image/png": "[encoded data removed]",
            "text/plain": [
              "<Figure size 432x288 with 1 Axes>"
            ]
          },
          "metadata": {
            "tags": []
          }
        },
        {
          "output_type": "display_data",
          "data": {
            "image/png": "[encoded data removed]",
            "text/plain": [
              "<Figure size 432x288 with 1 Axes>"
            ]
          },
          "metadata": {
            "tags": []
          }
        }
      ]
    },
    {
      "cell_type": "markdown",
      "metadata": {
        "id": "1si06P_AJRgv"
      },
      "source": [
        "## The test accuracy and loss\r\n"
      ]
    },
    {
      "cell_type": "code",
      "metadata": {
        "id": "4_QZ3fQ8UB_B"
      },
      "source": [
        "def calc_test_acc(model):\r\n",
        "  criterion = nn.BCEWithLogitsLoss()\r\n",
        "  embedding_dim = 300\r\n",
        "  lstm_data_manager = DataManager(batch_size=64, data_type = W2V_SEQUENCE, embedding_dim=embedding_dim)\r\n",
        "  lstm_acc_test, lstm_loss_test = evaluate(lstm_model, lstm_data_manager.get_torch_iterator(TEST), criterion)\r\n",
        "  return lstm_acc_test, lstm_loss_test"
      ],
      "execution_count": null,
      "outputs": []
    },
    {
      "cell_type": "markdown",
      "metadata": {
        "id": "8AGi8-DedG5Q"
      },
      "source": [
        "### Sequence length is 20"
      ]
    },
    {
      "cell_type": "code",
      "metadata": {
        "colab": {
          "base_uri": "https://localhost:8080/"
        },
        "id": "mY9BIePpUgyO",
        "outputId": "8b872bb6-d5f2-459c-e09f-77eb076bb191"
      },
      "source": [
        "lstm_model = lstm_seq_20[4]\r\n",
        "lstm_acc_test, lstm_loss_test = calc_test_acc(lstm_model)\r\n",
        "print(\"LSTM Test accuracy is \",lstm_acc_test,\" LSTM Test loss is \",lstm_loss_test)"
      ],
      "execution_count": null,
      "outputs": [
        {
          "output_type": "stream",
          "text": [
            "LSTM Test accuracy is  0.859375  LSTM Test loss is  0.32823483225138084\n"
          ],
          "name": "stdout"
        }
      ]
    },
    {
      "cell_type": "markdown",
      "metadata": {
        "id": "f7v01QN6dDsI"
      },
      "source": [
        "### Sequence length is 32"
      ]
    },
    {
      "cell_type": "code",
      "metadata": {
        "colab": {
          "base_uri": "https://localhost:8080/"
        },
        "id": "jmSXI-xcUygQ",
        "outputId": "6276faa3-d3c3-4ee0-fff3-2ddaecfcec6e"
      },
      "source": [
        "lstm_model = lstm_seq_32[4]\r\n",
        "lstm_acc_test, lstm_loss_test = calc_test_acc(lstm_model)\r\n",
        "print(\"LSTM Test accuracy is \",lstm_acc_test,\" LSTM Test loss is \",lstm_loss_test)"
      ],
      "execution_count": null,
      "outputs": [
        {
          "output_type": "stream",
          "text": [
            "LSTM Test accuracy is  0.8671875  LSTM Test loss is  0.34282757189356355\n"
          ],
          "name": "stdout"
        }
      ]
    },
    {
      "cell_type": "markdown",
      "metadata": {
        "id": "S9zyCNVTUZCw"
      },
      "source": [
        "### Sequence length is 52"
      ]
    },
    {
      "cell_type": "code",
      "metadata": {
        "id": "oWX9-iEPJRgw"
      },
      "source": [
        "lstm_model = lstm_results_52[4]\r\n",
        "lstm_acc_test, lstm_loss_test = calc_test_acc(lstm_model)"
      ],
      "execution_count": 60,
      "outputs": []
    },
    {
      "cell_type": "code",
      "metadata": {
        "colab": {
          "base_uri": "https://localhost:8080/"
        },
        "id": "kbrGrcP8q3bX",
        "outputId": "e001d1aa-12a2-4cd2-d2e7-cf157bf035bf"
      },
      "source": [
        "print(\"LSTM Test accuracy is \",lstm_acc_test,\" LSTM Test loss is \",lstm_loss_test)"
      ],
      "execution_count": 61,
      "outputs": [
        {
          "output_type": "stream",
          "text": [
            "LSTM Test accuracy is  0.8603515625  LSTM Test loss is  0.3571062292517848\n"
          ],
          "name": "stdout"
        }
      ]
    },
    {
      "cell_type": "markdown",
      "metadata": {
        "id": "oI-6Nsb1c_yJ"
      },
      "source": [
        "### Sequence length is 64"
      ]
    },
    {
      "cell_type": "code",
      "metadata": {
        "colab": {
          "base_uri": "https://localhost:8080/"
        },
        "id": "1drs0H1UU0tp",
        "outputId": "b2240ddb-e999-4689-b040-2728c65e559e"
      },
      "source": [
        "lstm_model = lstm_seq_64[4]\r\n",
        "lstm_acc_test, lstm_loss_test = calc_test_acc(lstm_model)\r\n",
        "print(\"LSTM Test accuracy is \",lstm_acc_test,\" LSTM Test loss is \",lstm_loss_test)"
      ],
      "execution_count": null,
      "outputs": [
        {
          "output_type": "stream",
          "text": [
            "LSTM Test accuracy is  0.8623046875  LSTM Test loss is  0.3200442953718826\n"
          ],
          "name": "stdout"
        }
      ]
    },
    {
      "cell_type": "markdown",
      "metadata": {
        "id": "oHiQZRlTK5BE"
      },
      "source": [
        "## Special Subsets"
      ]
    },
    {
      "cell_type": "code",
      "metadata": {
        "id": "4VQye3l-K5BS"
      },
      "source": [
        "test_sents = dataset.get_test_set()\r\n",
        "w2v_data_manager = DataManager(batch_size=64, data_type = W2V_SEQUENCE, embedding_dim=300)\r\n",
        "words_list = list(w2v_data_manager.sentiment_dataset.get_word_counts().keys())\r\n",
        "word_to_vec = create_or_load_slim_w2v(words_list)"
      ],
      "execution_count": null,
      "outputs": []
    },
    {
      "cell_type": "markdown",
      "metadata": {
        "id": "Apj6mktlK5BT"
      },
      "source": [
        "### Negated polarity"
      ]
    },
    {
      "cell_type": "code",
      "metadata": {
        "id": "3kx-W4ATXgH-"
      },
      "source": [
        "def calc_acc_negated(lstm_model):\r\n",
        "  ind = get_negated_polarity_examples(test_sents)\r\n",
        "  test_sents_nagated = np.array(test_sents)[ind]\r\n",
        "  test_labels_nagated = (w2v_data_manager.get_labels(TEST))[ind]\r\n",
        "  inp = []\r\n",
        "  labels = []\r\n",
        "  for i in range(len(test_sents_nagated)):\r\n",
        "    inp.append(sentence_to_embedding(test_sents_nagated[i],word_to_vec,SEQ_LEN))\r\n",
        "    labels.append(test_labels_nagated[i])\r\n",
        "  input_x = torch.tensor(inp)\r\n",
        "  out = lstm_model(input_x)\r\n",
        "  prob  =  nn.Sigmoid()(out)\r\n",
        "  acc_sub = binary_accuracy(prob,labels)\r\n",
        "  print(\"LSTM Nagated Polarity Accuracy is \",acc_sub)"
      ],
      "execution_count": null,
      "outputs": []
    },
    {
      "cell_type": "markdown",
      "metadata": {
        "id": "NG2r6NH-wScK"
      },
      "source": [
        "### Sequence length is 20"
      ]
    },
    {
      "cell_type": "code",
      "metadata": {
        "colab": {
          "base_uri": "https://localhost:8080/"
        },
        "id": "XtjQ7_EIX9Sz",
        "outputId": "c6c7617e-1275-46de-89fd-3939ca103bc2"
      },
      "source": [
        "calc_acc_negated(lstm_seq_20[4])"
      ],
      "execution_count": null,
      "outputs": [
        {
          "output_type": "stream",
          "text": [
            "LSTM Nagated Polarity Accuracy is  0.5967741935483871\n"
          ],
          "name": "stdout"
        }
      ]
    },
    {
      "cell_type": "markdown",
      "metadata": {
        "id": "W4qjT_ChwRBl"
      },
      "source": [
        "### Sequence length is 32"
      ]
    },
    {
      "cell_type": "code",
      "metadata": {
        "colab": {
          "base_uri": "https://localhost:8080/"
        },
        "id": "umHhLFJjaJLt",
        "outputId": "36f86ae7-4b5a-43b3-fb10-5ec0f573a5a6"
      },
      "source": [
        "calc_acc_negated(lstm_seq_32[4])"
      ],
      "execution_count": null,
      "outputs": [
        {
          "output_type": "stream",
          "text": [
            "LSTM Nagated Polarity Accuracy is  0.6290322580645161\n"
          ],
          "name": "stdout"
        }
      ]
    },
    {
      "cell_type": "markdown",
      "metadata": {
        "id": "XX1JKrftaRx3"
      },
      "source": [
        "### Sequence length is 52"
      ]
    },
    {
      "cell_type": "code",
      "metadata": {
        "colab": {
          "base_uri": "https://localhost:8080/"
        },
        "id": "SxAlQDfqrCUt",
        "outputId": "d39aa9f4-c826-4a81-d98c-80672dc97637"
      },
      "source": [
        "calc_acc_negated(lstm_results_52[4])"
      ],
      "execution_count": 64,
      "outputs": [
        {
          "output_type": "stream",
          "text": [
            "LSTM Nagated Polarity Accuracy is  0.7096774193548387\n"
          ],
          "name": "stdout"
        }
      ]
    },
    {
      "cell_type": "markdown",
      "metadata": {
        "id": "GahP4GmMwPZo"
      },
      "source": [
        "### Sequence length is 64"
      ]
    },
    {
      "cell_type": "code",
      "metadata": {
        "colab": {
          "base_uri": "https://localhost:8080/"
        },
        "id": "aac5uUPsaM6P",
        "outputId": "3480ab46-bec6-43aa-fc59-332e532cb4f9"
      },
      "source": [
        "calc_acc_negated(lstm_seq_64[4])"
      ],
      "execution_count": null,
      "outputs": [
        {
          "output_type": "stream",
          "text": [
            "LSTM Nagated Polarity Accuracy is  0.6774193548387096\n"
          ],
          "name": "stdout"
        }
      ]
    },
    {
      "cell_type": "markdown",
      "metadata": {
        "id": "2iLSSUG7K5BV"
      },
      "source": [
        "### Rare words"
      ]
    },
    {
      "cell_type": "code",
      "metadata": {
        "id": "kP42VC5wabC2"
      },
      "source": [
        "def calc_acc_rare(lstm_model):\r\n",
        "  senti = SentimentTreeBank()\r\n",
        "  ind_rare = get_rare_words_examples(test_sents,senti)\r\n",
        "  test_sents_rare = np.array(test_sents)[ind_rare]\r\n",
        "  test_labels_rare = (w2v_data_manager.get_labels(TEST))[ind_rare]\r\n",
        "  inp_rare = []\r\n",
        "  labels_rare = []\r\n",
        "  for i in range(len(test_sents_rare)):\r\n",
        "    inp_rare.append(sentence_to_embedding(test_sents_rare[i],word_to_vec,SEQ_LEN))\r\n",
        "    labels_rare.append(test_labels_rare[i])\r\n",
        "  input_x_rare = torch.tensor(inp_rare)\r\n",
        "  out_rare = lstm_model(input_x_rare)\r\n",
        "  prob_rare  =  nn.Sigmoid()(out_rare)\r\n",
        "  acc_sub_rare = binary_accuracy(prob_rare,labels_rare)\r\n",
        "  print(\"LSTM Rare words Accuracy is \",acc_sub_rare)"
      ],
      "execution_count": null,
      "outputs": []
    },
    {
      "cell_type": "markdown",
      "metadata": {
        "id": "D6JEddw4wH9w"
      },
      "source": [
        "### Sequence length is 20"
      ]
    },
    {
      "cell_type": "code",
      "metadata": {
        "colab": {
          "base_uri": "https://localhost:8080/"
        },
        "id": "m-07ZGYhK5BW",
        "outputId": "57fb0e1c-f077-41d2-f6c2-2ded92bbf628"
      },
      "source": [
        "calc_acc_rare(lstm_seq_20[4])"
      ],
      "execution_count": null,
      "outputs": [
        {
          "output_type": "stream",
          "text": [
            "LSTM Rare words Accuracy is  0.78\n"
          ],
          "name": "stdout"
        }
      ]
    },
    {
      "cell_type": "markdown",
      "metadata": {
        "id": "s8SW1sNxwLFv"
      },
      "source": [
        "### Sequence length is 32"
      ]
    },
    {
      "cell_type": "code",
      "metadata": {
        "colab": {
          "base_uri": "https://localhost:8080/"
        },
        "id": "wrk5GDC8bWlX",
        "outputId": "76692020-eca8-4fcf-f036-82aa687395c5"
      },
      "source": [
        "calc_acc_rare(lstm_seq_32[4])"
      ],
      "execution_count": null,
      "outputs": [
        {
          "output_type": "stream",
          "text": [
            "LSTM Rare words Accuracy is  0.84\n"
          ],
          "name": "stdout"
        }
      ]
    },
    {
      "cell_type": "markdown",
      "metadata": {
        "id": "qS6HIIzCwEZd"
      },
      "source": [
        "### Sequence length is 52"
      ]
    },
    {
      "cell_type": "code",
      "metadata": {
        "colab": {
          "base_uri": "https://localhost:8080/"
        },
        "id": "ZNF0PRh2K5BW",
        "outputId": "dffbcb8c-97cc-4da0-e103-2bb11b1b42c1"
      },
      "source": [
        "calc_acc_rare(lstm_results_52[4])"
      ],
      "execution_count": 58,
      "outputs": [
        {
          "output_type": "stream",
          "text": [
            "LSTM Rare words Accuracy is  0.82\n"
          ],
          "name": "stdout"
        }
      ]
    },
    {
      "cell_type": "markdown",
      "metadata": {
        "id": "bv_OxWelwFEU"
      },
      "source": [
        "### Sequence length is 64"
      ]
    },
    {
      "cell_type": "code",
      "metadata": {
        "colab": {
          "base_uri": "https://localhost:8080/"
        },
        "id": "eHcJ7PFZbjCj",
        "outputId": "5c080448-f401-4dc5-a407-a98cb139a0de"
      },
      "source": [
        "calc_acc_rare(lstm_seq_64[4])"
      ],
      "execution_count": null,
      "outputs": [
        {
          "output_type": "stream",
          "text": [
            "LSTM Rare words Accuracy is  0.8\n"
          ],
          "name": "stdout"
        }
      ]
    },
    {
      "cell_type": "markdown",
      "metadata": {
        "id": "_8lu8HsGF761"
      },
      "source": [
        "# Comparing the different models"
      ]
    },
    {
      "cell_type": "markdown",
      "metadata": {
        "id": "-KW1yU7wF_SL"
      },
      "source": [
        "1. Compare the results (test accuracy, validation accuracy) you've received for the\r\n",
        "simple log-linear model, and the Word2Vec log-linear model. Which one performs\r\n",
        "better? Provide a possible explanation for the results you have."
      ]
    },
    {
      "cell_type": "markdown",
      "metadata": {
        "id": "O9MvyZlMGqcj"
      },
      "source": [
        "Test Accuracy \r\n",
        "\r\n",
        "\r\n",
        "*   Log-linear model : 0.667\r\n",
        "*   Word2Vec Log-linear model : 0.832\r\n",
        "\r\n",
        "\r\n",
        "Validation Accuracy\r\n",
        "*   Log-linear model : 0.674\r\n",
        "*   Word2Vec Log-linear model : 0.779\r\n",
        "\r\n",
        "As we can see the Word2Vec model had better performances, it generalizes better when checking accuracy of sentences from the test set and validation set.\r\n",
        "\r\n",
        "The reason that the Word2Vec model has higher accuracy, might be that it can capture contextual word-to-word relationships in a multidimensional space. The vectors that represent the words on the vocabulary are learned by understanding the context in which words appear. The result is vectors in which words with similar meanings end up with a similar numerical representation. \r\n",
        "\r\n",
        "One-Hot Encoding is unable to recognize semantics of items, while embeddings reflect words similarity patterns by grouping commonly co-occurring items together in the representation space.\r\n",
        "\r\n",
        "Notice that In one hot encoding representation we have a vector of zeros except for the element at the index representing the corresponding word in the vocabulary. Therefore all the words are independent of each other.\r\n",
        "Using word2vec introduces some dependence of one word on the other words. The words in context of this word would get a greater share of this dependence.\r\n",
        "\r\n"
      ]
    },
    {
      "cell_type": "markdown",
      "metadata": {
        "id": "eAjyMUWg5BZ3"
      },
      "source": [
        "2. Compare the latter results with the results of the LSTM model. Which one performs\r\n",
        "better? Provide an explanation for the results you received."
      ]
    },
    {
      "cell_type": "markdown",
      "metadata": {
        "id": "mK8gm9Ff5vlv"
      },
      "source": [
        "Test Accuracy \r\n",
        "\r\n",
        "\r\n",
        "*   Log-linear model : 0.667\r\n",
        "*   Word2Vec Log-linear model : 0.832\r\n",
        "*   LSTM model : 0.860 \r\n",
        "\r\n",
        "\r\n",
        "Validation Accuracy\r\n",
        "*   Log-linear model : 0.674\r\n",
        "*   Word2Vec Log-linear model : 0.779\r\n",
        "*   LSTM model : 0.811\r\n",
        "\r\n",
        "As we can see, the LSTM model had the highest accuracy compared to the other models.\r\n",
        "\r\n",
        "A possible explanation is that LSTM models can capture long-term dependencies between word sequences. LSTM learns to keep the relevant content of the sentence and forget the non relevant ones based on training. The hidden state holds information on previous data the network has seen before. It can pass relevant information down the long chain of sequences to make predictions. The idea behind bi-directional networks is to capture information of surrounding inputs.\r\n",
        "\r\n",
        "More specifically, in this task we are requested to predict whether a review is positive or negative. In order to make this decision we need to remember important keywords like : 'amazing' or 'boring'. Those words are more meaningful to understand whether a review is positive or negative than words like 'this' or 'in'.\r\n",
        "\r\n"
      ]
    },
    {
      "cell_type": "markdown",
      "metadata": {
        "id": "25GSsSZ2A3Fu"
      },
      "source": [
        "3. Last, compare the results that all the models had on the 2 special subsets of\r\n",
        "sentences we've provided you. For each subset, state the model that has the highest\r\n",
        "result (and the lowest result) and provide a possible explanation for these results."
      ]
    },
    {
      "cell_type": "markdown",
      "metadata": {
        "id": "h_XOCqd_Db9S"
      },
      "source": [
        "1. Negated Subsets\r\n",
        "\r\n",
        "The model that had the higher results is LSTM\r\n",
        "The model that had the lowest results is Log-linear\r\n",
        "\r\n",
        "  *  Log-linear model : 0.564\r\n",
        "  *  Word2Vec Log-linear model : 0.581\r\n",
        "  *  LSTM model : 0.71\r\n",
        "\r\n",
        "2. Rare words\r\n",
        "\r\n",
        "The model that had the higher results is Word2Vec\r\n",
        "The model that had the lowest results is Log-linear\r\n",
        "\r\n",
        "*   Log-linear model : 0.4\r\n",
        "*   Word2Vec Log-linear model : 0.78\r\n",
        "*   LSTM model : 0.82\r\n",
        "\r\n",
        "Negated polarity - all sentences in the test set where the sentiment polarity\r\n",
        "of one of the main sub-phrases in the sentence is opposite of\r\n",
        "the whole sentence sentiment polarity. \r\n",
        "\r\n",
        "The range of the words that are affected by negation words could be different from one sentence to another. For example, in the sentence “The movie was not interesting,” the scope is only the next word after the negation word. But for sentences like “I do not call this film a comedy movie,” the effect of the negation word “not” is until the end of the sentence. The original meaning of the words changes if a positive or negative word falls inside the scope of negation. Moreover, Negation can be explicit or implicit - meaning it carries a negative sentiment, but no negative words are used. Negation can also be morphological where it is either denoted by a prefix (“dis-”, “non-”) or a suffix (“-less”).\r\n",
        "\r\n",
        "Since LSTM remembers the history and learns to keep the relevant content of a sentence, it can identify better negation. In the example we gave it could identify the word 'interesting' as relevant and also the word 'not' so although 'interesting' is a positive word, the word 'not' before it changes the meaning of the whole sentence. Log- linear model that uses one-hot encoder is unable to understand the context of words in sentence, and therefore has poor results.\r\n",
        "\r\n",
        "Rare words - all test sentences ranked by their maximal frequency of a word which has non-neutral sentiment value ,we take the 50 sentences ranked lowest.\r\n",
        " \r\n",
        "LSTM has the highest accuracy when using sentences with rare words.\r\n",
        "Notice that Word2Vec has also high accuracy, and those results improved by Lstm that uses Word2Vec embedding.\r\n",
        " \r\n",
        "Word2Vec is a pre-trained word embedding that can capture the semantic and syntactic meaning of a word as it was trained on large datasets. So Word2Vec generalizes better on rare words.\r\n",
        "When using a one-hot encoder we have a problem of sparsity .Most real-world problems contain a dataset that has a large volume of rare words. The vectors learned from these datasets cannot arrive at the right representation of the word. This is why the log-linear model had poor results when testing on rare words.\r\n",
        " \r\n",
        "Regarding the LSTM model as we mentioned before, it has the ability to choose the relevant words, so this could be the reason why the results improve a bit compared to Word2Vec alone."
      ]
    }
  ]
}