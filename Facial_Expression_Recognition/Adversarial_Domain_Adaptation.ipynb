{
  "nbformat": 4,
  "nbformat_minor": 0,
  "metadata": {
    "colab": {
      "name": "Adversarial Domain Adaptation.ipynb",
      "provenance": [],
      "collapsed_sections": [],
      "toc_visible": true,
      "machine_shape": "hm"
    },
    "kernelspec": {
      "name": "python3",
      "display_name": "Python 3"
    },
    "accelerator": "GPU"
  },
  "cells": [
    {
      "cell_type": "markdown",
      "metadata": {
        "id": "WWk2IKeTCaAq"
      },
      "source": [
        "# Install VGGFACE"
      ]
    },
    {
      "cell_type": "code",
      "metadata": {
        "id": "57CQpjm7OklS",
        "colab": {
          "base_uri": "https://localhost:8080/",
          "height": 274
        },
        "outputId": "8c896e46-0722-4288-812f-1bd15ecbc0e8"
      },
      "source": [
        "pip install keras_vggface"
      ],
      "execution_count": null,
      "outputs": [
        {
          "output_type": "stream",
          "text": [
            "Collecting keras_vggface\n",
            "  Downloading https://files.pythonhosted.org/packages/2f/7d/5f0319ebdc09ac1a2272364fa9583f5067b6f8aff93fbbf8835d81cbaad7/keras_vggface-0.6-py3-none-any.whl\n",
            "Requirement already satisfied: numpy>=1.9.1 in /usr/local/lib/python3.6/dist-packages (from keras_vggface) (1.18.5)\n",
            "Requirement already satisfied: h5py in /usr/local/lib/python3.6/dist-packages (from keras_vggface) (2.10.0)\n",
            "Requirement already satisfied: six>=1.9.0 in /usr/local/lib/python3.6/dist-packages (from keras_vggface) (1.12.0)\n",
            "Requirement already satisfied: scipy>=0.14 in /usr/local/lib/python3.6/dist-packages (from keras_vggface) (1.4.1)\n",
            "Requirement already satisfied: pillow in /usr/local/lib/python3.6/dist-packages (from keras_vggface) (7.0.0)\n",
            "Requirement already satisfied: keras in /usr/local/lib/python3.6/dist-packages (from keras_vggface) (2.3.1)\n",
            "Requirement already satisfied: pyyaml in /usr/local/lib/python3.6/dist-packages (from keras_vggface) (3.13)\n",
            "Requirement already satisfied: keras-preprocessing>=1.0.5 in /usr/local/lib/python3.6/dist-packages (from keras->keras_vggface) (1.1.2)\n",
            "Requirement already satisfied: keras-applications>=1.0.6 in /usr/local/lib/python3.6/dist-packages (from keras->keras_vggface) (1.0.8)\n",
            "Installing collected packages: keras-vggface\n",
            "Successfully installed keras-vggface-0.6\n"
          ],
          "name": "stdout"
        }
      ]
    },
    {
      "cell_type": "markdown",
      "metadata": {
        "id": "O8xYMFHCCfgF"
      },
      "source": [
        "# Mount Drive"
      ]
    },
    {
      "cell_type": "code",
      "metadata": {
        "id": "cxlgU5w6qyJO",
        "colab": {
          "base_uri": "https://localhost:8080/",
          "height": 128
        },
        "outputId": "b5468b11-30d2-4a94-f7bc-1edc00d6648d"
      },
      "source": [
        "from google.colab import drive\n",
        "drive.mount('/content/drive')"
      ],
      "execution_count": null,
      "outputs": [
        {
          "output_type": "stream",
          "text": [
            "Go to this URL in a browser: https://accounts.google.com/o/oauth2/auth?client_id=947318989803-6bn6qk8qdgf4n4g3pfee6491hc0brc4i.apps.googleusercontent.com&redirect_uri=urn%3aietf%3awg%3aoauth%3a2.0%3aoob&response_type=code&scope=email%20https%3a%2f%2fwww.googleapis.com%2fauth%2fdocs.test%20https%3a%2f%2fwww.googleapis.com%2fauth%2fdrive%20https%3a%2f%2fwww.googleapis.com%2fauth%2fdrive.photos.readonly%20https%3a%2f%2fwww.googleapis.com%2fauth%2fpeopleapi.readonly\n",
            "\n",
            "Enter your authorization code:\n",
            "··········\n",
            "Mounted at /content/drive\n"
          ],
          "name": "stdout"
        }
      ]
    },
    {
      "cell_type": "markdown",
      "metadata": {
        "id": "QCAxthiKjwnr"
      },
      "source": [
        "# Augment"
      ]
    },
    {
      "cell_type": "code",
      "metadata": {
        "id": "xD18oqysj0hG"
      },
      "source": [
        "from imgaug import augmenters as iaa\n",
        "from imgaug import seed\n",
        "def aug_training_set_loader(images,labels,inp_dims):\n",
        "    NUM_COPIES = ceil(1000/len(images))\n",
        "    images = np.array(images)\n",
        "    images=augment(inp_dims[0], inp_dims[1], images, NUM_COPIES)\n",
        "    aug_labels =[]\n",
        "    for x in labels:\n",
        "        for i in range(NUM_COPIES+1):  # NUM_COPIES+1-> numbers of augmentations + 1 original\n",
        "            aug_labels.append(x)\n",
        "    images, labels = skshuffle(images, aug_labels)\n",
        "    # images = np.array(images)\n",
        "    images = np.array(images, dtype=\"float\") / 255.0\n",
        "    labels = np.array(labels)\n",
        "    return images, labels\n",
        "\n",
        "def augment(width, height, data, NUM_COPIES):\n",
        "    \"\"\"\n",
        "    preform augmentetion on the list of photos named 'data'\n",
        "    :param width: width of a single photo\n",
        "    :param height: height of a single photo\n",
        "    :param data: a list of photos to augment\n",
        "    :param NUM_COPIES: number of copies produced from the image\n",
        "    :return: a list of photos that consists from the original photos and their augmentations\n",
        "    \"\"\"\n",
        "    augmented_data = []\n",
        "    sometimes = lambda aug: iaa.Sometimes(0.5, aug)\n",
        "    seq = iaa.Sequential([\n",
        "        sometimes(iaa.Sharpen(alpha=(0.0, 1.0), lightness=(0.75, 2.0))),\n",
        "        sometimes(iaa.Fliplr()),  # horizontal flips\n",
        "        sometimes(iaa.AddElementwise((-50, 50))),\n",
        "        sometimes(iaa.Sometimes(0.5, iaa.GaussianBlur(sigma=(0.0, 2.0)))),\n",
        "        sometimes(iaa.ContrastNormalization((0.8, 1.2))),\n",
        "        sometimes(iaa.Multiply((0.8, 1.2), per_channel=0.2)),\n",
        "        sometimes(iaa.Affine(\n",
        "            scale={\"x\": (0.8, 1.2), \"y\": (0.8, 1.2)},\n",
        "            translate_percent={\"x\": (-0.2, 0.2), \"y\": (-0.2, 0.2)},\n",
        "            shear=(-8, 8)\n",
        "        )),\n",
        "        sometimes(iaa.Superpixels(p_replace=0.1, n_segments=150))\n",
        "    ], random_order=True)  # apply augmenters in random order\n",
        "    for img in data:\n",
        "        copies = augment_image(width, height, img, seq, NUM_COPIES)\n",
        "        copies.append(img.reshape(width, height, 3))\n",
        "        for cpy in copies:\n",
        "            augmented_data.append(cpy)\n",
        "    return augmented_data\n",
        "\n",
        "\n",
        "def augment_image(width, height, image, seq, NUM_COPIES):\n",
        "    \"\"\"\n",
        "        augments a single image\n",
        "    :param width: width of the image\n",
        "    :param height: height of the image\n",
        "    :param image: a matrix representing a rgb image\n",
        "    :param seq: the augmantation sequence preformed\n",
        "    :param NUM_COPIES: number of copies produced from the image\n",
        "    :return: a list of all images made from 'image' not including the original\n",
        "    \"\"\"\n",
        "    seed (1)\n",
        "    copies = []\n",
        "    image = image.reshape(width, height, 3)\n",
        "    for i in range(NUM_COPIES):\n",
        "        copies.append(seq.augment_image(image))\n",
        "\n",
        "    return copies"
      ],
      "execution_count": null,
      "outputs": []
    },
    {
      "cell_type": "markdown",
      "metadata": {
        "id": "XqiFjCePj2a1"
      },
      "source": [
        "# Crop"
      ]
    },
    {
      "cell_type": "code",
      "metadata": {
        "id": "oSCoB73kj6ux"
      },
      "source": [
        "import dlib\n",
        "\n",
        "import os\n",
        "import sys\n",
        "import cv2\n",
        "import glob\n",
        "\n",
        "\n",
        "def align_and_crop(detector, im_to_align, predictor_path):\n",
        "    '''\n",
        "    simply aligns the photo (using the detector to identify the eyes) and crops the face.\n",
        "    :param im_to_align: an address of an image\n",
        "    '''\n",
        "\n",
        "    # a shape predictor to find face landmarks so we can precisely localize the face\n",
        "    sp = dlib.shape_predictor(predictor_path)\n",
        "\n",
        "    # Ask the detector to find the bounding boxes of each face. The 1 in the\n",
        "    # second argument indicates that we should upsample the image 1 time.\n",
        "    try:\n",
        "        dets = detector(im_to_align, 1)\n",
        "    except RuntimeError:\n",
        "        return -1\n",
        "\n",
        "    num_faces = len(dets)\n",
        "    if num_faces == 0:\n",
        "        return im_to_align, False\n",
        "\n",
        "    # Find the 5 face landmarks we need to do the alignment.\n",
        "    faces = dlib.full_object_detections()\n",
        "    for detection in dets:\n",
        "        faces.append(sp(im_to_align, detection))\n",
        "\n",
        "    # get a single chip (aligned and cropped)\n",
        "    image = dlib.get_face_chip(im_to_align, faces[0])\n",
        "    # cv2.imshow(\"f\", image) show image for testing\n",
        "    return image, True"
      ],
      "execution_count": null,
      "outputs": []
    },
    {
      "cell_type": "markdown",
      "metadata": {
        "id": "iqYXgaotqk_g"
      },
      "source": [
        "# Build Models"
      ]
    },
    {
      "cell_type": "code",
      "metadata": {
        "id": "Bxcy4fLWqpgf",
        "colab": {
          "base_uri": "https://localhost:8080/",
          "height": 35
        },
        "outputId": "57096e4d-dae0-4e49-bd89-66497622d745"
      },
      "source": [
        "import random\n",
        "import numpy as np\n",
        "from keras.models import Model\n",
        "from keras.applications.resnet50 import ResNet50\n",
        "from keras.layers import Input, Conv2D, MaxPool2D, Flatten, Dense,Reshape\n",
        "from keras.layers import BatchNormalization, Activation, Dropout\n",
        "# from keras_vggface.vggface import VGGFace\n",
        "# from sklearn.preprocessing import LabelEncoder\n",
        "# from sklearn.model_selection import train_test_split\n",
        "from keras_vggface.vggface import VGGFace\n",
        "\n",
        "\n",
        "def build_embedding(param, inp):\n",
        "    network = eval('VGGFace')\n",
        "    base = network(weights = 'vggface', include_top = False)\n",
        "    # base = network(weights = 'imagenet', include_top = False)\n",
        "    feat = base(inp)\n",
        "    print(feat.shape)\n",
        "    flat = Flatten()(feat)\n",
        "    return flat\n",
        "\n",
        "def build_classifier(param, embedding):\n",
        "    flat = Flatten()(embedding.output)\n",
        "\n",
        "    dense1 = Dense(400, name = 'class_dense1')(flat)\n",
        "    bn1 = BatchNormalization(name = 'class_bn1')(dense1)\n",
        "    act1 = Activation('relu', name = 'class_act1')(bn1)\n",
        "    drop2 = Dropout(param[\"drop_classifier\"], name = 'class_drop1')(act1)\n",
        "\n",
        "    dense2 = Dense(100, name = 'class_dense2')(drop2)\n",
        "    bn2 = BatchNormalization(name = 'class_bn2')(dense2)\n",
        "    act2 = Activation('relu', name = 'class_act2')(bn2)\n",
        "    drop2 = Dropout(param[\"drop_classifier\"], name = 'class_drop2')(act2)\n",
        "    \n",
        "    densel = Dense(param[\"number_of_classe\"], name = 'class_dense_last')(drop2)\n",
        "    bnl = BatchNormalization(name = 'class_bn_last')(densel)\n",
        "    actl = Activation('softmax', name = 'class_act_last')(bnl)\n",
        "    return Model(input=embedding, outputs=actl)\n",
        "\n",
        "def build_discriminator(param, embedding):\n",
        "    embedding = Input( embedding_shape )\n",
        "    flat = Flatten()(embedding)\n",
        "    dense1 = Dense(400, name = 'dis_dense1')(flat)\n",
        "    bn1 = BatchNormalization(name='dis_bn1')(dense1)\n",
        "    act1 = Activation('relu', name = 'dis_act1')(bn1)\n",
        "    drop1 = Dropout(param[\"drop_discriminator\"], name = 'dis_drop1')(act1)\n",
        "\n",
        "    dense2 = Dense(100, name = 'dis_dense2')(drop1)\n",
        "    bn2 = BatchNormalization(name='dis_bn2')(dense2)\n",
        "    act2 = Activation('relu', name = 'dis_act2')(bn2)\n",
        "    drop2 = Dropout(param[\"drop_discriminator\"], name = 'dis_drop2')(act2)\n",
        "\n",
        "    densel = Dense(1, name = 'dis_dense_last')(drop2)\n",
        "    bnl = BatchNormalization(name = 'dis_bn_last')(densel)\n",
        "    actl = Activation('sigmoid', name = 'dis_act_last')(bnl)\n",
        "    return Model(input=embedding, outputs=actl)\n",
        "\n",
        "def build_combined_classifier(inp, classifier):\n",
        "    comb_model = Model(inputs = inp, outputs = [classifier])\n",
        "    return comb_model\n",
        "\n",
        "def build_combined_discriminator(inp, discriminator):\n",
        "    comb_model = Model(inputs = inp, outputs = [discriminator])\n",
        "    return comb_model\n",
        "\n",
        "def build_combined_model(inp, comb):\n",
        "    comb_model = Model(inputs = inp, outputs = comb)\n",
        "    return comb_model"
      ],
      "execution_count": null,
      "outputs": [
        {
          "output_type": "stream",
          "text": [
            "Using TensorFlow backend.\n"
          ],
          "name": "stderr"
        }
      ]
    },
    {
      "cell_type": "markdown",
      "metadata": {
        "id": "1DrTIu1SqtIe"
      },
      "source": [
        "# Optimizer"
      ]
    },
    {
      "cell_type": "code",
      "metadata": {
        "id": "ve8K7kUmqu5W"
      },
      "source": [
        "import numpy as np\n",
        "from keras.optimizers import Adam\n",
        "\n",
        "def opt_classifier(param):\n",
        "    return Adam(lr=param[\"lr_classifier\"], beta_1=param[\"b1_classifier\"], beta_2=param[\"b2_classifier\"])\n",
        "\n",
        "def opt_discriminator(param):\n",
        "    return Adam(lr=param[\"lr_discriminator\"], beta_1=param[\"b1_discriminator\"], beta_2=param[\"b2_discriminator\"])\n",
        "\n",
        "def opt_combined(param):\n",
        "    return Adam(lr=param[\"lr_combined\"], beta_1=param[\"b1_combined\"], beta_2=param[\"b2_combined\"])\n"
      ],
      "execution_count": null,
      "outputs": []
    },
    {
      "cell_type": "markdown",
      "metadata": {
        "id": "YHRxvLjYqwvG"
      },
      "source": [
        "# Load Data"
      ]
    },
    {
      "cell_type": "code",
      "metadata": {
        "id": "JwuSxj4hW9vo"
      },
      "source": [
        "SEED = 7\n",
        "import os\n",
        "import sys\n",
        "import argparse\n",
        "import random\n",
        "import numpy as np\n",
        "from tensorflow.compat.v1 import set_random_seed\n",
        "from sklearn.model_selection import train_test_split\n",
        "from sklearn import metrics\n",
        "from plotnine import *\n",
        "import pandas as pd\n",
        "                \n",
        "from sklearn.model_selection import train_test_split\n",
        "import matplotlib.pyplot as plt\n",
        "from math import ceil\n",
        "from sklearn.utils import shuffle as skshuffle\n",
        "\n",
        "from imutils import paths\n",
        "from sklearn.preprocessing import LabelEncoder\n",
        "\n",
        "os.environ['PYTHONHASHSEED']=str(SEED)\n",
        "np.random.seed(SEED)\n",
        "set_random_seed(SEED)\n",
        "random.seed(SEED)\n",
        "\n",
        "from PIL import Image\n",
        "from keras.utils import to_categorical\n",
        "from keras.layers import Input\n",
        "from keras.optimizers import Adam\n",
        "from keras.utils import multi_gpu_model\n",
        "from sklearn.metrics import accuracy_score\n",
        "\n",
        "\n",
        "def pil_loader(path):\n",
        "    # Return the RGB variant of input image\n",
        "    with open(path, 'rb') as f:\n",
        "      with Image.open(f) as img:\n",
        "        return img.convert('RGB')\n",
        "\n",
        "def one_hot_encoding(param):\n",
        "    lb = LabelEncoder()\n",
        "    source_labels,target_labels  = lb.fit_transform( param[\"source_label\"]),lb.fit_transform( param[\"target_label\"])\n",
        "    param[\"number_of_classe\"] = len(lb.classes_)\n",
        "    source_labels,target_labels = to_categorical(source_labels),to_categorical(target_labels)\n",
        "    return source_labels,target_labels\n",
        "            \n",
        "def data_loader(filepath, inp_dims):\n",
        "    # Load images and corresponding labels from the text file, stack them in numpy arrays and return\n",
        "    img = []\n",
        "    label = []\n",
        "    detector = dlib.get_frontal_face_detector()\n",
        "    predictor = \"drive/My Drive/final_proj_dataset/shape_predictor_5_face_landmarks.dat\"\n",
        "    # grab the image paths\n",
        "    imagePaths = sorted(list(paths.list_images(filepath)))\n",
        "    print(imagePaths)\n",
        "    # loop over the input images\n",
        "    for imagePath in imagePaths:\n",
        "        # extract the class label from the image path and update the\n",
        "        # labels list\n",
        "        l = imagePath.split(os.path.sep)[-2]\n",
        "        label.append(l)\n",
        "        i = pil_loader(imagePath)\n",
        "        i = i.resize((inp_dims[0], inp_dims[1]), Image.ANTIALIAS)\n",
        "        frame_1 = align_and_crop(detector, np.array(i), predictor)[0]\n",
        "        frame_1 = cv2.resize(frame_1,(inp_dims[0], inp_dims[1]))\n",
        "        img.append(frame_1)\n",
        "    img = np.array(img)\n",
        "    label = np.array(label)\n",
        "    return img, label\n",
        "    \n",
        "\n",
        "def batch_generator(data, batch_size):\n",
        "    #Generate batches of data.\n",
        "    all_examples_indices = len(data[0])\n",
        "    while True:\n",
        "        mini_batch_indices = np.random.choice(all_examples_indices, size = batch_size, replace = False)\n",
        "        tbr = [k[mini_batch_indices] for k in data]\n",
        "        yield tbr\n"
      ],
      "execution_count": null,
      "outputs": []
    },
    {
      "cell_type": "code",
      "metadata": {
        "id": "lE5GvMe6AsOX"
      },
      "source": [
        "def train(param):\n",
        "    models = {}\n",
        "    inp = Input(shape = (param[\"inp_dims\"]))\n",
        "    embedding = build_embedding(param, inp) \n",
        "    # embedding = build_embedding(param)   \n",
        "    \n",
        "    # Build and compile the discriminator\n",
        "    discriminator = build_discriminator(param, embedding)\n",
        "\n",
        "    # The discriminator takes the representaton as input and determines the domain\n",
        "    models[\"combined_discriminator\"] = Model(inputs=inp, outputs=discriminator(embedding))\n",
        "    models[\"combined_discriminator\"].compile(optimizer = opt_discriminator(param), loss = 'binary_crossentropy', metrics = ['accuracy'])\n",
        "    # For the combined model we will only train the generator\n",
        "    discriminator.trainable = False\n",
        "  \n",
        "    # # Build the classifier\n",
        "    classifier = build_classifier(param, embedding)\n",
        "    models['combined_classifier'] = Model(inputs=inp, outputs=classifier(embedding))\n",
        "    models[\"combined_classifier\"].compile(optimizer = opt_classifier(param), loss = 'categorical_crossentropy', metrics = ['accuracy'])\n",
        "   \n",
        "    models[\"combined_model\"] = build_combined_model(inp, [classifier(embedding), discriminator(embedding)]) \n",
        "    models[\"combined_model\"].compile(optimizer = opt_combined(param), loss = ['categorical_crossentropy', 'binary_crossentropy'] , loss_weights =  [param[\"class_loss_weight\"],  param[\"dis_loss_weight\"]], metrics = ['accuracy'])\n",
        "\n",
        "    models[\"combined_classifier\"].summary()\n",
        "    models[\"combined_discriminator\"].summary()\n",
        "    models[\"combined_model\"].summary()\n",
        "\n",
        "    Xs, ys = param[\"source_data\"], param[\"source_label\"]\n",
        "    Xt, yt = param[\"target_data\"], param[\"target_label\"]\n",
        "\n",
        "    Xt, Xt_test, yt, yt_test = train_test_split(Xt, yt, test_size=0.2, random_state=42)\n",
        "    Xs, Xs_test, ys, ys_test = train_test_split(Xs, ys, test_size=0.2, random_state=42)\n",
        "    \n",
        "    Xs, ys = aug_training_set_loader(Xs, ys, param[\"inp_dims\"])\n",
        "    Xt, yt = aug_training_set_loader(Xt, yt, param[\"inp_dims\"])\n",
        "\n",
        "    # Source domain is represented by label 0 and Target by 1\n",
        "    ys_adv = np.array(([0.] * ys.shape[0]))\n",
        "    yt_adv = np.array(([1.] * yt.shape[0]))\n",
        "\n",
        "    y_advb_1 = np.array(([1] * param[\"batch_size\"] + [0] * param[\"batch_size\"])) # For gradient reversal\n",
        "    y_advb_2 = np.array(([0] * param[\"batch_size\"] + [1] * param[\"batch_size\"]))\n",
        "    weight_class = np.array(([1] * param[\"batch_size\"] + [0] * param[\"batch_size\"]))\n",
        "    weight_adv = np.ones((param[\"batch_size\"] * 2,))\n",
        "    S_batches = batch_generator([Xs, ys], param[\"batch_size\"])\n",
        "    T_batches = batch_generator([Xt, np.zeros(shape = (len(Xt),))], param[\"batch_size\"])\n",
        "\n",
        "    param[\"target_accuracy\"] = 0\n",
        "\n",
        "    optim = {}\n",
        "    optim[\"iter\"] = 0\n",
        "    optim[\"acc\"] = \"\"\n",
        "    optim[\"labels\"] = np.array(Xt.shape[0],)\n",
        "    gap_last_snap = 0\n",
        "\n",
        "    acc_source=[]\n",
        "    acc_target=[]\n",
        "    acc_domain_source=[]\n",
        "    acc_domain_target=[]\n",
        "    loss_discriminator = []\n",
        "    loss_classifier_source=[]\n",
        "\n",
        "    t_domain_label = np.ones(( param[\"batch_size\"], 1))\n",
        "    s_domain_label = np.zeros(( param[\"batch_size\"], 1))\n",
        "    for i in range(param[\"num_iterations\"]):        \n",
        "        Xsb, ysb = next(S_batches)\n",
        "        Xtb, ytb = next(T_batches)\n",
        "        X_adv = np.concatenate([Xsb, Xtb])\n",
        "        y_class = np.concatenate([ysb, np.zeros_like(ysb)])\n",
        "\n",
        "        d_loss = models[\"combined_discriminator\"].train_on_batch(X_adv, [y_advb_2])\n",
        "\n",
        "        # Train the generator (wants discriminator to mistake images as real)\n",
        "        g_loss_s = models[\"combined_model\"].train_on_batch(X_adv, [y_class, y_advb_1])\n",
        "\n",
        "        if ((i + 1) % param[\"test_interval\"] == 0):\n",
        "            ys_pred = models[\"combined_classifier\"].predict(Xs)\n",
        "            yt_pred = models[\"combined_classifier\"].predict(Xt)\n",
        "            \n",
        "            ys_adv_pred = models[\"combined_discriminator\"].predict(Xs)\n",
        "            yt_adv_pred = models[\"combined_discriminator\"].predict(Xt)\n",
        "\n",
        "            source_accuracy = accuracy_score(ys.argmax(1), ys_pred.argmax(1))              \n",
        "            target_accuracy = accuracy_score(yt.argmax(1), yt_pred.argmax(1))\n",
        "            source_domain_accuracy = accuracy_score(ys_adv, np.round(ys_adv_pred))              \n",
        "            target_domain_accuracy = accuracy_score(yt_adv, np.round(yt_adv_pred))\n",
        "\n",
        "            acc_source.append(source_accuracy)\n",
        "            acc_target.append(target_accuracy)\n",
        "            acc_domain_source.append(source_domain_accuracy)\n",
        "            acc_domain_target.append(target_domain_accuracy)\n",
        "\n",
        "            loss_discriminator.append(d_loss[1])\n",
        "            loss_classifier_source.append(g_loss[3])\n",
        "\n",
        "            log_str = \"iter: {:05d}: \\nLABEL CLASSIFICATION: source_accuracy: {:.5f}, target_accuracy: {:.5f}\\\n",
        "                    \\nDOMAIN DISCRIMINATION: source_domain_accuracy: {:.5f}, target_domain_accuracy: {:.5f} \\n\"\\\n",
        "                                                         .format(i, source_accuracy*100, target_accuracy*100,\n",
        "                                                      source_domain_accuracy*100, target_domain_accuracy*100)\n",
        "            print(log_str)\n",
        "\n",
        "            if param[\"target_accuracy\"] < target_accuracy:              \n",
        "                optim[\"iter\"] = i\n",
        "                optim[\"acc\"] = log_str\n",
        "                optim[\"labels\"] = ys_pred.argmax(1)\n",
        "                param[\"target_accuracy\"] = target_accuracy\n",
        "    \n",
        "    print(optim[\"iter\"],optim[\"acc\"],optim[\"labels\"])\n",
        "\n",
        "    print(\"Source matrix: \",metrics.confusion_matrix(ys.argmax(1), ys_pred.argmax(1)))\n",
        "    print(\"Target matrix: \",metrics.confusion_matrix(yt.argmax(1), yt_pred.argmax(1)))\n",
        "\n",
        "    ys_test_pred = models[\"combined_classifier\"].predict(Xs_test)\n",
        "    yt_test_pred = models[\"combined_classifier\"].predict(Xt_test)\n",
        "    source_accuracy_test = accuracy_score(ys_test.argmax(1), ys_test_pred.argmax(1))              \n",
        "    target_accuracy_test = accuracy_score(yt_test.argmax(1), yt_test_pred.argmax(1))\n",
        "\n",
        "    print(\"source accuracy test\",source_accuracy_test)\n",
        "    print(\"target accuracy test\",target_accuracy_test)\n",
        "\n",
        "    print(\"Source matrix: \",metrics.confusion_matrix(ys_test.argmax(1), ys_test_pred.argmax(1)))\n",
        "    print(\"Target matrix: \",metrics.confusion_matrix(yt_test.argmax(1), yt_test_pred.argmax(1)))\n",
        "\n",
        "    N = np.arange(0,len(acc_source))\n",
        "\n",
        "    plt.style.use(\"ggplot\")\n",
        "    plt.figure()\n",
        "    plt.plot(N, np.array(acc_source), label=\"Source accuracy\")\n",
        "    plt.plot(N, np.array(acc_target), label=\"Target accuracy\")\n",
        "    plt.plot(N, np.array(acc_domain_source), label=\"Domain Source accuracy\")\n",
        "    plt.plot(N, np.array(acc_domain_target), label=\"Domain Target accuracy\")\n",
        "    plt.title(\"Training Accuracy of Source and Target \")\n",
        "    plt.xlabel(\"Number of intervals\")\n",
        "    plt.ylabel(\"Accuracy\")\n",
        "    plt.legend()\n",
        "    plt.show()\n",
        "\n",
        "    plt.style.use(\"ggplot\")\n",
        "    plt.figure()\n",
        "    plt.plot(N, np.array(loss_classifier_source), label=\"Classifier Loss\")\n",
        "    plt.plot(N, np.array(loss_discriminator), label=\"Discriminator loss\")\n",
        "    plt.title(\"Training Loss of Source and Target \")\n",
        "    plt.xlabel(\"Number of intervals\")\n",
        "    plt.ylabel(\"Loss\")\n",
        "    plt.legend()\n",
        "    plt.show()\n",
        "\n"
      ],
      "execution_count": null,
      "outputs": []
    },
    {
      "cell_type": "markdown",
      "metadata": {
        "id": "ZdnIND2JEHUn"
      },
      "source": [
        "# Main"
      ]
    },
    {
      "cell_type": "code",
      "metadata": {
        "id": "Sq_tQgLEEETm"
      },
      "source": [
        "import argparse\n",
        "if __name__ == \"__main__\":\n",
        "    # Initialize parameters\n",
        "    param = {}\n",
        "    param[\"number_of_gpus\"] = 1\n",
        "    param[\"network_name\"] = 'VGGFace'\n",
        "    param[\"inp_dims\"] = [224, 224, 3]\n",
        "    param[\"num_iterations\"] = 2000\n",
        "    param[\"lr_classifier\"] = 0.0001\n",
        "    param[\"b1_classifier\"] = 0.9\n",
        "    param[\"b2_classifier\"] = 0.999    \n",
        "    param[\"lr_discriminator\"] = 0.00001\n",
        "    param[\"b1_discriminator\"] =  0.9\n",
        "    param[\"b2_discriminator\"] = 0.999\n",
        "    param[\"lr_combined\"] = 0.00001\n",
        "    param[\"b1_combined\"] =  0.9\n",
        "    param[\"b2_combined\"] =  0.999       \n",
        "    param[\"batch_size\"] = int(32/2)\n",
        "    param[\"class_loss_weight\"] = 1\n",
        "    param[\"dis_loss_weight\"] = 4    \n",
        "    param[\"drop_classifier\"] = 0.25\n",
        "    param[\"drop_discriminator\"] = 0.25\n",
        "    param[\"test_interval\"] = 100\n",
        "    param[\"source_path\"] = 'drive/My Drive/pro_data/dataset_shelly'\n",
        "    param[\"target_path\"] = 'drive/My Drive/pro_data/dataset_yerus' \n",
        "    param[\"snapshot_interval\"] = 500\n",
        "    param[\"output_path\"] = 'drive/My Drive/final_proj_dataset/result2'\n",
        "    param[\"number_of_classe\"] = 0\n",
        "\n",
        "    # # Create directory for saving models and log files\n",
        "    if not os.path.exists(param[\"output_path\"]):\n",
        "        os.mkdir(param[\"output_path\"])\n",
        "  \n",
        "   "
      ],
      "execution_count": null,
      "outputs": []
    },
    {
      "cell_type": "code",
      "metadata": {
        "id": "42msC3B1fJoH",
        "colab": {
          "base_uri": "https://localhost:8080/",
          "height": 90
        },
        "outputId": "141d6e27-f2e3-4d51-cbbc-73ba8007f9c7"
      },
      "source": [
        "print(\"[INFO] loading images...\")\n",
        "# Load source and target data\n",
        "param[\"source_data\"], param[\"source_label\"] = data_loader(param[\"source_path\"], param[\"inp_dims\"])\n",
        "print(\"source images loaded\")\n",
        "param[\"target_data\"], param[\"target_label\"] = data_loader(param[\"target_path\"], param[\"inp_dims\"])\n",
        "print(\"target images loaded\")\n",
        "# Encode labels into one-hot format\n",
        "print(\"[INFO] Encode labels into one-hot format\")\n",
        "param[\"source_label\"], param[\"target_label\"] = one_hot_encoding(param)"
      ],
      "execution_count": null,
      "outputs": [
        {
          "output_type": "stream",
          "text": [
            "[INFO] loading images...\n",
            "source images loaded\n",
            "target images loaded\n",
            "[INFO] Encode labels into one-hot format\n"
          ],
          "name": "stdout"
        }
      ]
    },
    {
      "cell_type": "code",
      "metadata": {
        "id": "i1vaKAXuoj3A",
        "colab": {
          "base_uri": "https://localhost:8080/",
          "height": 1000
        },
        "outputId": "d8e43756-4b4a-4658-ffad-2a93209ae437"
      },
      "source": [
        "# Train data\n",
        "print(\"[INFO] training network...\")\n",
        "train(param)"
      ],
      "execution_count": null,
      "outputs": [
        {
          "output_type": "stream",
          "text": [
            "[INFO] training network...\n",
            "(None, 7, 7, 512)\n"
          ],
          "name": "stdout"
        },
        {
          "output_type": "stream",
          "text": [
            "/usr/local/lib/python3.6/dist-packages/ipykernel_launcher.py:82: UserWarning: Update your `Model` call to the Keras 2 API: `Model(outputs=Tensor(\"di..., inputs=Tensor(\"in...)`\n",
            "/usr/local/lib/python3.6/dist-packages/ipykernel_launcher.py:61: UserWarning: Update your `Model` call to the Keras 2 API: `Model(outputs=Tensor(\"cl..., inputs=Tensor(\"in...)`\n"
          ],
          "name": "stderr"
        },
        {
          "output_type": "stream",
          "text": [
            "Model: \"model_38\"\n",
            "_________________________________________________________________\n",
            "Layer (type)                 Output Shape              Param #   \n",
            "=================================================================\n",
            "input_34 (InputLayer)        (None, 224, 224, 3)       0         \n",
            "_________________________________________________________________\n",
            "vggface_vgg16 (Model)        multiple                  14714688  \n",
            "_________________________________________________________________\n",
            "flatten_9 (Flatten)          (None, 25088)             0         \n",
            "_________________________________________________________________\n",
            "model_37 (Model)             multiple                  10077910  \n",
            "=================================================================\n",
            "Total params: 24,792,598\n",
            "Trainable params: 24,791,594\n",
            "Non-trainable params: 1,004\n",
            "_________________________________________________________________\n",
            "Model: \"model_36\"\n",
            "_________________________________________________________________\n",
            "Layer (type)                 Output Shape              Param #   \n",
            "=================================================================\n",
            "input_34 (InputLayer)        (None, 224, 224, 3)       0         \n",
            "_________________________________________________________________\n",
            "vggface_vgg16 (Model)        multiple                  14714688  \n",
            "_________________________________________________________________\n",
            "flatten_9 (Flatten)          (None, 25088)             0         \n",
            "_________________________________________________________________\n",
            "model_35 (Model)             multiple                  10077805  \n",
            "=================================================================\n",
            "Total params: 34,869,296\n",
            "Trainable params: 24,791,491\n",
            "Non-trainable params: 10,077,805\n",
            "_________________________________________________________________\n",
            "Model: \"model_39\"\n",
            "__________________________________________________________________________________________________\n",
            "Layer (type)                    Output Shape         Param #     Connected to                     \n",
            "==================================================================================================\n",
            "input_34 (InputLayer)           (None, 224, 224, 3)  0                                            \n",
            "__________________________________________________________________________________________________\n",
            "vggface_vgg16 (Model)           multiple             14714688    input_34[0][0]                   \n",
            "__________________________________________________________________________________________________\n",
            "flatten_9 (Flatten)             (None, 25088)        0           vggface_vgg16[1][0]              \n",
            "__________________________________________________________________________________________________\n",
            "model_37 (Model)                multiple             10077910    flatten_9[0][0]                  \n",
            "__________________________________________________________________________________________________\n",
            "model_35 (Model)                multiple             10077805    flatten_9[0][0]                  \n",
            "==================================================================================================\n",
            "Total params: 34,870,403\n",
            "Trainable params: 24,791,594\n",
            "Non-trainable params: 10,078,809\n",
            "__________________________________________________________________________________________________\n"
          ],
          "name": "stdout"
        },
        {
          "output_type": "stream",
          "text": [
            "/usr/local/lib/python3.6/dist-packages/keras/engine/training.py:297: UserWarning: Discrepancy between trainable weights and collected trainable weights, did you set `model.trainable` without calling `model.compile` after ?\n",
            "  'Discrepancy between trainable weights and collected trainable'\n"
          ],
          "name": "stderr"
        },
        {
          "output_type": "stream",
          "text": [
            "iter: 00099: \n",
            "LABEL CLASSIFICATION: source_accuracy: 83.00493, target_accuracy: 42.77504                    \n",
            "DOMAIN DISCRIMINATION: source_domain_accuracy: 97.86535, target_domain_accuracy: 18.39080 \n",
            "\n",
            "iter: 00199: \n",
            "LABEL CLASSIFICATION: source_accuracy: 85.96059, target_accuracy: 29.47455                    \n",
            "DOMAIN DISCRIMINATION: source_domain_accuracy: 87.60263, target_domain_accuracy: 2.62726 \n",
            "\n",
            "iter: 00299: \n",
            "LABEL CLASSIFICATION: source_accuracy: 88.58785, target_accuracy: 31.03448                    \n",
            "DOMAIN DISCRIMINATION: source_domain_accuracy: 78.81773, target_domain_accuracy: 0.49261 \n",
            "\n",
            "iter: 00399: \n",
            "LABEL CLASSIFICATION: source_accuracy: 92.11823, target_accuracy: 41.05090                    \n",
            "DOMAIN DISCRIMINATION: source_domain_accuracy: 67.24138, target_domain_accuracy: 1.39573 \n",
            "\n",
            "iter: 00499: \n",
            "LABEL CLASSIFICATION: source_accuracy: 92.69294, target_accuracy: 42.28243                    \n",
            "DOMAIN DISCRIMINATION: source_domain_accuracy: 55.82923, target_domain_accuracy: 6.07553 \n",
            "\n",
            "iter: 00599: \n",
            "LABEL CLASSIFICATION: source_accuracy: 93.76026, target_accuracy: 35.79639                    \n",
            "DOMAIN DISCRIMINATION: source_domain_accuracy: 61.33005, target_domain_accuracy: 4.26929 \n",
            "\n",
            "iter: 00699: \n",
            "LABEL CLASSIFICATION: source_accuracy: 94.58128, target_accuracy: 48.35796                    \n",
            "DOMAIN DISCRIMINATION: source_domain_accuracy: 62.64368, target_domain_accuracy: 4.02299 \n",
            "\n",
            "iter: 00799: \n",
            "LABEL CLASSIFICATION: source_accuracy: 96.55172, target_accuracy: 53.11987                    \n",
            "DOMAIN DISCRIMINATION: source_domain_accuracy: 59.60591, target_domain_accuracy: 5.66502 \n",
            "\n",
            "iter: 00899: \n",
            "LABEL CLASSIFICATION: source_accuracy: 95.89491, target_accuracy: 55.25452                    \n",
            "DOMAIN DISCRIMINATION: source_domain_accuracy: 77.99672, target_domain_accuracy: 1.97044 \n",
            "\n",
            "iter: 00999: \n",
            "LABEL CLASSIFICATION: source_accuracy: 95.81281, target_accuracy: 45.73071                    \n",
            "DOMAIN DISCRIMINATION: source_domain_accuracy: 70.11494, target_domain_accuracy: 7.30706 \n",
            "\n",
            "iter: 01099: \n",
            "LABEL CLASSIFICATION: source_accuracy: 95.15599, target_accuracy: 55.33662                    \n",
            "DOMAIN DISCRIMINATION: source_domain_accuracy: 87.76683, target_domain_accuracy: 1.55993 \n",
            "\n",
            "iter: 01199: \n",
            "LABEL CLASSIFICATION: source_accuracy: 93.43186, target_accuracy: 48.93268                    \n",
            "DOMAIN DISCRIMINATION: source_domain_accuracy: 49.17898, target_domain_accuracy: 6.73235 \n",
            "\n",
            "iter: 01299: \n",
            "LABEL CLASSIFICATION: source_accuracy: 93.76026, target_accuracy: 41.62562                    \n",
            "DOMAIN DISCRIMINATION: source_domain_accuracy: 52.21675, target_domain_accuracy: 5.41872 \n",
            "\n",
            "iter: 01399: \n",
            "LABEL CLASSIFICATION: source_accuracy: 93.67816, target_accuracy: 51.80624                    \n",
            "DOMAIN DISCRIMINATION: source_domain_accuracy: 50.41051, target_domain_accuracy: 2.62726 \n",
            "\n",
            "iter: 01499: \n",
            "LABEL CLASSIFICATION: source_accuracy: 94.66338, target_accuracy: 46.96223                    \n",
            "DOMAIN DISCRIMINATION: source_domain_accuracy: 43.18555, target_domain_accuracy: 2.29885 \n",
            "\n",
            "iter: 01599: \n",
            "LABEL CLASSIFICATION: source_accuracy: 95.64860, target_accuracy: 46.38752                    \n",
            "DOMAIN DISCRIMINATION: source_domain_accuracy: 45.97701, target_domain_accuracy: 0.41051 \n",
            "\n",
            "iter: 01699: \n",
            "LABEL CLASSIFICATION: source_accuracy: 96.38752, target_accuracy: 50.98522                    \n",
            "DOMAIN DISCRIMINATION: source_domain_accuracy: 33.25123, target_domain_accuracy: 1.88834 \n",
            "\n",
            "iter: 01799: \n",
            "LABEL CLASSIFICATION: source_accuracy: 95.07389, target_accuracy: 46.71593                    \n",
            "DOMAIN DISCRIMINATION: source_domain_accuracy: 59.77011, target_domain_accuracy: 0.16420 \n",
            "\n",
            "iter: 01899: \n",
            "LABEL CLASSIFICATION: source_accuracy: 95.48440, target_accuracy: 49.50739                    \n",
            "DOMAIN DISCRIMINATION: source_domain_accuracy: 71.51067, target_domain_accuracy: 0.24631 \n",
            "\n",
            "iter: 01999: \n",
            "LABEL CLASSIFICATION: source_accuracy: 95.32020, target_accuracy: 45.15599                    \n",
            "DOMAIN DISCRIMINATION: source_domain_accuracy: 74.87685, target_domain_accuracy: 0.00000 \n",
            "\n",
            "1099 iter: 01099: \n",
            "LABEL CLASSIFICATION: source_accuracy: 95.15599, target_accuracy: 55.33662                    \n",
            "DOMAIN DISCRIMINATION: source_domain_accuracy: 87.76683, target_domain_accuracy: 1.55993 \n",
            " [0 1 0 ... 0 1 1]\n",
            "Source matrix:  [[589  35]\n",
            " [ 22 572]]\n",
            "Target matrix:  [[338 286]\n",
            " [382 212]]\n",
            "source accuracy test 0.8627450980392157\n",
            "target accuracy test 0.7058823529411765\n",
            "Source matrix:  [[19  4]\n",
            " [ 3 25]]\n",
            "Target matrix:  [[13 10]\n",
            " [ 5 23]]\n"
          ],
          "name": "stdout"
        },
        {
          "output_type": "display_data",
          "data": {
            "image/png": "[encoded data removed]",
            "text/plain": [
              "<Figure size 432x288 with 1 Axes>"
            ]
          },
          "metadata": {
            "tags": []
          }
        }
      ]
    },
    {
      "cell_type": "code",
      "metadata": {
        "id": "Q-om4DDXQRa1"
      },
      "source": [
        ""
      ],
      "execution_count": null,
      "outputs": []
    },
    {
      "cell_type": "markdown",
      "metadata": {
        "id": "XA7HFj4Rzgj0"
      },
      "source": [
        "# Load model"
      ]
    },
    {
      "cell_type": "code",
      "metadata": {
        "id": "EITQL6jazlp8",
        "colab": {
          "base_uri": "https://localhost:8080/",
          "height": 880
        },
        "outputId": "7afec2b3-f923-4208-c06a-5aabe0cf6016"
      },
      "source": [
        "# load and evaluate a saved model\n",
        "from numpy import loadtxt\n",
        "from keras.models import load_model\n",
        "\n",
        "model_path = 'drive/My Drive/final_proj_dataset/result2/model.h5'\n",
        "# load model\n",
        "model = load_model(model_path)\n",
        "# summarize model.\n",
        "model.summary()\n",
        "# load dataset\n",
        "\n",
        "score_Target = model.evaluate(Xs_test, ys_test, verbose=0)\n",
        "print(\"%s: %.2f%%\" % (model.metrics_names[1], score[1]*100))"
      ],
      "execution_count": null,
      "outputs": [
        {
          "output_type": "stream",
          "text": [
            "Model: \"model_1\"\n",
            "_________________________________________________________________\n",
            "Layer (type)                 Output Shape              Param #   \n",
            "=================================================================\n",
            "input_3 (InputLayer)         (None, 224, 224, 3)       0         \n",
            "_________________________________________________________________\n",
            "vggface_vgg16 (Model)        multiple                  14714688  \n",
            "_________________________________________________________________\n",
            "flatten_1 (Flatten)          (None, 25088)             0         \n",
            "_________________________________________________________________\n",
            "class_dense1 (Dense)         (None, 400)               10035600  \n",
            "_________________________________________________________________\n",
            "class_bn1 (BatchNormalizatio (None, 400)               1600      \n",
            "_________________________________________________________________\n",
            "class_act1 (Activation)      (None, 400)               0         \n",
            "_________________________________________________________________\n",
            "class_drop1 (Dropout)        (None, 400)               0         \n",
            "_________________________________________________________________\n",
            "class_dense2 (Dense)         (None, 100)               40100     \n",
            "_________________________________________________________________\n",
            "class_bn2 (BatchNormalizatio (None, 100)               400       \n",
            "_________________________________________________________________\n",
            "class_act2 (Activation)      (None, 100)               0         \n",
            "_________________________________________________________________\n",
            "class_drop2 (Dropout)        (None, 100)               0         \n",
            "_________________________________________________________________\n",
            "class_dense_last (Dense)     (None, 2)                 202       \n",
            "_________________________________________________________________\n",
            "class_bn_last (BatchNormaliz (None, 2)                 8         \n",
            "_________________________________________________________________\n",
            "class_act_last (Activation)  (None, 2)                 0         \n",
            "=================================================================\n",
            "Total params: 24,792,598\n",
            "Trainable params: 24,791,594\n",
            "Non-trainable params: 1,004\n",
            "_________________________________________________________________\n"
          ],
          "name": "stdout"
        },
        {
          "output_type": "error",
          "ename": "NameError",
          "evalue": "ignored",
          "traceback": [
            "\u001b[0;31m---------------------------------------------------------------------------\u001b[0m",
            "\u001b[0;31mNameError\u001b[0m                                 Traceback (most recent call last)",
            "\u001b[0;32m<ipython-input-6-2881547fdbbd>\u001b[0m in \u001b[0;36m<module>\u001b[0;34m()\u001b[0m\n\u001b[1;32m     10\u001b[0m \u001b[0;31m# load dataset\u001b[0m\u001b[0;34m\u001b[0m\u001b[0;34m\u001b[0m\u001b[0;34m\u001b[0m\u001b[0m\n\u001b[1;32m     11\u001b[0m \u001b[0;34m\u001b[0m\u001b[0m\n\u001b[0;32m---> 12\u001b[0;31m \u001b[0mscore_Target\u001b[0m \u001b[0;34m=\u001b[0m \u001b[0mmodel\u001b[0m\u001b[0;34m.\u001b[0m\u001b[0mevaluate\u001b[0m\u001b[0;34m(\u001b[0m\u001b[0mXs_test\u001b[0m\u001b[0;34m,\u001b[0m \u001b[0mys_test\u001b[0m\u001b[0;34m,\u001b[0m \u001b[0mverbose\u001b[0m\u001b[0;34m=\u001b[0m\u001b[0;36m0\u001b[0m\u001b[0;34m)\u001b[0m\u001b[0;34m\u001b[0m\u001b[0;34m\u001b[0m\u001b[0m\n\u001b[0m\u001b[1;32m     13\u001b[0m \u001b[0mprint\u001b[0m\u001b[0;34m(\u001b[0m\u001b[0;34m\"%s: %.2f%%\"\u001b[0m \u001b[0;34m%\u001b[0m \u001b[0;34m(\u001b[0m\u001b[0mmodel\u001b[0m\u001b[0;34m.\u001b[0m\u001b[0mmetrics_names\u001b[0m\u001b[0;34m[\u001b[0m\u001b[0;36m1\u001b[0m\u001b[0;34m]\u001b[0m\u001b[0;34m,\u001b[0m \u001b[0mscore\u001b[0m\u001b[0;34m[\u001b[0m\u001b[0;36m1\u001b[0m\u001b[0;34m]\u001b[0m\u001b[0;34m*\u001b[0m\u001b[0;36m100\u001b[0m\u001b[0;34m)\u001b[0m\u001b[0;34m)\u001b[0m\u001b[0;34m\u001b[0m\u001b[0;34m\u001b[0m\u001b[0m\n",
            "\u001b[0;31mNameError\u001b[0m: name 'Xs_test' is not defined"
          ]
        }
      ]
    },
    {
      "cell_type": "markdown",
      "metadata": {
        "id": "b_dfbPgstK6i"
      },
      "source": [
        "# Only Classifier"
      ]
    },
    {
      "cell_type": "code",
      "metadata": {
        "id": "D16kvdCKtRhD"
      },
      "source": [
        "\n",
        "from keras_vggface.vggface import VGGFace\n",
        "\n",
        "def build_embedding_vgg(param, inp):\n",
        "    network = eval('VGGFace')\n",
        "    base = network(weights = 'vggface', include_top = False)\n",
        "    feat = base(inp)\n",
        "    flat = Flatten()(feat)\n",
        "    return flat\n",
        "\n",
        "def build_classifier_vgg(param, embedding):\n",
        "    dense1 = Dense(400, name = 'class_dense1')(embedding)\n",
        "    bn1 = BatchNormalization(name = 'class_bn1')(dense1)\n",
        "    act1 = Activation('relu', name = 'class_act1')(bn1)\n",
        "    drop2 = Dropout(param[\"drop_classifier\"], name = 'class_drop1')(act1)\n",
        "\n",
        "    dense2 = Dense(100, name = 'class_dense2')(drop2)\n",
        "    bn2 = BatchNormalization(name = 'class_bn2')(dense2)\n",
        "    act2 = Activation('relu', name = 'class_act2')(bn2)\n",
        "    drop2 = Dropout(param[\"drop_classifier\"], name = 'class_drop2')(act2)\n",
        "\n",
        "    densel = Dense(param[\"source_label\"].shape[1], name = 'class_dense_last')(drop2)\n",
        "    bnl = BatchNormalization(name = 'class_bn_last')(densel)\n",
        "    actl = Activation('softmax', name = 'class_act_last')(bnl)\n",
        "    return actl\n",
        "\n",
        "\n",
        "def train_classifier(param):\n",
        "    models = {}\n",
        "    inp = Input(shape = (param[\"inp_dims\"]))\n",
        "    embedding = build_embedding_vgg(param,inp)\n",
        "    classifier = build_classifier_vgg(param, embedding)\n",
        "    \n",
        "    models[\"combined_classifier\"] = Model(inp,classifier)\n",
        "    models[\"combined_classifier\"].compile(optimizer = opt_classifier(param), loss = 'categorical_crossentropy', metrics = ['accuracy'])\n",
        "\n",
        "\n",
        "    Xs, ys = param[\"source_data\"], param[\"source_label\"]\n",
        "    Xt, yt = param[\"target_data\"], param[\"target_label\"]\n",
        "\n",
        "    Xt_train, Xt_test, yt_train, yt_test = train_test_split(Xt, yt, test_size=0.25, random_state=42)\n",
        "    Xs_train, Xs_test, ys_train, ys_test = train_test_split(Xs, ys, test_size=0.25, random_state=42)\n",
        "\n",
        "\n",
        "    S_batches = batch_generator([Xs_train, ys_train], param[\"batch_size\"])\n",
        "    T_batches = batch_generator([Xt_train, np.zeros(shape = (len(Xt_train),))], param[\"batch_size\"])\n",
        "\n",
        "    param[\"target_accuracy\"] = 60\n",
        "\n",
        "    optim = {}\n",
        "    optim[\"iter\"] = 0\n",
        "    optim[\"acc\"] = \"\"\n",
        "    optim[\"labels\"] = np.array(Xt.shape[0],)\n",
        "    gap_last_snap = 0\n",
        "\n",
        "    acc_source=[]\n",
        "    acc_target=[]\n",
        "    acc_domain_source=[]\n",
        "    acc_domain_target=[]\n",
        "\n",
        "    for i in range(param[\"num_iterations\"]):        \n",
        "        Xsb, ysb = next(S_batches)\n",
        "        Xtb, ytb = next(T_batches)\n",
        " \n",
        "\n",
        "        stats1 = models[\"combined_classifier\"].train_on_batch(Xsb, [ysb])\n",
        "\n",
        "        if ((i + 1) % param[\"test_interval\"] == 0):\n",
        "            ys_pred = models[\"combined_classifier\"].predict(Xs_train)\n",
        "            yt_pred = models[\"combined_classifier\"].predict(Xt_train)\n",
        "\n",
        "\n",
        "            source_accuracy = accuracy_score(ys_train.argmax(1), ys_pred.argmax(1))              \n",
        "            target_accuracy = accuracy_score(yt_train.argmax(1), yt_pred.argmax(1))\n",
        "\n",
        "\n",
        "            acc_source.append(source_accuracy)\n",
        "            acc_target.append(target_accuracy)\n",
        "\n",
        "            log_str = \"iter: {:05d}: \\nLABEL CLASSIFICATION: source_accuracy: {:.5f}, target_accuracy: {:.5f}\"\\\n",
        "                                                         .format(i, source_accuracy*100, target_accuracy*100)\n",
        "            print(log_str)\n",
        "\n",
        "            models[\"combined_classifier\"].save('drive/My Drive/final_proj_dataset/result2/model.h5')\n",
        "            \n",
        "\n",
        "    print(\"Source matrix: \",metrics.confusion_matrix(ys_train.argmax(1), ys_pred.argmax(1)))\n",
        "    print(\"Target matrix: \",metrics.confusion_matrix(yt_train.argmax(1), yt_pred.argmax(1)))\n",
        "\n",
        "    ys_test_pred = models[\"combined_classifier\"].predict(Xs_test)\n",
        "    yt_test_pred = models[\"combined_classifier\"].predict(Xt_test)\n",
        "    source_accuracy_test = accuracy_score(ys_test.argmax(1), ys_test_pred.argmax(1))              \n",
        "    target_accuracy_test = accuracy_score(yt_test.argmax(1), yt_test_pred.argmax(1))\n",
        "\n",
        "    print(\"source accuracy test\",source_accuracy_test)\n",
        "    print(\"target accuracy test\",target_accuracy_test)\n",
        "\n",
        "    print(\"Source matrix: \",metrics.confusion_matrix(ys_test.argmax(1), ys_test_pred.argmax(1)))\n",
        "    print(\"Target matrix: \",metrics.confusion_matrix(yt_test.argmax(1), yt_test_pred.argmax(1)))\n",
        "\n",
        "\n",
        "    N = np.arange(0,len(acc_source))\n",
        "\n",
        "    plt.style.use(\"ggplot\")\n",
        "    plt.figure()\n",
        "    plt.plot(N, np.array(acc_source), label=\"Source accuracy\")\n",
        "    plt.plot(N, np.array(acc_target), label=\"Target accuracy\")\n",
        "    plt.title(\"Training Accuracy of Source and Target \")\n",
        "    plt.xlabel(\"Number of iteration\")\n",
        "    plt.ylabel(\"Accuracy\")\n",
        "    plt.legend()\n",
        "    plt.show()\n",
        "\n"
      ],
      "execution_count": null,
      "outputs": []
    },
    {
      "cell_type": "code",
      "metadata": {
        "id": "K6M1ewVXb1w5",
        "colab": {
          "base_uri": "https://localhost:8080/",
          "height": 826
        },
        "outputId": "c9afffee-e9e2-4b24-fd53-3bf9f0a10e3e"
      },
      "source": [
        "train_classifier(param)"
      ],
      "execution_count": null,
      "outputs": [
        {
          "output_type": "stream",
          "text": [
            "(None, 7, 7, 512)\n",
            "iter: 00099: \n",
            "LABEL CLASSIFICATION: source_accuracy: 100.00000, target_accuracy: 55.78947\n",
            "iter: 00199: \n",
            "LABEL CLASSIFICATION: source_accuracy: 100.00000, target_accuracy: 54.21053\n",
            "iter: 00299: \n",
            "LABEL CLASSIFICATION: source_accuracy: 100.00000, target_accuracy: 52.63158\n",
            "iter: 00399: \n",
            "LABEL CLASSIFICATION: source_accuracy: 100.00000, target_accuracy: 53.68421\n",
            "iter: 00499: \n",
            "LABEL CLASSIFICATION: source_accuracy: 100.00000, target_accuracy: 51.57895\n",
            "iter: 00599: \n",
            "LABEL CLASSIFICATION: source_accuracy: 100.00000, target_accuracy: 50.52632\n",
            "iter: 00699: \n",
            "LABEL CLASSIFICATION: source_accuracy: 100.00000, target_accuracy: 52.63158\n",
            "iter: 00799: \n",
            "LABEL CLASSIFICATION: source_accuracy: 100.00000, target_accuracy: 50.52632\n",
            "iter: 00899: \n",
            "LABEL CLASSIFICATION: source_accuracy: 100.00000, target_accuracy: 50.52632\n",
            "iter: 00999: \n",
            "LABEL CLASSIFICATION: source_accuracy: 100.00000, target_accuracy: 53.68421\n",
            "Source matrix:  [[95  0]\n",
            " [ 0 95]]\n",
            "Target matrix:  [[ 9 85]\n",
            " [ 3 93]]\n",
            "source accuracy test 1.0\n",
            "target accuracy test 0.484375\n",
            "Source matrix:  [[32  0]\n",
            " [ 0 32]]\n",
            "Target matrix:  [[ 0 33]\n",
            " [ 0 31]]\n"
          ],
          "name": "stdout"
        },
        {
          "output_type": "display_data",
          "data": {
            "image/png": "[encoded data removed]",
            "text/plain": [
              "<Figure size 432x288 with 1 Axes>"
            ]
          },
          "metadata": {
            "tags": []
          }
        }
      ]
    }
  ]
}